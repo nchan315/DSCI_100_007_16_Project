{
 "cells": [
  {
   "cell_type": "code",
   "execution_count": 18,
   "id": "b59e5970-b25a-4a66-a147-1d1a8d92a512",
   "metadata": {},
   "outputs": [],
   "source": [
    "library(tidyverse)\n",
    "library(repr)\n",
    "library(tidymodels)\n",
    "library(gridExtra)\n",
    "options(repr.matrix.max.rows = 12)"
   ]
  },
  {
   "cell_type": "code",
   "execution_count": 2,
   "id": "52328a61-3e8a-4a61-b279-ecab9a3bdf9e",
   "metadata": {},
   "outputs": [
    {
     "name": "stderr",
     "output_type": "stream",
     "text": [
      "\u001b[1mRows: \u001b[22m\u001b[34m2240\u001b[39m \u001b[1mColumns: \u001b[22m\u001b[34m22\u001b[39m\n",
      "\u001b[36m──\u001b[39m \u001b[1mColumn specification\u001b[22m \u001b[36m────────────────────────────────────────────────────────\u001b[39m\n",
      "\u001b[1mDelimiter:\u001b[22m \",\"\n",
      "\u001b[31mchr\u001b[39m  (3): Education, Marital_Status, Dt_Customer\n",
      "\u001b[32mdbl\u001b[39m (19): Id, Year_Birth, Income, Kidhome, Teenhome, Recency, MntWines, MntF...\n",
      "\n",
      "\u001b[36mℹ\u001b[39m Use `spec()` to retrieve the full column specification for this data.\n",
      "\u001b[36mℹ\u001b[39m Specify the column types or set `show_col_types = FALSE` to quiet this message.\n"
     ]
    }
   ],
   "source": [
    "set.seed(16)\n",
    "url <- \"https://raw.githubusercontent.com/nchan315/DSCI_100_007_16_Project/main/superstore_data.csv\"\n",
    "data <- read_csv(url)\n",
    "\n",
    "store_data <- data |>\n",
    "    # removing rows with NA\n",
    "    na.omit() |>\n",
    "\n",
    "    # removing discrete variables\n",
    "    select(-Id, -Education, -Complain) |>\n",
    "\n",
    "    # summing the number of children\n",
    "    mutate(Childhome = Kidhome + Teenhome) |>\n",
    "    select(-Kidhome, -Teenhome) |>\n",
    "\n",
    "    # creating an age column\n",
    "    mutate(Age = 2022 - Year_Birth) |>\n",
    "    select(-Year_Birth) |>\n",
    "\n",
    "    # combining the amount spent on food\n",
    "    mutate(Total_Spent = MntWines + MntFruits + MntMeatProducts + MntFishProducts + MntSweetProducts) |>\n",
    "    select(-MntWines, -MntFruits, -MntMeatProducts, -MntFishProducts, -MntSweetProducts) |>\n",
    "\n",
    "    # calculating weeks that the customer has been a customer\n",
    "    mutate(Dt_Customer = as.Date(Dt_Customer, \"%m/%d/%Y\")) |>\n",
    "    mutate(Weeks_Customer = difftime(\"2022-12-31\", Dt_Customer, units = \"weeks\")) |>\n",
    "    mutate(Weeks_Customer = as.numeric(Weeks_Customer)) |>\n",
    "    select(-Dt_Customer) |>\n",
    "\n",
    "    # changing martial status into 2 distinctions\n",
    "    mutate(Relationship = case_when(Marital_Status == 'Married' | Marital_Status == 'Together' ~ 'Yes',\n",
    "                                    Marital_Status !=  'Married' & Marital_Status != 'Together' ~ 'No')) |>\n",
    "    select(-Marital_Status) |>\n",
    "    mutate(Relationship = as.factor(Relationship)) |>\n",
    "\n",
    "    # changing response to a factor\n",
    "    mutate(Response = as.factor(Response))\n",
    "store_data"
   ]
  },
  {
   "cell_type": "code",
   "execution_count": 4,
   "id": "311a516c-2ccf-4715-8ba9-90ff236d6cae",
   "metadata": {},
   "outputs": [
    {
     "name": "stdout",
     "output_type": "stream",
     "text": [
      "Rows: 2,216\n",
      "Columns: 7\n",
      "$ Relationship   \u001b[3m\u001b[90m<fct>\u001b[39m\u001b[23m No, No, Yes, Yes, No, No, Yes, Yes, Yes, Yes, Yes, Yes,…\n",
      "$ Income         \u001b[3m\u001b[90m<dbl>\u001b[39m\u001b[23m 84835, 57091, 67267, 32474, 21474, 71691, 63564, 44931,…\n",
      "$ Age            \u001b[3m\u001b[90m<dbl>\u001b[39m\u001b[23m 52, 61, 64, 55, 33, 64, 68, 55, 68, 68, 75, 43, 63, 41,…\n",
      "$ Childhome      \u001b[3m\u001b[90m<dbl>\u001b[39m\u001b[23m 0, 0, 1, 2, 1, 0, 0, 1, 1, 1, 0, 1, 0, 0, 1, 2, 2, 1, 1…\n",
      "$ Total_Spent    \u001b[3m\u001b[90m<dbl>\u001b[39m\u001b[23m 972, 540, 221, 11, 57, 1149, 1150, 89, 539, 539, 1182, …\n",
      "$ Weeks_Customer \u001b[3m\u001b[90m<dbl>\u001b[39m\u001b[23m 445.7143, 445.8571, 450.5714, 425.4286, 438.7143, 458.7…\n",
      "$ Response       \u001b[3m\u001b[90m<fct>\u001b[39m\u001b[23m 1, 1, 0, 0, 1, 1, 1, 0, 0, 0, 0, 0, 1, 0, 0, 0, 1, 0, 0…\n"
     ]
    }
   ],
   "source": [
    "store_data_reduced <- store_data |>\n",
    "    select(Relationship, Income, Age, Childhome, Total_Spent, Weeks_Customer, Response)\n",
    "glimpse(store_data_reduced)"
   ]
  },
  {
   "cell_type": "code",
   "execution_count": 6,
   "id": "75ff9898-36c4-4674-8bb5-4ed2d9a95cb5",
   "metadata": {},
   "outputs": [
    {
     "data": {
      "text/html": [
       "<table class=\"dataframe\">\n",
       "<caption>A tibble: 1661 × 7</caption>\n",
       "<thead>\n",
       "\t<tr><th scope=col>Relationship</th><th scope=col>Income</th><th scope=col>Age</th><th scope=col>Childhome</th><th scope=col>Total_Spent</th><th scope=col>Weeks_Customer</th><th scope=col>Response</th></tr>\n",
       "\t<tr><th scope=col>&lt;fct&gt;</th><th scope=col>&lt;dbl&gt;</th><th scope=col>&lt;dbl&gt;</th><th scope=col>&lt;dbl&gt;</th><th scope=col>&lt;dbl&gt;</th><th scope=col>&lt;dbl&gt;</th><th scope=col>&lt;fct&gt;</th></tr>\n",
       "</thead>\n",
       "<tbody>\n",
       "\t<tr><td>Yes</td><td>67267</td><td>64</td><td>1</td><td>221</td><td>450.5714</td><td>0</td></tr>\n",
       "\t<tr><td>Yes</td><td>44931</td><td>55</td><td>1</td><td> 89</td><td>467.0000</td><td>0</td></tr>\n",
       "\t<tr><td>Yes</td><td>65324</td><td>68</td><td>1</td><td>539</td><td>426.0000</td><td>0</td></tr>\n",
       "\t<tr><td>⋮</td><td>⋮</td><td>⋮</td><td>⋮</td><td>⋮</td><td>⋮</td><td>⋮</td></tr>\n",
       "\t<tr><td>Yes</td><td>77766</td><td>55</td><td>1</td><td>1502</td><td>514.1429</td><td>1</td></tr>\n",
       "\t<tr><td>Yes</td><td>77766</td><td>55</td><td>1</td><td>1502</td><td>514.1429</td><td>1</td></tr>\n",
       "\t<tr><td>Yes</td><td>94871</td><td>53</td><td>2</td><td> 934</td><td>572.7143</td><td>1</td></tr>\n",
       "</tbody>\n",
       "</table>\n"
      ],
      "text/latex": [
       "A tibble: 1661 × 7\n",
       "\\begin{tabular}{lllllll}\n",
       " Relationship & Income & Age & Childhome & Total\\_Spent & Weeks\\_Customer & Response\\\\\n",
       " <fct> & <dbl> & <dbl> & <dbl> & <dbl> & <dbl> & <fct>\\\\\n",
       "\\hline\n",
       "\t Yes & 67267 & 64 & 1 & 221 & 450.5714 & 0\\\\\n",
       "\t Yes & 44931 & 55 & 1 &  89 & 467.0000 & 0\\\\\n",
       "\t Yes & 65324 & 68 & 1 & 539 & 426.0000 & 0\\\\\n",
       "\t ⋮ & ⋮ & ⋮ & ⋮ & ⋮ & ⋮ & ⋮\\\\\n",
       "\t Yes & 77766 & 55 & 1 & 1502 & 514.1429 & 1\\\\\n",
       "\t Yes & 77766 & 55 & 1 & 1502 & 514.1429 & 1\\\\\n",
       "\t Yes & 94871 & 53 & 2 &  934 & 572.7143 & 1\\\\\n",
       "\\end{tabular}\n"
      ],
      "text/markdown": [
       "\n",
       "A tibble: 1661 × 7\n",
       "\n",
       "| Relationship &lt;fct&gt; | Income &lt;dbl&gt; | Age &lt;dbl&gt; | Childhome &lt;dbl&gt; | Total_Spent &lt;dbl&gt; | Weeks_Customer &lt;dbl&gt; | Response &lt;fct&gt; |\n",
       "|---|---|---|---|---|---|---|\n",
       "| Yes | 67267 | 64 | 1 | 221 | 450.5714 | 0 |\n",
       "| Yes | 44931 | 55 | 1 |  89 | 467.0000 | 0 |\n",
       "| Yes | 65324 | 68 | 1 | 539 | 426.0000 | 0 |\n",
       "| ⋮ | ⋮ | ⋮ | ⋮ | ⋮ | ⋮ | ⋮ |\n",
       "| Yes | 77766 | 55 | 1 | 1502 | 514.1429 | 1 |\n",
       "| Yes | 77766 | 55 | 1 | 1502 | 514.1429 | 1 |\n",
       "| Yes | 94871 | 53 | 2 |  934 | 572.7143 | 1 |\n",
       "\n"
      ],
      "text/plain": [
       "     Relationship Income Age Childhome Total_Spent Weeks_Customer Response\n",
       "1    Yes          67267  64  1         221         450.5714       0       \n",
       "2    Yes          44931  55  1          89         467.0000       0       \n",
       "3    Yes          65324  68  1         539         426.0000       0       \n",
       "⋮    ⋮            ⋮      ⋮   ⋮         ⋮           ⋮              ⋮       \n",
       "1659 Yes          77766  55  1         1502        514.1429       1       \n",
       "1660 Yes          77766  55  1         1502        514.1429       1       \n",
       "1661 Yes          94871  53  2          934        572.7143       1       "
      ]
     },
     "metadata": {},
     "output_type": "display_data"
    }
   ],
   "source": [
    "# creating the 75% training 25% testing split\n",
    "store_data_split <- initial_split(store_data_reduced, prop = 0.75, strata = Response)\n",
    "store_data_train <- training(store_data_split) \n",
    "store_data_test <- testing(store_data_split)\n",
    "store_data_train"
   ]
  },
  {
   "cell_type": "code",
   "execution_count": 12,
   "id": "4c42a362-7b3d-49b2-88d8-4386b6136ccb",
   "metadata": {},
   "outputs": [
    {
     "data": {
      "text/html": [
       "<style>\n",
       ".list-inline {list-style: none; margin:0; padding: 0}\n",
       ".list-inline>li {display: inline-block}\n",
       ".list-inline>li:not(:last-child)::after {content: \"\\00b7\"; padding: 0 .5ex}\n",
       "</style>\n",
       "<ol class=list-inline><li>'Income'</li><li>'Age'</li><li>'Childhome'</li><li>'Total_Spent'</li><li>'Weeks_Customer'</li></ol>\n"
      ],
      "text/latex": [
       "\\begin{enumerate*}\n",
       "\\item 'Income'\n",
       "\\item 'Age'\n",
       "\\item 'Childhome'\n",
       "\\item 'Total\\_Spent'\n",
       "\\item 'Weeks\\_Customer'\n",
       "\\end{enumerate*}\n"
      ],
      "text/markdown": [
       "1. 'Income'\n",
       "2. 'Age'\n",
       "3. 'Childhome'\n",
       "4. 'Total_Spent'\n",
       "5. 'Weeks_Customer'\n",
       "\n",
       "\n"
      ],
      "text/plain": [
       "[1] \"Income\"         \"Age\"            \"Childhome\"      \"Total_Spent\"   \n",
       "[5] \"Weeks_Customer\""
      ]
     },
     "metadata": {},
     "output_type": "display_data"
    }
   ],
   "source": [
    "# beginning of forward selection using training set (Yes Relationship)\n",
    "training_yes <- store_data_train |>\n",
    "    filter(Relationship == \"Yes\")\n",
    "\n",
    "# getting column names\n",
    "names <- colnames(store_data_train |> select(-Response, -Relationship))\n",
    "names"
   ]
  },
  {
   "cell_type": "code",
   "execution_count": 13,
   "id": "4525ef10-db84-4603-941c-2f59e01e2c65",
   "metadata": {},
   "outputs": [
    {
     "data": {
      "text/html": [
       "<table class=\"dataframe\">\n",
       "<caption>A tibble: 5 × 3</caption>\n",
       "<thead>\n",
       "\t<tr><th scope=col>size</th><th scope=col>model_string</th><th scope=col>accuracy</th></tr>\n",
       "\t<tr><th scope=col>&lt;int&gt;</th><th scope=col>&lt;chr&gt;</th><th scope=col>&lt;dbl&gt;</th></tr>\n",
       "</thead>\n",
       "<tbody>\n",
       "\t<tr><td>1</td><td>Response ~ Income                                         </td><td>0.8875495</td></tr>\n",
       "\t<tr><td>2</td><td>Response ~ Income+Weeks_Customer                          </td><td>0.8894100</td></tr>\n",
       "\t<tr><td>3</td><td>Response ~ Income+Weeks_Customer+Total_Spent              </td><td>0.8912661</td></tr>\n",
       "\t<tr><td>4</td><td>Response ~ Income+Weeks_Customer+Total_Spent+Age          </td><td>0.8875581</td></tr>\n",
       "\t<tr><td>5</td><td>Response ~ Income+Weeks_Customer+Total_Spent+Age+Childhome</td><td>0.8894143</td></tr>\n",
       "</tbody>\n",
       "</table>\n"
      ],
      "text/latex": [
       "A tibble: 5 × 3\n",
       "\\begin{tabular}{lll}\n",
       " size & model\\_string & accuracy\\\\\n",
       " <int> & <chr> & <dbl>\\\\\n",
       "\\hline\n",
       "\t 1 & Response \\textasciitilde{} Income                                          & 0.8875495\\\\\n",
       "\t 2 & Response \\textasciitilde{} Income+Weeks\\_Customer                           & 0.8894100\\\\\n",
       "\t 3 & Response \\textasciitilde{} Income+Weeks\\_Customer+Total\\_Spent               & 0.8912661\\\\\n",
       "\t 4 & Response \\textasciitilde{} Income+Weeks\\_Customer+Total\\_Spent+Age           & 0.8875581\\\\\n",
       "\t 5 & Response \\textasciitilde{} Income+Weeks\\_Customer+Total\\_Spent+Age+Childhome & 0.8894143\\\\\n",
       "\\end{tabular}\n"
      ],
      "text/markdown": [
       "\n",
       "A tibble: 5 × 3\n",
       "\n",
       "| size &lt;int&gt; | model_string &lt;chr&gt; | accuracy &lt;dbl&gt; |\n",
       "|---|---|---|\n",
       "| 1 | Response ~ Income                                          | 0.8875495 |\n",
       "| 2 | Response ~ Income+Weeks_Customer                           | 0.8894100 |\n",
       "| 3 | Response ~ Income+Weeks_Customer+Total_Spent               | 0.8912661 |\n",
       "| 4 | Response ~ Income+Weeks_Customer+Total_Spent+Age           | 0.8875581 |\n",
       "| 5 | Response ~ Income+Weeks_Customer+Total_Spent+Age+Childhome | 0.8894143 |\n",
       "\n"
      ],
      "text/plain": [
       "  size model_string                                               accuracy \n",
       "1 1    Response ~ Income                                          0.8875495\n",
       "2 2    Response ~ Income+Weeks_Customer                           0.8894100\n",
       "3 3    Response ~ Income+Weeks_Customer+Total_Spent               0.8912661\n",
       "4 4    Response ~ Income+Weeks_Customer+Total_Spent+Age           0.8875581\n",
       "5 5    Response ~ Income+Weeks_Customer+Total_Spent+Age+Childhome 0.8894143"
      ]
     },
     "metadata": {},
     "output_type": "display_data"
    }
   ],
   "source": [
    "# Code taken from 6.8 in online textbook\n",
    "# (may take a while to run)\n",
    "\n",
    "# create an empty tibble to store the results\n",
    "accuracies <- tibble(size = integer(), \n",
    "                     model_string = character(), \n",
    "                     accuracy = numeric())\n",
    "\n",
    "# create a model specification\n",
    "knn_spec <- nearest_neighbor(weight_func = \"rectangular\", \n",
    "                             neighbors = tune()) |>\n",
    "     set_engine(\"kknn\") |>\n",
    "     set_mode(\"classification\")\n",
    "\n",
    "# create a 5-fold cross-validation object\n",
    "store_vfold <- vfold_cv(training_yes, v = 5, strata = Response)\n",
    "\n",
    "# store the total number of predictors\n",
    "n_total <- length(names)\n",
    "\n",
    "# stores selected predictors\n",
    "selected <- c()\n",
    "\n",
    "# for every size from 1 to the total number of predictors\n",
    "for (i in 1:n_total) {\n",
    "    # for every predictor still not added yet\n",
    "    accs <- list()\n",
    "    models <- list()\n",
    "    for (j in 1:length(names)) {\n",
    "        # create a model string for this combination of predictors\n",
    "        preds_new <- c(selected, names[[j]])\n",
    "        model_string <- paste(\"Response\", \"~\", paste(preds_new, collapse=\"+\"))\n",
    "\n",
    "        # create a recipe from the model string\n",
    "        store_recipe <- recipe(as.formula(model_string), \n",
    "                                data = training_yes) |>\n",
    "                          step_scale(all_predictors()) |>\n",
    "                          step_center(all_predictors())\n",
    "\n",
    "        # tune the KNN classifier with these predictors, \n",
    "        # and collect the accuracy for the best K\n",
    "        acc <- workflow() |>\n",
    "          add_recipe(store_recipe) |>\n",
    "          add_model(knn_spec) |>\n",
    "          tune_grid(resamples = store_vfold, grid = 10) |>\n",
    "          collect_metrics() |>\n",
    "          filter(.metric == \"accuracy\") |>\n",
    "          summarize(mx = max(mean))\n",
    "        acc <- acc$mx |> unlist()\n",
    "\n",
    "        # add this result to the dataframe\n",
    "        accs[[j]] <- acc\n",
    "        models[[j]] <- model_string\n",
    "    }\n",
    "    jstar <- which.max(unlist(accs))\n",
    "    accuracies <- accuracies |> \n",
    "      add_row(size = i, \n",
    "              model_string = models[[jstar]], \n",
    "              accuracy = accs[[jstar]])\n",
    "    selected <- c(selected, names[[jstar]])\n",
    "    names <- names[-jstar]\n",
    "}\n",
    "accuracies"
   ]
  },
  {
   "cell_type": "code",
   "execution_count": 15,
   "id": "5585b37d-876d-41c4-96d9-ce3b8a68c05f",
   "metadata": {},
   "outputs": [
    {
     "data": {
      "image/png": "[encoded data removed]",
      "text/plain": [
       "plot without title"
      ]
     },
     "metadata": {
      "image/png": {
       "height": 420,
       "width": 420
      }
     },
     "output_type": "display_data"
    }
   ],
   "source": [
    "yes_plot <- accuracies |>\n",
    "    ggplot(aes(size, accuracy)) +\n",
    "        geom_line()\n",
    "yes_plot"
   ]
  },
  {
   "cell_type": "code",
   "execution_count": 16,
   "id": "28663db4-c34a-4689-a356-ba9b0075aa4b",
   "metadata": {},
   "outputs": [
    {
     "data": {
      "text/html": [
       "<style>\n",
       ".list-inline {list-style: none; margin:0; padding: 0}\n",
       ".list-inline>li {display: inline-block}\n",
       ".list-inline>li:not(:last-child)::after {content: \"\\00b7\"; padding: 0 .5ex}\n",
       "</style>\n",
       "<ol class=list-inline><li>'Income'</li><li>'Recency'</li><li>'MntGoldProds'</li><li>'NumDealsPurchases'</li><li>'NumWebPurchases'</li><li>'NumCatalogPurchases'</li><li>'NumStorePurchases'</li><li>'NumWebVisitsMonth'</li><li>'Childhome'</li><li>'Age'</li><li>'Total_Spent'</li><li>'Weeks_Customer'</li></ol>\n"
      ],
      "text/latex": [
       "\\begin{enumerate*}\n",
       "\\item 'Income'\n",
       "\\item 'Recency'\n",
       "\\item 'MntGoldProds'\n",
       "\\item 'NumDealsPurchases'\n",
       "\\item 'NumWebPurchases'\n",
       "\\item 'NumCatalogPurchases'\n",
       "\\item 'NumStorePurchases'\n",
       "\\item 'NumWebVisitsMonth'\n",
       "\\item 'Childhome'\n",
       "\\item 'Age'\n",
       "\\item 'Total\\_Spent'\n",
       "\\item 'Weeks\\_Customer'\n",
       "\\end{enumerate*}\n"
      ],
      "text/markdown": [
       "1. 'Income'\n",
       "2. 'Recency'\n",
       "3. 'MntGoldProds'\n",
       "4. 'NumDealsPurchases'\n",
       "5. 'NumWebPurchases'\n",
       "6. 'NumCatalogPurchases'\n",
       "7. 'NumStorePurchases'\n",
       "8. 'NumWebVisitsMonth'\n",
       "9. 'Childhome'\n",
       "10. 'Age'\n",
       "11. 'Total_Spent'\n",
       "12. 'Weeks_Customer'\n",
       "\n",
       "\n"
      ],
      "text/plain": [
       " [1] \"Income\"              \"Recency\"             \"MntGoldProds\"       \n",
       " [4] \"NumDealsPurchases\"   \"NumWebPurchases\"     \"NumCatalogPurchases\"\n",
       " [7] \"NumStorePurchases\"   \"NumWebVisitsMonth\"   \"Childhome\"          \n",
       "[10] \"Age\"                 \"Total_Spent\"         \"Weeks_Customer\"     "
      ]
     },
     "metadata": {},
     "output_type": "display_data"
    },
    {
     "data": {
      "text/html": [
       "<table class=\"dataframe\">\n",
       "<caption>A tibble: 12 × 3</caption>\n",
       "<thead>\n",
       "\t<tr><th scope=col>size</th><th scope=col>model_string</th><th scope=col>accuracy</th></tr>\n",
       "\t<tr><th scope=col>&lt;int&gt;</th><th scope=col>&lt;chr&gt;</th><th scope=col>&lt;dbl&gt;</th></tr>\n",
       "</thead>\n",
       "<tbody>\n",
       "\t<tr><td>1</td><td>Response ~ NumCatalogPurchases                          </td><td>0.8886855</td></tr>\n",
       "\t<tr><td>2</td><td>Response ~ NumCatalogPurchases+NumWebVisitsMonth        </td><td>0.8923849</td></tr>\n",
       "\t<tr><td>3</td><td>Response ~ NumCatalogPurchases+NumWebVisitsMonth+Recency</td><td>0.8905288</td></tr>\n",
       "\t<tr><td>⋮</td><td>⋮</td><td>⋮</td></tr>\n",
       "\t<tr><td>10</td><td>Response ~ NumCatalogPurchases+NumWebVisitsMonth+Recency+NumDealsPurchases+NumStorePurchases+Childhome+NumWebPurchases+MntGoldProds+Income+Weeks_Customer                </td><td>0.8905203</td></tr>\n",
       "\t<tr><td>11</td><td>Response ~ NumCatalogPurchases+NumWebVisitsMonth+Recency+NumDealsPurchases+NumStorePurchases+Childhome+NumWebPurchases+MntGoldProds+Income+Weeks_Customer+Total_Spent    </td><td>0.8895986</td></tr>\n",
       "\t<tr><td>12</td><td>Response ~ NumCatalogPurchases+NumWebVisitsMonth+Recency+NumDealsPurchases+NumStorePurchases+Childhome+NumWebPurchases+MntGoldProds+Income+Weeks_Customer+Total_Spent+Age</td><td>0.8868591</td></tr>\n",
       "</tbody>\n",
       "</table>\n"
      ],
      "text/latex": [
       "A tibble: 12 × 3\n",
       "\\begin{tabular}{lll}\n",
       " size & model\\_string & accuracy\\\\\n",
       " <int> & <chr> & <dbl>\\\\\n",
       "\\hline\n",
       "\t 1 & Response \\textasciitilde{} NumCatalogPurchases                           & 0.8886855\\\\\n",
       "\t 2 & Response \\textasciitilde{} NumCatalogPurchases+NumWebVisitsMonth         & 0.8923849\\\\\n",
       "\t 3 & Response \\textasciitilde{} NumCatalogPurchases+NumWebVisitsMonth+Recency & 0.8905288\\\\\n",
       "\t ⋮ & ⋮ & ⋮\\\\\n",
       "\t 10 & Response \\textasciitilde{} NumCatalogPurchases+NumWebVisitsMonth+Recency+NumDealsPurchases+NumStorePurchases+Childhome+NumWebPurchases+MntGoldProds+Income+Weeks\\_Customer                 & 0.8905203\\\\\n",
       "\t 11 & Response \\textasciitilde{} NumCatalogPurchases+NumWebVisitsMonth+Recency+NumDealsPurchases+NumStorePurchases+Childhome+NumWebPurchases+MntGoldProds+Income+Weeks\\_Customer+Total\\_Spent     & 0.8895986\\\\\n",
       "\t 12 & Response \\textasciitilde{} NumCatalogPurchases+NumWebVisitsMonth+Recency+NumDealsPurchases+NumStorePurchases+Childhome+NumWebPurchases+MntGoldProds+Income+Weeks\\_Customer+Total\\_Spent+Age & 0.8868591\\\\\n",
       "\\end{tabular}\n"
      ],
      "text/markdown": [
       "\n",
       "A tibble: 12 × 3\n",
       "\n",
       "| size &lt;int&gt; | model_string &lt;chr&gt; | accuracy &lt;dbl&gt; |\n",
       "|---|---|---|\n",
       "| 1 | Response ~ NumCatalogPurchases                           | 0.8886855 |\n",
       "| 2 | Response ~ NumCatalogPurchases+NumWebVisitsMonth         | 0.8923849 |\n",
       "| 3 | Response ~ NumCatalogPurchases+NumWebVisitsMonth+Recency | 0.8905288 |\n",
       "| ⋮ | ⋮ | ⋮ |\n",
       "| 10 | Response ~ NumCatalogPurchases+NumWebVisitsMonth+Recency+NumDealsPurchases+NumStorePurchases+Childhome+NumWebPurchases+MntGoldProds+Income+Weeks_Customer                 | 0.8905203 |\n",
       "| 11 | Response ~ NumCatalogPurchases+NumWebVisitsMonth+Recency+NumDealsPurchases+NumStorePurchases+Childhome+NumWebPurchases+MntGoldProds+Income+Weeks_Customer+Total_Spent     | 0.8895986 |\n",
       "| 12 | Response ~ NumCatalogPurchases+NumWebVisitsMonth+Recency+NumDealsPurchases+NumStorePurchases+Childhome+NumWebPurchases+MntGoldProds+Income+Weeks_Customer+Total_Spent+Age | 0.8868591 |\n",
       "\n"
      ],
      "text/plain": [
       "   size\n",
       "1  1   \n",
       "2  2   \n",
       "3  3   \n",
       "⋮  ⋮   \n",
       "10 10  \n",
       "11 11  \n",
       "12 12  \n",
       "   model_string                                                                                                                                                             \n",
       "1  Response ~ NumCatalogPurchases                                                                                                                                           \n",
       "2  Response ~ NumCatalogPurchases+NumWebVisitsMonth                                                                                                                         \n",
       "3  Response ~ NumCatalogPurchases+NumWebVisitsMonth+Recency                                                                                                                 \n",
       "⋮  ⋮                                                                                                                                                                        \n",
       "10 Response ~ NumCatalogPurchases+NumWebVisitsMonth+Recency+NumDealsPurchases+NumStorePurchases+Childhome+NumWebPurchases+MntGoldProds+Income+Weeks_Customer                \n",
       "11 Response ~ NumCatalogPurchases+NumWebVisitsMonth+Recency+NumDealsPurchases+NumStorePurchases+Childhome+NumWebPurchases+MntGoldProds+Income+Weeks_Customer+Total_Spent    \n",
       "12 Response ~ NumCatalogPurchases+NumWebVisitsMonth+Recency+NumDealsPurchases+NumStorePurchases+Childhome+NumWebPurchases+MntGoldProds+Income+Weeks_Customer+Total_Spent+Age\n",
       "   accuracy \n",
       "1  0.8886855\n",
       "2  0.8923849\n",
       "3  0.8905288\n",
       "⋮  ⋮        \n",
       "10 0.8905203\n",
       "11 0.8895986\n",
       "12 0.8868591"
      ]
     },
     "metadata": {},
     "output_type": "display_data"
    }
   ],
   "source": [
    "store_data_split <- initial_split(store_data, prop = 0.75, strata = Response)\n",
    "store_data_train2 <- training(store_data_split)\n",
    "\n",
    "store_data_train2_yes <- store_data_train2 |>\n",
    "    filter(Relationship == \"Yes\")\n",
    "\n",
    "# getting column names\n",
    "names <- colnames(store_data_train2_yes |> select(-Response, -Relationship))\n",
    "names\n",
    "\n",
    "# create an empty tibble to store the results\n",
    "accuracies <- tibble(size = integer(), \n",
    "                     model_string = character(), \n",
    "                     accuracy = numeric())\n",
    "\n",
    "# create a model specification\n",
    "knn_spec <- nearest_neighbor(weight_func = \"rectangular\", \n",
    "                             neighbors = tune()) |>\n",
    "     set_engine(\"kknn\") |>\n",
    "     set_mode(\"classification\")\n",
    "\n",
    "# create a 5-fold cross-validation object\n",
    "store_vfold <- vfold_cv(store_data_train2_yes, v = 5, strata = Response)\n",
    "\n",
    "# store the total number of predictors\n",
    "n_total <- length(names)\n",
    "\n",
    "# stores selected predictors\n",
    "selected <- c()\n",
    "\n",
    "# for every size from 1 to the total number of predictors\n",
    "for (i in 1:n_total) {\n",
    "    # for every predictor still not added yet\n",
    "    accs <- list()\n",
    "    models <- list()\n",
    "    for (j in 1:length(names)) {\n",
    "        # create a model string for this combination of predictors\n",
    "        preds_new <- c(selected, names[[j]])\n",
    "        model_string <- paste(\"Response\", \"~\", paste(preds_new, collapse=\"+\"))\n",
    "\n",
    "        # create a recipe from the model string\n",
    "        store_recipe <- recipe(as.formula(model_string), \n",
    "                                data = store_data_train2_yes) |>\n",
    "                          step_scale(all_predictors()) |>\n",
    "                          step_center(all_predictors())\n",
    "\n",
    "        # tune the KNN classifier with these predictors, \n",
    "        # and collect the accuracy for the best K\n",
    "        acc <- workflow() |>\n",
    "          add_recipe(store_recipe) |>\n",
    "          add_model(knn_spec) |>\n",
    "          tune_grid(resamples = store_vfold, grid = 10) |>\n",
    "          collect_metrics() |>\n",
    "          filter(.metric == \"accuracy\") |>\n",
    "          summarize(mx = max(mean))\n",
    "        acc <- acc$mx |> unlist()\n",
    "\n",
    "        # add this result to the dataframe\n",
    "        accs[[j]] <- acc\n",
    "        models[[j]] <- model_string\n",
    "    }\n",
    "    jstar <- which.max(unlist(accs))\n",
    "    accuracies <- accuracies |> \n",
    "      add_row(size = i, \n",
    "              model_string = models[[jstar]], \n",
    "              accuracy = accs[[jstar]])\n",
    "    selected <- c(selected, names[[jstar]])\n",
    "    names <- names[-jstar]\n",
    "}\n",
    "accuracies"
   ]
  },
  {
   "cell_type": "code",
   "execution_count": 17,
   "id": "9bc6591a-9744-4492-a710-2c302f5ffe5d",
   "metadata": {},
   "outputs": [
    {
     "data": {
      "image/png": "[encoded data removed]",
      "text/plain": [
       "plot without title"
      ]
     },
     "metadata": {
      "image/png": {
       "height": 420,
       "width": 420
      }
     },
     "output_type": "display_data"
    }
   ],
   "source": [
    "yes_plot <- accuracies |>\n",
    "    ggplot(aes(size, accuracy)) +\n",
    "        geom_line()\n",
    "yes_plot"
   ]
  },
  {
   "cell_type": "markdown",
   "id": "550c9324-f008-487f-9a42-62a788a22a2c",
   "metadata": {},
   "source": [
    "FOR YES RELATIONSHIP: use Income+Weeks_Customer+Total_Spent\n",
    "\n",
    "FOR  NO RELATIONSHIP: use Income+Age+Weeks_Customer+Childhome"
   ]
  },
  {
   "cell_type": "code",
   "execution_count": 20,
   "id": "0c80b1f4-b9ae-4fa7-a9de-9a0aee161d61",
   "metadata": {},
   "outputs": [],
   "source": [
    "training_no <- store_data_train |>\n",
    "    filter(Relationship == \"No\")\n",
    "# getting column names\n",
    "names <- colnames(store_data_train |> select(-Response, -Relationship))"
   ]
  },
  {
   "cell_type": "code",
   "execution_count": 21,
   "id": "8bc532cd-5407-4e93-936e-6f728b641210",
   "metadata": {},
   "outputs": [
    {
     "data": {
      "text/html": [
       "<table class=\"dataframe\">\n",
       "<caption>A tibble: 5 × 3</caption>\n",
       "<thead>\n",
       "\t<tr><th scope=col>size</th><th scope=col>model_string</th><th scope=col>accuracy</th></tr>\n",
       "\t<tr><th scope=col>&lt;int&gt;</th><th scope=col>&lt;chr&gt;</th><th scope=col>&lt;dbl&gt;</th></tr>\n",
       "</thead>\n",
       "<tbody>\n",
       "\t<tr><td>1</td><td>Response ~ Income                                         </td><td>0.7880072</td></tr>\n",
       "\t<tr><td>2</td><td>Response ~ Income+Age                                     </td><td>0.7982496</td></tr>\n",
       "\t<tr><td>3</td><td>Response ~ Income+Age+Weeks_Customer                      </td><td>0.8017998</td></tr>\n",
       "\t<tr><td>4</td><td>Response ~ Income+Age+Weeks_Customer+Childhome            </td><td>0.8051604</td></tr>\n",
       "\t<tr><td>5</td><td>Response ~ Income+Age+Weeks_Customer+Childhome+Total_Spent</td><td>0.7999153</td></tr>\n",
       "</tbody>\n",
       "</table>\n"
      ],
      "text/latex": [
       "A tibble: 5 × 3\n",
       "\\begin{tabular}{lll}\n",
       " size & model\\_string & accuracy\\\\\n",
       " <int> & <chr> & <dbl>\\\\\n",
       "\\hline\n",
       "\t 1 & Response \\textasciitilde{} Income                                          & 0.7880072\\\\\n",
       "\t 2 & Response \\textasciitilde{} Income+Age                                      & 0.7982496\\\\\n",
       "\t 3 & Response \\textasciitilde{} Income+Age+Weeks\\_Customer                       & 0.8017998\\\\\n",
       "\t 4 & Response \\textasciitilde{} Income+Age+Weeks\\_Customer+Childhome             & 0.8051604\\\\\n",
       "\t 5 & Response \\textasciitilde{} Income+Age+Weeks\\_Customer+Childhome+Total\\_Spent & 0.7999153\\\\\n",
       "\\end{tabular}\n"
      ],
      "text/markdown": [
       "\n",
       "A tibble: 5 × 3\n",
       "\n",
       "| size &lt;int&gt; | model_string &lt;chr&gt; | accuracy &lt;dbl&gt; |\n",
       "|---|---|---|\n",
       "| 1 | Response ~ Income                                          | 0.7880072 |\n",
       "| 2 | Response ~ Income+Age                                      | 0.7982496 |\n",
       "| 3 | Response ~ Income+Age+Weeks_Customer                       | 0.8017998 |\n",
       "| 4 | Response ~ Income+Age+Weeks_Customer+Childhome             | 0.8051604 |\n",
       "| 5 | Response ~ Income+Age+Weeks_Customer+Childhome+Total_Spent | 0.7999153 |\n",
       "\n"
      ],
      "text/plain": [
       "  size model_string                                               accuracy \n",
       "1 1    Response ~ Income                                          0.7880072\n",
       "2 2    Response ~ Income+Age                                      0.7982496\n",
       "3 3    Response ~ Income+Age+Weeks_Customer                       0.8017998\n",
       "4 4    Response ~ Income+Age+Weeks_Customer+Childhome             0.8051604\n",
       "5 5    Response ~ Income+Age+Weeks_Customer+Childhome+Total_Spent 0.7999153"
      ]
     },
     "metadata": {},
     "output_type": "display_data"
    }
   ],
   "source": [
    "# create an empty tibble to store the results\n",
    "accuracies <- tibble(size = integer(), \n",
    "                     model_string = character(), \n",
    "                     accuracy = numeric())\n",
    "\n",
    "# create a model specification\n",
    "knn_spec <- nearest_neighbor(weight_func = \"rectangular\", \n",
    "                             neighbors = tune()) |>\n",
    "     set_engine(\"kknn\") |>\n",
    "     set_mode(\"classification\")\n",
    "\n",
    "# create a 5-fold cross-validation object\n",
    "store_vfold <- vfold_cv(training_no, v = 5, strata = Response)\n",
    "\n",
    "# store the total number of predictors\n",
    "n_total <- length(names)\n",
    "\n",
    "# stores selected predictors\n",
    "selected <- c()\n",
    "\n",
    "# for every size from 1 to the total number of predictors\n",
    "for (i in 1:n_total) {\n",
    "    # for every predictor still not added yet\n",
    "    accs <- list()\n",
    "    models <- list()\n",
    "    for (j in 1:length(names)) {\n",
    "        # create a model string for this combination of predictors\n",
    "        preds_new <- c(selected, names[[j]])\n",
    "        model_string <- paste(\"Response\", \"~\", paste(preds_new, collapse=\"+\"))\n",
    "\n",
    "        # create a recipe from the model string\n",
    "        store_recipe <- recipe(as.formula(model_string), \n",
    "                                data = training_no) |>\n",
    "                          step_scale(all_predictors()) |>\n",
    "                          step_center(all_predictors())\n",
    "\n",
    "        # tune the KNN classifier with these predictors, \n",
    "        # and collect the accuracy for the best K\n",
    "        acc <- workflow() |>\n",
    "          add_recipe(store_recipe) |>\n",
    "          add_model(knn_spec) |>\n",
    "          tune_grid(resamples = store_vfold, grid = 10) |>\n",
    "          collect_metrics() |>\n",
    "          filter(.metric == \"accuracy\") |>\n",
    "          summarize(mx = max(mean))\n",
    "        acc <- acc$mx |> unlist()\n",
    "\n",
    "        # add this result to the dataframe\n",
    "        accs[[j]] <- acc\n",
    "        models[[j]] <- model_string\n",
    "    }\n",
    "    jstar <- which.max(unlist(accs))\n",
    "    accuracies <- accuracies |> \n",
    "      add_row(size = i, \n",
    "              model_string = models[[jstar]], \n",
    "              accuracy = accs[[jstar]])\n",
    "    selected <- c(selected, names[[jstar]])\n",
    "    names <- names[-jstar]\n",
    "}\n",
    "accuracies"
   ]
  },
  {
   "cell_type": "code",
   "execution_count": 22,
   "id": "1722110d-76e3-4a31-8d8b-9b867eb9af77",
   "metadata": {},
   "outputs": [
    {
     "data": {
      "image/png": "[encoded data removed]",
      "text/plain": [
       "plot without title"
      ]
     },
     "metadata": {
      "image/png": {
       "height": 420,
       "width": 420
      }
     },
     "output_type": "display_data"
    }
   ],
   "source": [
    "no_plot <- accuracies |>\n",
    "    ggplot(aes(size, accuracy)) +\n",
    "        geom_line()\n",
    "no_plot"
   ]
  },
  {
   "cell_type": "code",
   "execution_count": null,
   "id": "8fa92d26-8a3c-40f7-8dd4-c9b3ca804cfb",
   "metadata": {},
   "outputs": [],
   "source": []
  }
 ],
 "metadata": {
  "kernelspec": {
   "display_name": "R",
   "language": "R",
   "name": "ir"
  },
  "language_info": {
   "codemirror_mode": "r",
   "file_extension": ".r",
   "mimetype": "text/x-r-source",
   "name": "R",
   "pygments_lexer": "r",
   "version": "4.1.3"
  }
 },
 "nbformat": 4,
 "nbformat_minor": 5
}
