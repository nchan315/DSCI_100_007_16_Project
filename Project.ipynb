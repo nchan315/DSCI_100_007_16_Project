{
 "cells": [
  {
   "cell_type": "markdown",
   "id": "8cc9526f-694f-4516-9393-ef562db5ec46",
   "metadata": {},
   "source": [
    "# <u> DSCI 100 Group 16 Project<u>\n",
    "\n",
    "### Predicting Response for a Superstore Marketing Campaign"
   ]
  },
  {
   "cell_type": "markdown",
   "id": "78af04a4-7345-4f80-9e69-0149beb1ade9",
   "metadata": {},
   "source": [
    "## <u> Introduction<u>\n",
    "\n",
    "The marketing budgets for companies are skyrocketing these days, but looking at the depression coming in companies are cutting down on the marketing budgets and are finding much more better and economical ways to market their product. In today's competitive market, businesses often offer various discounts and benefits to their customers to retain them and encourage future purchases. One such strategy is the introduction of membership programs, which offer exclusive deals and discounts to customers who subscribe to them. (https://www.cnbc.com/2019/05/22/hooked-how-costco-turns-customers-into-fanatics.html)\n",
    "\n",
    "In this project, we will utilize a dataset(https://www.kaggle.com/datasets/ahsan81/superstore-marketing-campaign-dataset). This data set has over 2200 observations. Each observation has 14 variables which are Income, Recency, MntGoldProds, NumDealsPurchases, NumWebPurchases, NumCatalogPurchases, NumStorePurchases, NumWebVisitsMonth, Response, Childhome, Age, Total_Spent, Weeks_Customer, Relationship. However for this project the main focus will be on the columns marital status, income, number of children, age, total spent, and time as customer.\n",
    "    \n",
    "Through this project we aim to predict “will an existing customer at the Superstore will be giving a positive response to their new gold membership offer which gives them 20% off for \\\\$499 which is \\\\$999 on regular days?”"
   ]
  },
  {
   "cell_type": "markdown",
   "id": "f241bb20-691d-451b-9890-898854985cf0",
   "metadata": {},
   "source": [
    "### Modifying the data set\n",
    "\n",
    "The dataset we are going to use comes from Kaggle: https://www.kaggle.com/datasets/ahsan81/superstore-marketing-campaign-dataset.\n",
    "\n",
    "The data set is already tidy, but we made the data set a bit more usable by:\n",
    "- removing rows with 'NA'\n",
    "- removing discrete variables\n",
    "- creating a column for total children\n",
    "- creating a column for total grocery spending\n",
    "- converting the birthday column to age\n",
    "- creating a column for time as customer\n",
    "- changing the marital status to Yes/No factor\n",
    "- changing the response variable to a factor"
   ]
  },
  {
   "cell_type": "code",
   "execution_count": 1,
   "id": "b59e5970-b25a-4a66-a147-1d1a8d92a512",
   "metadata": {},
   "outputs": [
    {
     "name": "stderr",
     "output_type": "stream",
     "text": [
      "── \u001b[1mAttaching packages\u001b[22m ─────────────────────────────────────── tidyverse 1.3.1 ──\n",
      "\n",
      "\u001b[32m✔\u001b[39m \u001b[34mggplot2\u001b[39m 3.3.6     \u001b[32m✔\u001b[39m \u001b[34mpurrr  \u001b[39m 0.3.4\n",
      "\u001b[32m✔\u001b[39m \u001b[34mtibble \u001b[39m 3.1.7     \u001b[32m✔\u001b[39m \u001b[34mdplyr  \u001b[39m 1.0.9\n",
      "\u001b[32m✔\u001b[39m \u001b[34mtidyr  \u001b[39m 1.2.0     \u001b[32m✔\u001b[39m \u001b[34mstringr\u001b[39m 1.4.0\n",
      "\u001b[32m✔\u001b[39m \u001b[34mreadr  \u001b[39m 2.1.2     \u001b[32m✔\u001b[39m \u001b[34mforcats\u001b[39m 0.5.1\n",
      "\n",
      "── \u001b[1mConflicts\u001b[22m ────────────────────────────────────────── tidyverse_conflicts() ──\n",
      "\u001b[31m✖\u001b[39m \u001b[34mdplyr\u001b[39m::\u001b[32mfilter()\u001b[39m masks \u001b[34mstats\u001b[39m::filter()\n",
      "\u001b[31m✖\u001b[39m \u001b[34mdplyr\u001b[39m::\u001b[32mlag()\u001b[39m    masks \u001b[34mstats\u001b[39m::lag()\n",
      "\n",
      "── \u001b[1mAttaching packages\u001b[22m ────────────────────────────────────── tidymodels 1.0.0 ──\n",
      "\n",
      "\u001b[32m✔\u001b[39m \u001b[34mbroom       \u001b[39m 1.0.0     \u001b[32m✔\u001b[39m \u001b[34mrsample     \u001b[39m 1.0.0\n",
      "\u001b[32m✔\u001b[39m \u001b[34mdials       \u001b[39m 1.0.0     \u001b[32m✔\u001b[39m \u001b[34mtune        \u001b[39m 1.0.0\n",
      "\u001b[32m✔\u001b[39m \u001b[34minfer       \u001b[39m 1.0.2     \u001b[32m✔\u001b[39m \u001b[34mworkflows   \u001b[39m 1.0.0\n",
      "\u001b[32m✔\u001b[39m \u001b[34mmodeldata   \u001b[39m 1.0.0     \u001b[32m✔\u001b[39m \u001b[34mworkflowsets\u001b[39m 1.0.0\n",
      "\u001b[32m✔\u001b[39m \u001b[34mparsnip     \u001b[39m 1.0.0     \u001b[32m✔\u001b[39m \u001b[34myardstick   \u001b[39m 1.0.0\n",
      "\u001b[32m✔\u001b[39m \u001b[34mrecipes     \u001b[39m 1.0.1     \n",
      "\n",
      "── \u001b[1mConflicts\u001b[22m ───────────────────────────────────────── tidymodels_conflicts() ──\n",
      "\u001b[31m✖\u001b[39m \u001b[34mscales\u001b[39m::\u001b[32mdiscard()\u001b[39m masks \u001b[34mpurrr\u001b[39m::discard()\n",
      "\u001b[31m✖\u001b[39m \u001b[34mdplyr\u001b[39m::\u001b[32mfilter()\u001b[39m   masks \u001b[34mstats\u001b[39m::filter()\n",
      "\u001b[31m✖\u001b[39m \u001b[34mrecipes\u001b[39m::\u001b[32mfixed()\u001b[39m  masks \u001b[34mstringr\u001b[39m::fixed()\n",
      "\u001b[31m✖\u001b[39m \u001b[34mdplyr\u001b[39m::\u001b[32mlag()\u001b[39m      masks \u001b[34mstats\u001b[39m::lag()\n",
      "\u001b[31m✖\u001b[39m \u001b[34myardstick\u001b[39m::\u001b[32mspec()\u001b[39m masks \u001b[34mreadr\u001b[39m::spec()\n",
      "\u001b[31m✖\u001b[39m \u001b[34mrecipes\u001b[39m::\u001b[32mstep()\u001b[39m   masks \u001b[34mstats\u001b[39m::step()\n",
      "\u001b[34m•\u001b[39m Use suppressPackageStartupMessages() to eliminate package startup messages\n",
      "\n",
      "\n",
      "Attaching package: ‘gridExtra’\n",
      "\n",
      "\n",
      "The following object is masked from ‘package:dplyr’:\n",
      "\n",
      "    combine\n",
      "\n",
      "\n"
     ]
    }
   ],
   "source": [
    "library(tidyverse)\n",
    "library(repr)\n",
    "library(tidymodels)\n",
    "library(gridExtra)\n",
    "options(repr.matrix.max.rows = 6)"
   ]
  },
  {
   "cell_type": "code",
   "execution_count": 4,
   "id": "52328a61-3e8a-4a61-b279-ecab9a3bdf9e",
   "metadata": {},
   "outputs": [
    {
     "name": "stderr",
     "output_type": "stream",
     "text": [
      "\u001b[1mRows: \u001b[22m\u001b[34m2240\u001b[39m \u001b[1mColumns: \u001b[22m\u001b[34m22\u001b[39m\n",
      "\u001b[36m──\u001b[39m \u001b[1mColumn specification\u001b[22m \u001b[36m────────────────────────────────────────────────────────\u001b[39m\n",
      "\u001b[1mDelimiter:\u001b[22m \",\"\n",
      "\u001b[31mchr\u001b[39m  (3): Education, Marital_Status, Dt_Customer\n",
      "\u001b[32mdbl\u001b[39m (19): Id, Year_Birth, Income, Kidhome, Teenhome, Recency, MntWines, MntF...\n",
      "\n",
      "\u001b[36mℹ\u001b[39m Use `spec()` to retrieve the full column specification for this data.\n",
      "\u001b[36mℹ\u001b[39m Specify the column types or set `show_col_types = FALSE` to quiet this message.\n"
     ]
    },
    {
     "name": "stdout",
     "output_type": "stream",
     "text": [
      "Rows: 2,216\n",
      "Columns: 14\n",
      "$ Income              \u001b[3m\u001b[90m<dbl>\u001b[39m\u001b[23m 84835, 57091, 67267, 32474, 21474, 71691, 63564, 4…\n",
      "$ Recency             \u001b[3m\u001b[90m<dbl>\u001b[39m\u001b[23m 0, 0, 0, 0, 0, 0, 0, 0, 0, 0, 0, 0, 0, 0, 0, 0, 0,…\n",
      "$ MntGoldProds        \u001b[3m\u001b[90m<dbl>\u001b[39m\u001b[23m 218, 37, 30, 0, 34, 43, 65, 7, 5, 5, 26, 4, 102, 3…\n",
      "$ NumDealsPurchases   \u001b[3m\u001b[90m<dbl>\u001b[39m\u001b[23m 1, 1, 1, 1, 2, 1, 1, 1, 3, 3, 1, 2, 1, 1, 0, 4, 4,…\n",
      "$ NumWebPurchases     \u001b[3m\u001b[90m<dbl>\u001b[39m\u001b[23m 4, 7, 3, 1, 3, 4, 10, 2, 6, 6, 5, 3, 3, 1, 25, 2, …\n",
      "$ NumCatalogPurchases \u001b[3m\u001b[90m<dbl>\u001b[39m\u001b[23m 4, 3, 2, 0, 1, 7, 10, 1, 2, 2, 6, 1, 6, 1, 0, 1, 1…\n",
      "$ NumStorePurchases   \u001b[3m\u001b[90m<dbl>\u001b[39m\u001b[23m 6, 7, 5, 2, 2, 5, 7, 3, 9, 9, 10, 6, 6, 2, 0, 5, 5…\n",
      "$ NumWebVisitsMonth   \u001b[3m\u001b[90m<dbl>\u001b[39m\u001b[23m 1, 5, 2, 7, 7, 2, 6, 5, 4, 4, 1, 4, 1, 6, 1, 4, 4,…\n",
      "$ Response            \u001b[3m\u001b[90m<fct>\u001b[39m\u001b[23m 1, 1, 0, 0, 1, 1, 1, 0, 0, 0, 0, 0, 1, 0, 0, 0, 1,…\n",
      "$ Childhome           \u001b[3m\u001b[90m<dbl>\u001b[39m\u001b[23m 0, 0, 1, 2, 1, 0, 0, 1, 1, 1, 0, 1, 0, 0, 1, 2, 2,…\n",
      "$ Age                 \u001b[3m\u001b[90m<dbl>\u001b[39m\u001b[23m 52, 61, 64, 55, 33, 64, 68, 55, 68, 68, 75, 43, 63…\n",
      "$ Total_Spent         \u001b[3m\u001b[90m<dbl>\u001b[39m\u001b[23m 972, 540, 221, 11, 57, 1149, 1150, 89, 539, 539, 1…\n",
      "$ Weeks_Customer      \u001b[3m\u001b[90m<dbl>\u001b[39m\u001b[23m 445.7143, 445.8571, 450.5714, 425.4286, 438.7143, …\n",
      "$ Relationship        \u001b[3m\u001b[90m<fct>\u001b[39m\u001b[23m No, No, Yes, Yes, No, No, Yes, Yes, Yes, Yes, Yes,…\n"
     ]
    }
   ],
   "source": [
    "set.seed(16)\n",
    "url <- \"https://raw.githubusercontent.com/nchan315/DSCI_100_007_16_Project/main/superstore_data.csv\"\n",
    "data <- read_csv(url)\n",
    "\n",
    "store_data <- data |>\n",
    "    # removing rows with NA\n",
    "    na.omit() |>\n",
    "\n",
    "    # removing discrete variables\n",
    "    select(-Id, -Education, -Complain) |>\n",
    "\n",
    "    # summing the number of children\n",
    "    mutate(Childhome = Kidhome + Teenhome) |>\n",
    "    select(-Kidhome, -Teenhome) |>\n",
    "\n",
    "    # creating an age column\n",
    "    mutate(Age = 2022 - Year_Birth) |>\n",
    "    select(-Year_Birth) |>\n",
    "\n",
    "    # combining the amount spent on food\n",
    "    mutate(Total_Spent = MntWines + MntFruits + MntMeatProducts + MntFishProducts + MntSweetProducts) |>\n",
    "    select(-MntWines, -MntFruits, -MntMeatProducts, -MntFishProducts, -MntSweetProducts) |>\n",
    "\n",
    "    # calculating weeks that the customer has been a customer\n",
    "    mutate(Dt_Customer = as.Date(Dt_Customer, \"%m/%d/%Y\")) |>\n",
    "    mutate(Weeks_Customer = difftime(\"2022-12-31\", Dt_Customer, units = \"weeks\")) |>\n",
    "    mutate(Weeks_Customer = as.numeric(Weeks_Customer)) |>\n",
    "    select(-Dt_Customer) |>\n",
    "\n",
    "    # changing martial status into 2 distinctions\n",
    "    mutate(Relationship = case_when(Marital_Status == 'Married' | Marital_Status == 'Together' ~ 'Yes',\n",
    "                                    Marital_Status !=  'Married' & Marital_Status != 'Together' ~ 'No')) |>\n",
    "    select(-Marital_Status) |>\n",
    "    mutate(Relationship = as.factor(Relationship)) |>\n",
    "\n",
    "    # changing response to a factor\n",
    "    mutate(Response = as.factor(Response))\n",
    "\n",
    "glimpse(store_data)"
   ]
  },
  {
   "cell_type": "markdown",
   "id": "dd08cf5b-ff75-448d-a085-aee47ca1a46d",
   "metadata": {},
   "source": [
    "Our dataset has 14 variables, but we decided to focus on the variables: Relationship, Income, Age, Childhome, Total_Spent, and Weeks_Customer because they seemed like possible factors that would influence a positive or negative response."
   ]
  },
  {
   "cell_type": "code",
   "execution_count": 5,
   "id": "311a516c-2ccf-4715-8ba9-90ff236d6cae",
   "metadata": {},
   "outputs": [
    {
     "name": "stdout",
     "output_type": "stream",
     "text": [
      "Rows: 2,216\n",
      "Columns: 7\n",
      "$ Relationship   \u001b[3m\u001b[90m<fct>\u001b[39m\u001b[23m No, No, Yes, Yes, No, No, Yes, Yes, Yes, Yes, Yes, Yes,…\n",
      "$ Income         \u001b[3m\u001b[90m<dbl>\u001b[39m\u001b[23m 84835, 57091, 67267, 32474, 21474, 71691, 63564, 44931,…\n",
      "$ Age            \u001b[3m\u001b[90m<dbl>\u001b[39m\u001b[23m 52, 61, 64, 55, 33, 64, 68, 55, 68, 68, 75, 43, 63, 41,…\n",
      "$ Childhome      \u001b[3m\u001b[90m<dbl>\u001b[39m\u001b[23m 0, 0, 1, 2, 1, 0, 0, 1, 1, 1, 0, 1, 0, 0, 1, 2, 2, 1, 1…\n",
      "$ Total_Spent    \u001b[3m\u001b[90m<dbl>\u001b[39m\u001b[23m 972, 540, 221, 11, 57, 1149, 1150, 89, 539, 539, 1182, …\n",
      "$ Weeks_Customer \u001b[3m\u001b[90m<dbl>\u001b[39m\u001b[23m 445.7143, 445.8571, 450.5714, 425.4286, 438.7143, 458.7…\n",
      "$ Response       \u001b[3m\u001b[90m<fct>\u001b[39m\u001b[23m 1, 1, 0, 0, 1, 1, 1, 0, 0, 0, 0, 0, 1, 0, 0, 0, 1, 0, 0…\n"
     ]
    }
   ],
   "source": [
    "store_data_reduced <- store_data |>\n",
    "    select(Relationship, Income, Age, Childhome, Total_Spent, Weeks_Customer, Response)\n",
    "glimpse(store_data_reduced)"
   ]
  },
  {
   "cell_type": "markdown",
   "id": "e6b5b172-aedd-4b10-8c19-654c89bf194c",
   "metadata": {},
   "source": [
    "### Creating the Testing/Training Split\n",
    "We split the data set by martial status (Relationship column) and split the data into 75% training and 25% testing sets."
   ]
  },
  {
   "cell_type": "code",
   "execution_count": 6,
   "id": "75ff9898-36c4-4674-8bb5-4ed2d9a95cb5",
   "metadata": {},
   "outputs": [
    {
     "name": "stdout",
     "output_type": "stream",
     "text": [
      "Rows: 1,072\n",
      "Columns: 7\n",
      "$ Relationship   \u001b[3m\u001b[90m<fct>\u001b[39m\u001b[23m Yes, Yes, Yes, Yes, Yes, Yes, Yes, Yes, Yes, Yes, Yes, …\n",
      "$ Income         \u001b[3m\u001b[90m<dbl>\u001b[39m\u001b[23m 32474, 44931, 65324, 81044, 62499, 26872, 54809, 36634,…\n",
      "$ Age            \u001b[3m\u001b[90m<dbl>\u001b[39m\u001b[23m 55, 55, 68, 75, 43, 41, 45, 68, 43, 46, 66, 66, 36, 32,…\n",
      "$ Childhome      \u001b[3m\u001b[90m<dbl>\u001b[39m\u001b[23m 2, 1, 1, 0, 1, 0, 2, 1, 1, 1, 2, 2, 0, 0, 0, 1, 1, 1, 1…\n",
      "$ Total_Spent    \u001b[3m\u001b[90m<dbl>\u001b[39m\u001b[23m 11, 89, 539, 1182, 218, 40, 152, 305, 69, 381, 652, 652…\n",
      "$ Weeks_Customer \u001b[3m\u001b[90m<dbl>\u001b[39m\u001b[23m 425.4286, 467.0000, 426.0000, 470.1429, 485.2857, 480.4…\n",
      "$ Response       \u001b[3m\u001b[90m<fct>\u001b[39m\u001b[23m 0, 0, 0, 0, 0, 0, 0, 0, 0, 0, 0, 0, 0, 0, 0, 0, 0, 0, 0…\n",
      "Rows: 358\n",
      "Columns: 7\n",
      "$ Relationship   \u001b[3m\u001b[90m<fct>\u001b[39m\u001b[23m Yes, Yes, Yes, Yes, Yes, Yes, Yes, Yes, Yes, Yes, Yes, …\n",
      "$ Income         \u001b[3m\u001b[90m<dbl>\u001b[39m\u001b[23m 67267, 65324, 4428, 34578, 66991, 76445, 75276, 77037, …\n",
      "$ Age            \u001b[3m\u001b[90m<dbl>\u001b[39m\u001b[23m 64, 68, 53, 50, 68, 51, 57, 62, 53, 43, 60, 57, 69, 40,…\n",
      "$ Childhome      \u001b[3m\u001b[90m<dbl>\u001b[39m\u001b[23m 1, 1, 1, 3, 0, 1, 0, 1, 0, 1, 1, 0, 1, 2, 1, 0, 2, 1, 1…\n",
      "$ Total_Spent    \u001b[3m\u001b[90m<dbl>\u001b[39m\u001b[23m 221, 539, 38, 8, 1241, 1375, 1019, 1113, 977, 668, 118,…\n",
      "$ Weeks_Customer \u001b[3m\u001b[90m<dbl>\u001b[39m\u001b[23m 450.5714, 426.0000, 503.1429, 425.5714, 529.1429, 535.1…\n",
      "$ Response       \u001b[3m\u001b[90m<fct>\u001b[39m\u001b[23m 0, 0, 0, 0, 0, 0, 0, 0, 0, 0, 0, 1, 0, 1, 0, 0, 0, 0, 0…\n",
      "Rows: 589\n",
      "Columns: 7\n",
      "$ Relationship   \u001b[3m\u001b[90m<fct>\u001b[39m\u001b[23m No, No, No, No, No, No, No, No, No, No, No, No, No, No,…\n",
      "$ Income         \u001b[3m\u001b[90m<dbl>\u001b[39m\u001b[23m 32173, 47823, 30523, 43456, 33168, 73170, 65808, 39228,…\n",
      "$ Age            \u001b[3m\u001b[90m<dbl>\u001b[39m\u001b[23m 64, 62, 64, 56, 57, 47, 51, 62, 36, 40, 54, 60, 60, 35,…\n",
      "$ Childhome      \u001b[3m\u001b[90m<dbl>\u001b[39m\u001b[23m 1, 1, 3, 1, 1, 0, 2, 0, 1, 0, 2, 1, 3, 0, 2, 1, 1, 1, 1…\n",
      "$ Total_Spent    \u001b[3m\u001b[90m<dbl>\u001b[39m\u001b[23m 20, 62, 8, 386, 119, 694, 262, 17, 153, 111, 78, 1561, …\n",
      "$ Weeks_Customer \u001b[3m\u001b[90m<dbl>\u001b[39m\u001b[23m 520.5714, 492.5714, 520.7143, 509.5714, 533.0000, 448.0…\n",
      "$ Response       \u001b[3m\u001b[90m<fct>\u001b[39m\u001b[23m 0, 0, 0, 0, 0, 0, 0, 0, 0, 0, 0, 0, 0, 0, 0, 0, 0, 0, 0…\n",
      "Rows: 197\n",
      "Columns: 7\n",
      "$ Relationship   \u001b[3m\u001b[90m<fct>\u001b[39m\u001b[23m No, No, No, No, No, No, No, No, No, No, No, No, No, No,…\n",
      "$ Income         \u001b[3m\u001b[90m<dbl>\u001b[39m\u001b[23m 67786, 57731, 35340, 81698, 72967, 48904, 52195, 47139,…\n",
      "$ Age            \u001b[3m\u001b[90m<dbl>\u001b[39m\u001b[23m 63, 53, 66, 39, 52, 62, 44, 70, 50, 50, 42, 66, 35, 51,…\n",
      "$ Childhome      \u001b[3m\u001b[90m<dbl>\u001b[39m\u001b[23m 0, 1, 2, 0, 1, 1, 3, 2, 2, 2, 1, 1, 0, 1, 2, 1, 1, 1, 1…\n",
      "$ Total_Spent    \u001b[3m\u001b[90m<dbl>\u001b[39m\u001b[23m 1054, 660, 40, 1059, 372, 344, 16, 60, 70, 70, 37, 447,…\n",
      "$ Weeks_Customer \u001b[3m\u001b[90m<dbl>\u001b[39m\u001b[23m 494.1429, 527.1429, 443.8571, 521.2857, 524.0000, 567.8…\n",
      "$ Response       \u001b[3m\u001b[90m<fct>\u001b[39m\u001b[23m 1, 0, 0, 1, 1, 0, 0, 1, 1, 0, 0, 1, 1, 0, 0, 0, 0, 0, 0…\n"
     ]
    }
   ],
   "source": [
    "# creating the 75% training 25% testing split\n",
    "store_data_yes_split <- store_data_reduced |>\n",
    "    filter(Relationship == \"Yes\") |>\n",
    "    initial_split(prop = 0.75, strata = Response)\n",
    "store_data_yes_train <- training(store_data_yes_split)\n",
    "store_data_yes_test <- testing(store_data_yes_split)\n",
    "\n",
    "store_data_no_split <- store_data_reduced |>\n",
    "    filter(Relationship == \"No\") |>\n",
    "    initial_split(prop = 0.75, strata = Response)\n",
    "store_data_no_train <- training(store_data_no_split)\n",
    "store_data_no_test <- testing(store_data_no_split)\n",
    "\n",
    "glimpse(store_data_yes_train)\n",
    "glimpse(store_data_yes_test)\n",
    "glimpse(store_data_no_train)\n",
    "glimpse(store_data_no_test)"
   ]
  },
  {
   "cell_type": "markdown",
   "id": "b1187343-5728-44ca-acb1-e86d724cb0e9",
   "metadata": {},
   "source": [
    "### Forward Selection\n",
    "\n",
    "We used forward selection to determine the most relevant predictors for the different martial statuses.\n",
    "\n",
    "This code was taken from 6.8 in online DSCI 100 textbook."
   ]
  },
  {
   "cell_type": "code",
   "execution_count": 7,
   "id": "c059af01-f049-429e-bb20-7cb4207e0445",
   "metadata": {},
   "outputs": [
    {
     "data": {
      "text/html": [
       "<style>\n",
       ".list-inline {list-style: none; margin:0; padding: 0}\n",
       ".list-inline>li {display: inline-block}\n",
       ".list-inline>li:not(:last-child)::after {content: \"\\00b7\"; padding: 0 .5ex}\n",
       "</style>\n",
       "<ol class=list-inline><li>'Income'</li><li>'Age'</li><li>'Childhome'</li><li>'Total_Spent'</li><li>'Weeks_Customer'</li></ol>\n"
      ],
      "text/latex": [
       "\\begin{enumerate*}\n",
       "\\item 'Income'\n",
       "\\item 'Age'\n",
       "\\item 'Childhome'\n",
       "\\item 'Total\\_Spent'\n",
       "\\item 'Weeks\\_Customer'\n",
       "\\end{enumerate*}\n"
      ],
      "text/markdown": [
       "1. 'Income'\n",
       "2. 'Age'\n",
       "3. 'Childhome'\n",
       "4. 'Total_Spent'\n",
       "5. 'Weeks_Customer'\n",
       "\n",
       "\n"
      ],
      "text/plain": [
       "[1] \"Income\"         \"Age\"            \"Childhome\"      \"Total_Spent\"   \n",
       "[5] \"Weeks_Customer\""
      ]
     },
     "metadata": {},
     "output_type": "display_data"
    }
   ],
   "source": [
    "# getting column names\n",
    "names <- colnames(store_data_yes_train |> select(-Response, -Relationship))\n",
    "names"
   ]
  },
  {
   "cell_type": "code",
   "execution_count": 8,
   "id": "4525ef10-db84-4603-941c-2f59e01e2c65",
   "metadata": {},
   "outputs": [],
   "source": [
    "# Beginning of forward selection for Yes Relationship:\n",
    "# (may take a while to run)\n",
    "\n",
    "# create an empty tibble to store the results\n",
    "accuracies <- tibble(size = integer(), \n",
    "                     model_string = character(), \n",
    "                     accuracy = numeric())\n",
    "\n",
    "# create a model specification\n",
    "knn_spec <- nearest_neighbor(weight_func = \"rectangular\", \n",
    "                             neighbors = tune()) |>\n",
    "     set_engine(\"kknn\") |>\n",
    "     set_mode(\"classification\")\n",
    "\n",
    "# create a 5-fold cross-validation object\n",
    "store_vfold <- vfold_cv(store_data_yes_train, v = 5, strata = Response)\n",
    "\n",
    "# store the total number of predictors\n",
    "n_total <- length(names)\n",
    "\n",
    "# stores selected predictors\n",
    "selected <- c()\n",
    "\n",
    "# for every size from 1 to the total number of predictors\n",
    "for (i in 1:n_total) {\n",
    "    # for every predictor still not added yet\n",
    "    accs <- list()\n",
    "    models <- list()\n",
    "    for (j in 1:length(names)) {\n",
    "        # create a model string for this combination of predictors\n",
    "        preds_new <- c(selected, names[[j]])\n",
    "        model_string <- paste(\"Response\", \"~\", paste(preds_new, collapse=\"+\"))\n",
    "\n",
    "        # create a recipe from the model string\n",
    "        store_recipe <- recipe(as.formula(model_string), \n",
    "                                data = store_data_yes_train) |>\n",
    "                          step_scale(all_predictors()) |>\n",
    "                          step_center(all_predictors())\n",
    "\n",
    "        # tune the KNN classifier with these predictors, \n",
    "        # and collect the accuracy for the best K\n",
    "        acc <- workflow() |>\n",
    "          add_recipe(store_recipe) |>\n",
    "          add_model(knn_spec) |>\n",
    "          tune_grid(resamples = store_vfold, grid = 10) |>\n",
    "          collect_metrics() |>\n",
    "          filter(.metric == \"accuracy\") |>\n",
    "          summarize(mx = max(mean))\n",
    "        acc <- acc$mx |> unlist()\n",
    "\n",
    "        # add this result to the dataframe\n",
    "        accs[[j]] <- acc\n",
    "        models[[j]] <- model_string\n",
    "    }\n",
    "    jstar <- which.max(unlist(accs))\n",
    "    accuracies <- accuracies |> \n",
    "      add_row(size = i, \n",
    "              model_string = models[[jstar]], \n",
    "              accuracy = accs[[jstar]])\n",
    "    selected <- c(selected, names[[jstar]])\n",
    "    names <- names[-jstar]\n",
    "}\n",
    "accuracies"
   ]
  },
  {
   "cell_type": "code",
   "execution_count": null,
   "id": "5585b37d-876d-41c4-96d9-ce3b8a68c05f",
   "metadata": {},
   "outputs": [],
   "source": [
    "yes_plot <- accuracies |>\n",
    "    ggplot(aes(size, accuracy)) +\n",
    "        geom_line()\n",
    "yes_plot"
   ]
  },
  {
   "cell_type": "code",
   "execution_count": 9,
   "id": "176cd239-116c-4cb6-b99a-bae55e9f3760",
   "metadata": {},
   "outputs": [
    {
     "ename": "ERROR",
     "evalue": "Error in names[[j]]: subscript out of bounds\n",
     "output_type": "error",
     "traceback": [
      "Error in names[[j]]: subscript out of bounds\nTraceback:\n"
     ]
    }
   ],
   "source": [
    "# Beginning of forward selection for No Relationship:\n",
    "# (may take a while to run)\n",
    "\n",
    "# create an empty tibble to store the results\n",
    "accuracies <- tibble(size = integer(), \n",
    "                     model_string = character(), \n",
    "                     accuracy = numeric())\n",
    "\n",
    "# create a model specification\n",
    "knn_spec <- nearest_neighbor(weight_func = \"rectangular\", \n",
    "                             neighbors = tune()) |>\n",
    "     set_engine(\"kknn\") |>\n",
    "     set_mode(\"classification\")\n",
    "\n",
    "# create a 5-fold cross-validation object\n",
    "store_vfold <- vfold_cv(store_data_no_train, v = 5, strata = Response)\n",
    "\n",
    "# store the total number of predictors\n",
    "n_total <- length(names)\n",
    "\n",
    "# stores selected predictors\n",
    "selected <- c()\n",
    "\n",
    "# for every size from 1 to the total number of predictors\n",
    "for (i in 1:n_total) {\n",
    "    # for every predictor still not added yet\n",
    "    accs <- list()\n",
    "    models <- list()\n",
    "    for (j in 1:length(names)) {\n",
    "        # create a model string for this combination of predictors\n",
    "        preds_new <- c(selected, names[[j]])\n",
    "        model_string <- paste(\"Response\", \"~\", paste(preds_new, collapse=\"+\"))\n",
    "\n",
    "        # create a recipe from the model string\n",
    "        store_recipe <- recipe(as.formula(model_string), \n",
    "                                data = store_data_no_train) |>\n",
    "                          step_scale(all_predictors()) |>\n",
    "                          step_center(all_predictors())\n",
    "\n",
    "        # tune the KNN classifier with these predictors, \n",
    "        # and collect the accuracy for the best K\n",
    "        acc <- workflow() |>\n",
    "          add_recipe(store_recipe) |>\n",
    "          add_model(knn_spec) |>\n",
    "          tune_grid(resamples = store_vfold, grid = 10) |>\n",
    "          collect_metrics() |>\n",
    "          filter(.metric == \"accuracy\") |>\n",
    "          summarize(mx = max(mean))\n",
    "        acc <- acc$mx |> unlist()\n",
    "\n",
    "        # add this result to the dataframe\n",
    "        accs[[j]] <- acc\n",
    "        models[[j]] <- model_string\n",
    "    }\n",
    "    jstar <- which.max(unlist(accs))\n",
    "    accuracies <- accuracies |> \n",
    "      add_row(size = i, \n",
    "              model_string = models[[jstar]], \n",
    "              accuracy = accs[[jstar]])\n",
    "    selected <- c(selected, names[[jstar]])\n",
    "    names <- names[-jstar]\n",
    "}\n",
    "accuracies\n",
    "\n",
    "accuracy_versus_k <- ggplot(acc, aes(x = neighbors, y = mean))+\n",
    "      geom_point() +\n",
    "      geom_line() +\n",
    "      labs(x = \"Neighbors\", y = \"Accuracy Estimate\") +\n",
    "      scale_x_continuous(breaks = seq(0, 14, by = 1)) +  # adjusting the x-axis\n",
    "      scale_y_continuous(limits = c(0.4, 1.0)) # adjusting the y-axis\n",
    "accuracy_versus_k"
   ]
  },
  {
   "cell_type": "code",
   "execution_count": null,
   "id": "1722110d-76e3-4a31-8d8b-9b867eb9af77",
   "metadata": {},
   "outputs": [],
   "source": [
    "no_plot <- accuracies |>\n",
    "    ggplot(aes(size, accuracy)) +\n",
    "        geom_line()\n",
    "no_plot"
   ]
  },
  {
   "cell_type": "markdown",
   "id": "550c9324-f008-487f-9a42-62a788a22a2c",
   "metadata": {},
   "source": [
    "FOR YES RELATIONSHIP: use Age+Total_Spent+Income+Childhome\n",
    "\n",
    "FOR  NO RELATIONSHIP: use Age+Total_Spent+Income+Childhome"
   ]
  },
  {
   "cell_type": "markdown",
   "id": "dc015c38-6d8b-456d-ae05-cf936777d3da",
   "metadata": {},
   "source": [
    "Now that we know the best combination of predictors to use to obtain the highest accuracy, we'll test for how many neighbors we should use to obtain the highest accuracy."
   ]
  },
  {
   "cell_type": "code",
   "execution_count": 38,
   "id": "f6dc3737-c6fc-4260-b7b2-49f82f3f9d07",
   "metadata": {},
   "outputs": [
    {
     "data": {
      "text/html": [
       "<table class=\"dataframe\">\n",
       "<caption>A tibble: 16 × 7</caption>\n",
       "<thead>\n",
       "\t<tr><th scope=col>neighbors</th><th scope=col>.metric</th><th scope=col>.estimator</th><th scope=col>mean</th><th scope=col>n</th><th scope=col>std_err</th><th scope=col>.config</th></tr>\n",
       "\t<tr><th scope=col>&lt;int&gt;</th><th scope=col>&lt;chr&gt;</th><th scope=col>&lt;chr&gt;</th><th scope=col>&lt;dbl&gt;</th><th scope=col>&lt;int&gt;</th><th scope=col>&lt;dbl&gt;</th><th scope=col>&lt;chr&gt;</th></tr>\n",
       "</thead>\n",
       "<tbody>\n",
       "\t<tr><td>2</td><td>accuracy</td><td>binary</td><td>0.8889927</td><td>5</td><td>0.0009056986</td><td>Preprocessor1_Model1</td></tr>\n",
       "\t<tr><td>2</td><td>roc_auc </td><td>binary</td><td>0.5010225</td><td>5</td><td>0.0017560152</td><td>Preprocessor1_Model1</td></tr>\n",
       "\t<tr><td>3</td><td>accuracy</td><td>binary</td><td>0.8899317</td><td>5</td><td>0.0009583775</td><td>Preprocessor1_Model2</td></tr>\n",
       "\t<tr><td>⋮</td><td>⋮</td><td>⋮</td><td>⋮</td><td>⋮</td><td>⋮</td><td>⋮</td></tr>\n",
       "\t<tr><td>13</td><td>roc_auc </td><td>binary</td><td>0.5052376</td><td>5</td><td>0.0186931996</td><td>Preprocessor1_Model7</td></tr>\n",
       "\t<tr><td>15</td><td>accuracy</td><td>binary</td><td>0.8899317</td><td>5</td><td>0.0009583775</td><td>Preprocessor1_Model8</td></tr>\n",
       "\t<tr><td>15</td><td>roc_auc </td><td>binary</td><td>0.4944047</td><td>5</td><td>0.0180985761</td><td>Preprocessor1_Model8</td></tr>\n",
       "</tbody>\n",
       "</table>\n"
      ],
      "text/latex": [
       "A tibble: 16 × 7\n",
       "\\begin{tabular}{lllllll}\n",
       " neighbors & .metric & .estimator & mean & n & std\\_err & .config\\\\\n",
       " <int> & <chr> & <chr> & <dbl> & <int> & <dbl> & <chr>\\\\\n",
       "\\hline\n",
       "\t 2 & accuracy & binary & 0.8889927 & 5 & 0.0009056986 & Preprocessor1\\_Model1\\\\\n",
       "\t 2 & roc\\_auc  & binary & 0.5010225 & 5 & 0.0017560152 & Preprocessor1\\_Model1\\\\\n",
       "\t 3 & accuracy & binary & 0.8899317 & 5 & 0.0009583775 & Preprocessor1\\_Model2\\\\\n",
       "\t ⋮ & ⋮ & ⋮ & ⋮ & ⋮ & ⋮ & ⋮\\\\\n",
       "\t 13 & roc\\_auc  & binary & 0.5052376 & 5 & 0.0186931996 & Preprocessor1\\_Model7\\\\\n",
       "\t 15 & accuracy & binary & 0.8899317 & 5 & 0.0009583775 & Preprocessor1\\_Model8\\\\\n",
       "\t 15 & roc\\_auc  & binary & 0.4944047 & 5 & 0.0180985761 & Preprocessor1\\_Model8\\\\\n",
       "\\end{tabular}\n"
      ],
      "text/markdown": [
       "\n",
       "A tibble: 16 × 7\n",
       "\n",
       "| neighbors &lt;int&gt; | .metric &lt;chr&gt; | .estimator &lt;chr&gt; | mean &lt;dbl&gt; | n &lt;int&gt; | std_err &lt;dbl&gt; | .config &lt;chr&gt; |\n",
       "|---|---|---|---|---|---|---|\n",
       "| 2 | accuracy | binary | 0.8889927 | 5 | 0.0009056986 | Preprocessor1_Model1 |\n",
       "| 2 | roc_auc  | binary | 0.5010225 | 5 | 0.0017560152 | Preprocessor1_Model1 |\n",
       "| 3 | accuracy | binary | 0.8899317 | 5 | 0.0009583775 | Preprocessor1_Model2 |\n",
       "| ⋮ | ⋮ | ⋮ | ⋮ | ⋮ | ⋮ | ⋮ |\n",
       "| 13 | roc_auc  | binary | 0.5052376 | 5 | 0.0186931996 | Preprocessor1_Model7 |\n",
       "| 15 | accuracy | binary | 0.8899317 | 5 | 0.0009583775 | Preprocessor1_Model8 |\n",
       "| 15 | roc_auc  | binary | 0.4944047 | 5 | 0.0180985761 | Preprocessor1_Model8 |\n",
       "\n"
      ],
      "text/plain": [
       "   neighbors .metric  .estimator mean      n std_err      .config             \n",
       "1  2         accuracy binary     0.8889927 5 0.0009056986 Preprocessor1_Model1\n",
       "2  2         roc_auc  binary     0.5010225 5 0.0017560152 Preprocessor1_Model1\n",
       "3  3         accuracy binary     0.8899317 5 0.0009583775 Preprocessor1_Model2\n",
       "⋮  ⋮         ⋮        ⋮          ⋮         ⋮ ⋮            ⋮                   \n",
       "14 13        roc_auc  binary     0.5052376 5 0.0186931996 Preprocessor1_Model7\n",
       "15 15        accuracy binary     0.8899317 5 0.0009583775 Preprocessor1_Model8\n",
       "16 15        roc_auc  binary     0.4944047 5 0.0180985761 Preprocessor1_Model8"
      ]
     },
     "metadata": {},
     "output_type": "display_data"
    }
   ],
   "source": [
    "store_yes_recipe <- recipe(Response ~ Age+Total_Spent+Income+Childhome, \n",
    "                                data = store_data_yes_train) |>\n",
    "                          step_scale(all_predictors()) |>\n",
    "                          step_center(all_predictors())\n",
    "\n",
    "knn_spec <- nearest_neighbor(weight_func = \"rectangular\", \n",
    "                             neighbors = tune()) |>\n",
    "     set_engine(\"kknn\") |>\n",
    "     set_mode(\"classification\")\n",
    "\n",
    "knn_results <- workflow() |>\n",
    "          add_recipe(store_recipe) |>\n",
    "          add_model(knn_spec) |>\n",
    "          tune_grid(resamples = store_vfold, grid = 10) |>\n",
    "    collect_metrics()\n",
    "knn_results"
   ]
  },
  {
   "cell_type": "code",
   "execution_count": 39,
   "id": "57bb88d9-4e2f-4efd-b2dc-bc0706a3796e",
   "metadata": {},
   "outputs": [
    {
     "data": {
      "text/html": [
       "<table class=\"dataframe\">\n",
       "<caption>A tibble: 8 × 7</caption>\n",
       "<thead>\n",
       "\t<tr><th scope=col>neighbors</th><th scope=col>.metric</th><th scope=col>.estimator</th><th scope=col>mean</th><th scope=col>n</th><th scope=col>std_err</th><th scope=col>.config</th></tr>\n",
       "\t<tr><th scope=col>&lt;int&gt;</th><th scope=col>&lt;chr&gt;</th><th scope=col>&lt;chr&gt;</th><th scope=col>&lt;dbl&gt;</th><th scope=col>&lt;int&gt;</th><th scope=col>&lt;dbl&gt;</th><th scope=col>&lt;chr&gt;</th></tr>\n",
       "</thead>\n",
       "<tbody>\n",
       "\t<tr><td>3</td><td>accuracy</td><td>binary</td><td>0.8899317</td><td>5</td><td>0.0009583775</td><td>Preprocessor1_Model2</td></tr>\n",
       "\t<tr><td>4</td><td>accuracy</td><td>binary</td><td>0.8899317</td><td>5</td><td>0.0009583775</td><td>Preprocessor1_Model3</td></tr>\n",
       "\t<tr><td>6</td><td>accuracy</td><td>binary</td><td>0.8899317</td><td>5</td><td>0.0009583775</td><td>Preprocessor1_Model4</td></tr>\n",
       "\t<tr><td>⋮</td><td>⋮</td><td>⋮</td><td>⋮</td><td>⋮</td><td>⋮</td><td>⋮</td></tr>\n",
       "\t<tr><td>13</td><td>accuracy</td><td>binary</td><td>0.8899317</td><td>5</td><td>0.0009583775</td><td>Preprocessor1_Model7</td></tr>\n",
       "\t<tr><td>15</td><td>accuracy</td><td>binary</td><td>0.8899317</td><td>5</td><td>0.0009583775</td><td>Preprocessor1_Model8</td></tr>\n",
       "\t<tr><td> 2</td><td>accuracy</td><td>binary</td><td>0.8889927</td><td>5</td><td>0.0009056986</td><td>Preprocessor1_Model1</td></tr>\n",
       "</tbody>\n",
       "</table>\n"
      ],
      "text/latex": [
       "A tibble: 8 × 7\n",
       "\\begin{tabular}{lllllll}\n",
       " neighbors & .metric & .estimator & mean & n & std\\_err & .config\\\\\n",
       " <int> & <chr> & <chr> & <dbl> & <int> & <dbl> & <chr>\\\\\n",
       "\\hline\n",
       "\t 3 & accuracy & binary & 0.8899317 & 5 & 0.0009583775 & Preprocessor1\\_Model2\\\\\n",
       "\t 4 & accuracy & binary & 0.8899317 & 5 & 0.0009583775 & Preprocessor1\\_Model3\\\\\n",
       "\t 6 & accuracy & binary & 0.8899317 & 5 & 0.0009583775 & Preprocessor1\\_Model4\\\\\n",
       "\t ⋮ & ⋮ & ⋮ & ⋮ & ⋮ & ⋮ & ⋮\\\\\n",
       "\t 13 & accuracy & binary & 0.8899317 & 5 & 0.0009583775 & Preprocessor1\\_Model7\\\\\n",
       "\t 15 & accuracy & binary & 0.8899317 & 5 & 0.0009583775 & Preprocessor1\\_Model8\\\\\n",
       "\t  2 & accuracy & binary & 0.8889927 & 5 & 0.0009056986 & Preprocessor1\\_Model1\\\\\n",
       "\\end{tabular}\n"
      ],
      "text/markdown": [
       "\n",
       "A tibble: 8 × 7\n",
       "\n",
       "| neighbors &lt;int&gt; | .metric &lt;chr&gt; | .estimator &lt;chr&gt; | mean &lt;dbl&gt; | n &lt;int&gt; | std_err &lt;dbl&gt; | .config &lt;chr&gt; |\n",
       "|---|---|---|---|---|---|---|\n",
       "| 3 | accuracy | binary | 0.8899317 | 5 | 0.0009583775 | Preprocessor1_Model2 |\n",
       "| 4 | accuracy | binary | 0.8899317 | 5 | 0.0009583775 | Preprocessor1_Model3 |\n",
       "| 6 | accuracy | binary | 0.8899317 | 5 | 0.0009583775 | Preprocessor1_Model4 |\n",
       "| ⋮ | ⋮ | ⋮ | ⋮ | ⋮ | ⋮ | ⋮ |\n",
       "| 13 | accuracy | binary | 0.8899317 | 5 | 0.0009583775 | Preprocessor1_Model7 |\n",
       "| 15 | accuracy | binary | 0.8899317 | 5 | 0.0009583775 | Preprocessor1_Model8 |\n",
       "|  2 | accuracy | binary | 0.8889927 | 5 | 0.0009056986 | Preprocessor1_Model1 |\n",
       "\n"
      ],
      "text/plain": [
       "  neighbors .metric  .estimator mean      n std_err      .config             \n",
       "1 3         accuracy binary     0.8899317 5 0.0009583775 Preprocessor1_Model2\n",
       "2 4         accuracy binary     0.8899317 5 0.0009583775 Preprocessor1_Model3\n",
       "3 6         accuracy binary     0.8899317 5 0.0009583775 Preprocessor1_Model4\n",
       "⋮ ⋮         ⋮        ⋮          ⋮         ⋮ ⋮            ⋮                   \n",
       "6 13        accuracy binary     0.8899317 5 0.0009583775 Preprocessor1_Model7\n",
       "7 15        accuracy binary     0.8899317 5 0.0009583775 Preprocessor1_Model8\n",
       "8  2        accuracy binary     0.8889927 5 0.0009056986 Preprocessor1_Model1"
      ]
     },
     "metadata": {},
     "output_type": "display_data"
    }
   ],
   "source": [
    "accuracies <- knn_results |>\n",
    "    filter(.metric == \"accuracy\") |>\n",
    "    arrange(desc(mean))\n",
    "\n",
    "accuracies"
   ]
  },
  {
   "cell_type": "code",
   "execution_count": 40,
   "id": "5bad62cb-c651-4738-a3a6-292844c52865",
   "metadata": {},
   "outputs": [
    {
     "data": {
      "image/png": "[encoded data removed]",
      "text/plain": [
       "plot without title"
      ]
     },
     "metadata": {
      "image/png": {
       "height": 480,
       "width": 480
      }
     },
     "output_type": "display_data"
    }
   ],
   "source": [
    "options(repr.plot.width = 8, repr.plot.height = 8)\n",
    "\n",
    "accuracy_vs_k <- ggplot(accuracies, aes(x = neighbors, y = mean)) +\n",
    "    geom_point() +\n",
    "    geom_line() +\n",
    "    labs(x = \"Neighbors\", y = \"Accuracy Estimate\") + \n",
    "    ggtitle(\"Accuracy versus K-value\") +\n",
    "    theme(text = element_text(size = 12))\n",
    "\n",
    "accuracy_vs_k"
   ]
  },
  {
   "cell_type": "code",
   "execution_count": 57,
   "id": "67772e2e-4331-4927-8c00-129233f8e86c",
   "metadata": {},
   "outputs": [],
   "source": [
    "knn_best_spec <- nearest_neighbor(weight_func = \"rectangular\", neighbors = 10) |>\n",
    "    set_engine(\"kknn\") |>\n",
    "    set_mode(\"classification\")\n",
    "\n",
    "store_yes_fit <- workflow() |>\n",
    "    add_recipe(store_yes_recipe) |>\n",
    "    add_model(knn_best_spec) |>\n",
    "    fit(data = store_data_yes_train)"
   ]
  },
  {
   "cell_type": "code",
   "execution_count": 58,
   "id": "61ef9f2b-a341-4c4b-a7ad-998796075820",
   "metadata": {},
   "outputs": [
    {
     "data": {
      "text/html": [
       "<table class=\"dataframe\">\n",
       "<caption>A tibble: 358 × 8</caption>\n",
       "<thead>\n",
       "\t<tr><th scope=col>.pred_class</th><th scope=col>Relationship</th><th scope=col>Income</th><th scope=col>Age</th><th scope=col>Childhome</th><th scope=col>Total_Spent</th><th scope=col>Weeks_Customer</th><th scope=col>Response</th></tr>\n",
       "\t<tr><th scope=col>&lt;fct&gt;</th><th scope=col>&lt;fct&gt;</th><th scope=col>&lt;dbl&gt;</th><th scope=col>&lt;dbl&gt;</th><th scope=col>&lt;dbl&gt;</th><th scope=col>&lt;dbl&gt;</th><th scope=col>&lt;dbl&gt;</th><th scope=col>&lt;fct&gt;</th></tr>\n",
       "</thead>\n",
       "<tbody>\n",
       "\t<tr><td>0</td><td>Yes</td><td>67267</td><td>64</td><td>1</td><td>221</td><td>450.5714</td><td>0</td></tr>\n",
       "\t<tr><td>0</td><td>Yes</td><td>65324</td><td>68</td><td>1</td><td>539</td><td>426.0000</td><td>0</td></tr>\n",
       "\t<tr><td>0</td><td>Yes</td><td> 4428</td><td>53</td><td>1</td><td> 38</td><td>503.1429</td><td>0</td></tr>\n",
       "\t<tr><td>⋮</td><td>⋮</td><td>⋮</td><td>⋮</td><td>⋮</td><td>⋮</td><td>⋮</td><td>⋮</td></tr>\n",
       "\t<tr><td>0</td><td>Yes</td><td>42557</td><td>48</td><td>1</td><td> 255</td><td>539.4286</td><td>0</td></tr>\n",
       "\t<tr><td>0</td><td>Yes</td><td>20130</td><td>48</td><td>0</td><td>  22</td><td>458.7143</td><td>0</td></tr>\n",
       "\t<tr><td>0</td><td>Yes</td><td>65819</td><td>44</td><td>0</td><td>1320</td><td>526.2857</td><td>0</td></tr>\n",
       "</tbody>\n",
       "</table>\n"
      ],
      "text/latex": [
       "A tibble: 358 × 8\n",
       "\\begin{tabular}{llllllll}\n",
       " .pred\\_class & Relationship & Income & Age & Childhome & Total\\_Spent & Weeks\\_Customer & Response\\\\\n",
       " <fct> & <fct> & <dbl> & <dbl> & <dbl> & <dbl> & <dbl> & <fct>\\\\\n",
       "\\hline\n",
       "\t 0 & Yes & 67267 & 64 & 1 & 221 & 450.5714 & 0\\\\\n",
       "\t 0 & Yes & 65324 & 68 & 1 & 539 & 426.0000 & 0\\\\\n",
       "\t 0 & Yes &  4428 & 53 & 1 &  38 & 503.1429 & 0\\\\\n",
       "\t ⋮ & ⋮ & ⋮ & ⋮ & ⋮ & ⋮ & ⋮ & ⋮\\\\\n",
       "\t 0 & Yes & 42557 & 48 & 1 &  255 & 539.4286 & 0\\\\\n",
       "\t 0 & Yes & 20130 & 48 & 0 &   22 & 458.7143 & 0\\\\\n",
       "\t 0 & Yes & 65819 & 44 & 0 & 1320 & 526.2857 & 0\\\\\n",
       "\\end{tabular}\n"
      ],
      "text/markdown": [
       "\n",
       "A tibble: 358 × 8\n",
       "\n",
       "| .pred_class &lt;fct&gt; | Relationship &lt;fct&gt; | Income &lt;dbl&gt; | Age &lt;dbl&gt; | Childhome &lt;dbl&gt; | Total_Spent &lt;dbl&gt; | Weeks_Customer &lt;dbl&gt; | Response &lt;fct&gt; |\n",
       "|---|---|---|---|---|---|---|---|\n",
       "| 0 | Yes | 67267 | 64 | 1 | 221 | 450.5714 | 0 |\n",
       "| 0 | Yes | 65324 | 68 | 1 | 539 | 426.0000 | 0 |\n",
       "| 0 | Yes |  4428 | 53 | 1 |  38 | 503.1429 | 0 |\n",
       "| ⋮ | ⋮ | ⋮ | ⋮ | ⋮ | ⋮ | ⋮ | ⋮ |\n",
       "| 0 | Yes | 42557 | 48 | 1 |  255 | 539.4286 | 0 |\n",
       "| 0 | Yes | 20130 | 48 | 0 |   22 | 458.7143 | 0 |\n",
       "| 0 | Yes | 65819 | 44 | 0 | 1320 | 526.2857 | 0 |\n",
       "\n"
      ],
      "text/plain": [
       "    .pred_class Relationship Income Age Childhome Total_Spent Weeks_Customer\n",
       "1   0           Yes          67267  64  1         221         450.5714      \n",
       "2   0           Yes          65324  68  1         539         426.0000      \n",
       "3   0           Yes           4428  53  1          38         503.1429      \n",
       "⋮   ⋮           ⋮            ⋮      ⋮   ⋮         ⋮           ⋮             \n",
       "356 0           Yes          42557  48  1          255        539.4286      \n",
       "357 0           Yes          20130  48  0           22        458.7143      \n",
       "358 0           Yes          65819  44  0         1320        526.2857      \n",
       "    Response\n",
       "1   0       \n",
       "2   0       \n",
       "3   0       \n",
       "⋮   ⋮       \n",
       "356 0       \n",
       "357 0       \n",
       "358 0       "
      ]
     },
     "metadata": {},
     "output_type": "display_data"
    }
   ],
   "source": [
    "store_yes_predictions <- predict(store_yes_fit, store_data_yes_test) |>\n",
    "    bind_cols(store_data_yes_test)\n",
    "\n",
    "store_yes_predictions"
   ]
  },
  {
   "cell_type": "code",
   "execution_count": 59,
   "id": "59924a30-ff99-487e-ada5-9f2b15a4fbe7",
   "metadata": {},
   "outputs": [
    {
     "data": {
      "text/html": [
       "0.893854748603352"
      ],
      "text/latex": [
       "0.893854748603352"
      ],
      "text/markdown": [
       "0.893854748603352"
      ],
      "text/plain": [
       "[1] 0.8938547"
      ]
     },
     "metadata": {},
     "output_type": "display_data"
    }
   ],
   "source": [
    "store_yes_accuracy <- store_yes_predictions |>\n",
    "    metrics(truth = Response, estimate = .pred_class) |>\n",
    "    select(.metric, .estimate) |>\n",
    "    head(1) |>\n",
    "    pull()\n",
    "\n",
    "store_yes_accuracy"
   ]
  },
  {
   "cell_type": "markdown",
   "id": "5b752e0b-9e0f-46cf-bc1a-11864bf24e8f",
   "metadata": {},
   "source": [
    "## Discussion:\n",
    "summarize what you found\n",
    "\n",
    "-discuss whether this is what you expected to find?\n",
    "\n",
    "-discuss what impact could such findings have?\n",
    "\n",
    "-discuss what future questions could this lead to?"
   ]
  },
  {
   "cell_type": "markdown",
   "id": "b642a8b2-8e0b-4117-b354-5284a100c92a",
   "metadata": {},
   "source": [
    "## References"
   ]
  },
  {
   "cell_type": "code",
   "execution_count": null,
   "id": "aa23a268-dc3c-4b41-b944-587499e1e589",
   "metadata": {},
   "outputs": [],
   "source": []
  }
 ],
 "metadata": {
  "kernelspec": {
   "display_name": "R",
   "language": "R",
   "name": "ir"
  },
  "language_info": {
   "codemirror_mode": "r",
   "file_extension": ".r",
   "mimetype": "text/x-r-source",
   "name": "R",
   "pygments_lexer": "r",
   "version": "4.1.3"
  }
 },
 "nbformat": 4,
 "nbformat_minor": 5
}
