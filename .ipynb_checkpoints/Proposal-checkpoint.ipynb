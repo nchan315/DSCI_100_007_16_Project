{
 "cells": [
  {
   "cell_type": "markdown",
   "id": "887a51bf-0cb3-4456-9cc1-e8d23f8a2332",
   "metadata": {},
   "source": [
    "# DSCI 100 Group 16 Project Proposal"
   ]
  },
  {
   "cell_type": "code",
   "execution_count": 37,
   "id": "70414c2d-649b-45fa-b963-a8b53547ebcd",
   "metadata": {},
   "outputs": [],
   "source": [
    "library(tidyverse)\n",
    "library(repr)\n",
    "library(tidymodels)\n",
    "options(repr.matrix.max.rows = 8)\n",
    "library(readxl)\n",
    "\n",
    "set.seed(16)"
   ]
  },
  {
   "cell_type": "markdown",
   "id": "5af04ad0-cd07-409d-b074-936d7b1c927b",
   "metadata": {},
   "source": [
    "# Preliminary Exploratory Data Analysis\n",
    "\n",
    "### Creating a usable data set\n",
    "\n",
    "The data that we downloaded from the website was already in tidy format because each row represented an observation, each column is a single variable, and each value is a single cell. We removed all the 'NA' from the table and also removed all the discreet variables (Id, Education, Marital_Status, Complain) because we can't use them in the classification model since they are not continuous.\n",
    "We made the data set a bit more usuable by:\n",
    "- combining the Kidhome and Teenhome columns into a Childhome column\n",
    "- combining the amount spent on all the different categories of food into a single Total_Spent column\n",
    "- using the Year_Birth column to find the customer's age (this data was published at the end of 2022)\n",
    "- changing the date the customer joined to the number of weeks they've been a customer\n",
    "- changing the marital status column to single ()/not single ()\n",
    "- changing response to a factor\n"
   ]
  },
  {
   "cell_type": "code",
   "execution_count": 38,
   "id": "a5d61033-81bb-4e72-953e-b4bee99b1060",
   "metadata": {},
   "outputs": [
    {
     "name": "stderr",
     "output_type": "stream",
     "text": [
      "\u001b[1mRows: \u001b[22m\u001b[34m2240\u001b[39m \u001b[1mColumns: \u001b[22m\u001b[34m22\u001b[39m\n",
      "\u001b[36m──\u001b[39m \u001b[1mColumn specification\u001b[22m \u001b[36m────────────────────────────────────────────────────────\u001b[39m\n",
      "\u001b[1mDelimiter:\u001b[22m \",\"\n",
      "\u001b[31mchr\u001b[39m  (3): Education, Marital_Status, Dt_Customer\n",
      "\u001b[32mdbl\u001b[39m (19): Id, Year_Birth, Income, Kidhome, Teenhome, Recency, MntWines, MntF...\n",
      "\n",
      "\u001b[36mℹ\u001b[39m Use `spec()` to retrieve the full column specification for this data.\n",
      "\u001b[36mℹ\u001b[39m Specify the column types or set `show_col_types = FALSE` to quiet this message.\n"
     ]
    },
    {
     "data": {
      "text/html": [
       "<table class=\"dataframe\">\n",
       "<caption>A tibble: 2216 × 14</caption>\n",
       "<thead>\n",
       "\t<tr><th scope=col>Income</th><th scope=col>Recency</th><th scope=col>MntGoldProds</th><th scope=col>NumDealsPurchases</th><th scope=col>NumWebPurchases</th><th scope=col>NumCatalogPurchases</th><th scope=col>NumStorePurchases</th><th scope=col>NumWebVisitsMonth</th><th scope=col>Response</th><th scope=col>Childhome</th><th scope=col>Age</th><th scope=col>Total_Spent</th><th scope=col>Weeks_Customer</th><th scope=col>Relationship</th></tr>\n",
       "\t<tr><th scope=col>&lt;dbl&gt;</th><th scope=col>&lt;dbl&gt;</th><th scope=col>&lt;dbl&gt;</th><th scope=col>&lt;dbl&gt;</th><th scope=col>&lt;dbl&gt;</th><th scope=col>&lt;dbl&gt;</th><th scope=col>&lt;dbl&gt;</th><th scope=col>&lt;dbl&gt;</th><th scope=col>&lt;fct&gt;</th><th scope=col>&lt;dbl&gt;</th><th scope=col>&lt;dbl&gt;</th><th scope=col>&lt;dbl&gt;</th><th scope=col>&lt;dbl&gt;</th><th scope=col>&lt;chr&gt;</th></tr>\n",
       "</thead>\n",
       "<tbody>\n",
       "\t<tr><td>84835</td><td>0</td><td>218</td><td>1</td><td>4</td><td>4</td><td>6</td><td>1</td><td>1</td><td>0</td><td>52</td><td>972</td><td>445.7143</td><td>No </td></tr>\n",
       "\t<tr><td>57091</td><td>0</td><td> 37</td><td>1</td><td>7</td><td>3</td><td>7</td><td>5</td><td>1</td><td>0</td><td>61</td><td>540</td><td>445.8571</td><td>No </td></tr>\n",
       "\t<tr><td>67267</td><td>0</td><td> 30</td><td>1</td><td>3</td><td>2</td><td>5</td><td>2</td><td>0</td><td>1</td><td>64</td><td>221</td><td>450.5714</td><td>Yes</td></tr>\n",
       "\t<tr><td>32474</td><td>0</td><td>  0</td><td>1</td><td>1</td><td>0</td><td>2</td><td>7</td><td>0</td><td>2</td><td>55</td><td> 11</td><td>425.4286</td><td>Yes</td></tr>\n",
       "\t<tr><td>⋮</td><td>⋮</td><td>⋮</td><td>⋮</td><td>⋮</td><td>⋮</td><td>⋮</td><td>⋮</td><td>⋮</td><td>⋮</td><td>⋮</td><td>⋮</td><td>⋮</td><td>⋮</td></tr>\n",
       "\t<tr><td>31056</td><td>99</td><td> 16</td><td>1</td><td>1</td><td>0</td><td> 3</td><td>8</td><td>0</td><td>1</td><td>45</td><td>  39</td><td>518.5714</td><td>Yes</td></tr>\n",
       "\t<tr><td>46310</td><td>99</td><td> 14</td><td>2</td><td>6</td><td>1</td><td> 5</td><td>8</td><td>0</td><td>1</td><td>46</td><td> 295</td><td>563.7143</td><td>No </td></tr>\n",
       "\t<tr><td>65819</td><td>99</td><td> 63</td><td>1</td><td>5</td><td>4</td><td>10</td><td>3</td><td>0</td><td>0</td><td>44</td><td>1320</td><td>526.2857</td><td>Yes</td></tr>\n",
       "\t<tr><td>94871</td><td>99</td><td>144</td><td>1</td><td>8</td><td>5</td><td> 4</td><td>7</td><td>1</td><td>2</td><td>53</td><td> 934</td><td>572.7143</td><td>Yes</td></tr>\n",
       "</tbody>\n",
       "</table>\n"
      ],
      "text/latex": [
       "A tibble: 2216 × 14\n",
       "\\begin{tabular}{llllllllllllll}\n",
       " Income & Recency & MntGoldProds & NumDealsPurchases & NumWebPurchases & NumCatalogPurchases & NumStorePurchases & NumWebVisitsMonth & Response & Childhome & Age & Total\\_Spent & Weeks\\_Customer & Relationship\\\\\n",
       " <dbl> & <dbl> & <dbl> & <dbl> & <dbl> & <dbl> & <dbl> & <dbl> & <fct> & <dbl> & <dbl> & <dbl> & <dbl> & <chr>\\\\\n",
       "\\hline\n",
       "\t 84835 & 0 & 218 & 1 & 4 & 4 & 6 & 1 & 1 & 0 & 52 & 972 & 445.7143 & No \\\\\n",
       "\t 57091 & 0 &  37 & 1 & 7 & 3 & 7 & 5 & 1 & 0 & 61 & 540 & 445.8571 & No \\\\\n",
       "\t 67267 & 0 &  30 & 1 & 3 & 2 & 5 & 2 & 0 & 1 & 64 & 221 & 450.5714 & Yes\\\\\n",
       "\t 32474 & 0 &   0 & 1 & 1 & 0 & 2 & 7 & 0 & 2 & 55 &  11 & 425.4286 & Yes\\\\\n",
       "\t ⋮ & ⋮ & ⋮ & ⋮ & ⋮ & ⋮ & ⋮ & ⋮ & ⋮ & ⋮ & ⋮ & ⋮ & ⋮ & ⋮\\\\\n",
       "\t 31056 & 99 &  16 & 1 & 1 & 0 &  3 & 8 & 0 & 1 & 45 &   39 & 518.5714 & Yes\\\\\n",
       "\t 46310 & 99 &  14 & 2 & 6 & 1 &  5 & 8 & 0 & 1 & 46 &  295 & 563.7143 & No \\\\\n",
       "\t 65819 & 99 &  63 & 1 & 5 & 4 & 10 & 3 & 0 & 0 & 44 & 1320 & 526.2857 & Yes\\\\\n",
       "\t 94871 & 99 & 144 & 1 & 8 & 5 &  4 & 7 & 1 & 2 & 53 &  934 & 572.7143 & Yes\\\\\n",
       "\\end{tabular}\n"
      ],
      "text/markdown": [
       "\n",
       "A tibble: 2216 × 14\n",
       "\n",
       "| Income &lt;dbl&gt; | Recency &lt;dbl&gt; | MntGoldProds &lt;dbl&gt; | NumDealsPurchases &lt;dbl&gt; | NumWebPurchases &lt;dbl&gt; | NumCatalogPurchases &lt;dbl&gt; | NumStorePurchases &lt;dbl&gt; | NumWebVisitsMonth &lt;dbl&gt; | Response &lt;fct&gt; | Childhome &lt;dbl&gt; | Age &lt;dbl&gt; | Total_Spent &lt;dbl&gt; | Weeks_Customer &lt;dbl&gt; | Relationship &lt;chr&gt; |\n",
       "|---|---|---|---|---|---|---|---|---|---|---|---|---|---|\n",
       "| 84835 | 0 | 218 | 1 | 4 | 4 | 6 | 1 | 1 | 0 | 52 | 972 | 445.7143 | No  |\n",
       "| 57091 | 0 |  37 | 1 | 7 | 3 | 7 | 5 | 1 | 0 | 61 | 540 | 445.8571 | No  |\n",
       "| 67267 | 0 |  30 | 1 | 3 | 2 | 5 | 2 | 0 | 1 | 64 | 221 | 450.5714 | Yes |\n",
       "| 32474 | 0 |   0 | 1 | 1 | 0 | 2 | 7 | 0 | 2 | 55 |  11 | 425.4286 | Yes |\n",
       "| ⋮ | ⋮ | ⋮ | ⋮ | ⋮ | ⋮ | ⋮ | ⋮ | ⋮ | ⋮ | ⋮ | ⋮ | ⋮ | ⋮ |\n",
       "| 31056 | 99 |  16 | 1 | 1 | 0 |  3 | 8 | 0 | 1 | 45 |   39 | 518.5714 | Yes |\n",
       "| 46310 | 99 |  14 | 2 | 6 | 1 |  5 | 8 | 0 | 1 | 46 |  295 | 563.7143 | No  |\n",
       "| 65819 | 99 |  63 | 1 | 5 | 4 | 10 | 3 | 0 | 0 | 44 | 1320 | 526.2857 | Yes |\n",
       "| 94871 | 99 | 144 | 1 | 8 | 5 |  4 | 7 | 1 | 2 | 53 |  934 | 572.7143 | Yes |\n",
       "\n"
      ],
      "text/plain": [
       "     Income Recency MntGoldProds NumDealsPurchases NumWebPurchases\n",
       "1    84835  0       218          1                 4              \n",
       "2    57091  0        37          1                 7              \n",
       "3    67267  0        30          1                 3              \n",
       "4    32474  0         0          1                 1              \n",
       "⋮    ⋮      ⋮       ⋮            ⋮                 ⋮              \n",
       "2213 31056  99       16          1                 1              \n",
       "2214 46310  99       14          2                 6              \n",
       "2215 65819  99       63          1                 5              \n",
       "2216 94871  99      144          1                 8              \n",
       "     NumCatalogPurchases NumStorePurchases NumWebVisitsMonth Response Childhome\n",
       "1    4                   6                 1                 1        0        \n",
       "2    3                   7                 5                 1        0        \n",
       "3    2                   5                 2                 0        1        \n",
       "4    0                   2                 7                 0        2        \n",
       "⋮    ⋮                   ⋮                 ⋮                 ⋮        ⋮        \n",
       "2213 0                    3                8                 0        1        \n",
       "2214 1                    5                8                 0        1        \n",
       "2215 4                   10                3                 0        0        \n",
       "2216 5                    4                7                 1        2        \n",
       "     Age Total_Spent Weeks_Customer Relationship\n",
       "1    52  972         445.7143       No          \n",
       "2    61  540         445.8571       No          \n",
       "3    64  221         450.5714       Yes         \n",
       "4    55   11         425.4286       Yes         \n",
       "⋮    ⋮   ⋮           ⋮              ⋮           \n",
       "2213 45    39        518.5714       Yes         \n",
       "2214 46   295        563.7143       No          \n",
       "2215 44  1320        526.2857       Yes         \n",
       "2216 53   934        572.7143       Yes         "
      ]
     },
     "metadata": {},
     "output_type": "display_data"
    }
   ],
   "source": [
    "data <- read_csv(\"superstore_data.csv\")\n",
    "date_2 = as.Date(\"2022-12-31\")\n",
    "store_data <- data |>\n",
    "    na.omit() |>\n",
    "    select(-Id, -Education, -Complain) |>\n",
    "    mutate(Childhome = Kidhome + Teenhome) |>\n",
    "    select(-Kidhome, -Teenhome) |>\n",
    "    mutate(Age = 2022 - Year_Birth) |>\n",
    "    select(-Year_Birth) |>\n",
    "    mutate(Total_Spent = MntWines + MntFruits + MntMeatProducts + MntFishProducts + MntSweetProducts) |>\n",
    "    select(-MntWines, -MntFruits, -MntMeatProducts, -MntFishProducts, -MntSweetProducts) |>\n",
    "    mutate(Dt_Customer = as.Date(Dt_Customer, \"%m/%d/%Y\")) |>\n",
    "    mutate(Weeks_Customer = difftime(date_2, Dt_Customer, units = \"weeks\")) |>\n",
    "    mutate(Weeks_Customer = as.numeric(Weeks_Customer)) |>\n",
    "    select(-Dt_Customer) |>\n",
    "    mutate(Relationship = case_when(Marital_Status == 'Married' | Marital_Status == 'Together' ~ 'Yes',\n",
    "                                    Marital_Status !=  'Married' & Marital_Status != 'Together' ~ 'No')) |>\n",
    "    select(-Marital_Status) |>\n",
    "    mutate(Response = as.factor(Response))\n",
    "store_data"
   ]
  },
  {
   "cell_type": "markdown",
   "id": "70d74c30-1fa1-433b-84ce-d2dc04ae1b70",
   "metadata": {},
   "source": [
    "### Exploring the data\n",
    "We then split our data in 75% training and 25% testing data. We see that we have 14 variables, but we will not use all of them.\n",
    "After the split, we see that there are 1661 observations in the training set and 555 observations in the testing set. \n",
    "\n",
    "We see that about 15% of people gave a positive response to the "
   ]
  },
  {
   "cell_type": "code",
   "execution_count": 39,
   "id": "f04eda6a-efc2-4bea-81c7-c07610fc0cb8",
   "metadata": {},
   "outputs": [
    {
     "data": {
      "text/html": [
       "<table class=\"dataframe\">\n",
       "<caption>A tibble: 1661 × 14</caption>\n",
       "<thead>\n",
       "\t<tr><th scope=col>Income</th><th scope=col>Recency</th><th scope=col>MntGoldProds</th><th scope=col>NumDealsPurchases</th><th scope=col>NumWebPurchases</th><th scope=col>NumCatalogPurchases</th><th scope=col>NumStorePurchases</th><th scope=col>NumWebVisitsMonth</th><th scope=col>Response</th><th scope=col>Childhome</th><th scope=col>Age</th><th scope=col>Total_Spent</th><th scope=col>Weeks_Customer</th><th scope=col>Relationship</th></tr>\n",
       "\t<tr><th scope=col>&lt;dbl&gt;</th><th scope=col>&lt;dbl&gt;</th><th scope=col>&lt;dbl&gt;</th><th scope=col>&lt;dbl&gt;</th><th scope=col>&lt;dbl&gt;</th><th scope=col>&lt;dbl&gt;</th><th scope=col>&lt;dbl&gt;</th><th scope=col>&lt;dbl&gt;</th><th scope=col>&lt;fct&gt;</th><th scope=col>&lt;dbl&gt;</th><th scope=col>&lt;dbl&gt;</th><th scope=col>&lt;dbl&gt;</th><th scope=col>&lt;dbl&gt;</th><th scope=col>&lt;chr&gt;</th></tr>\n",
       "</thead>\n",
       "<tbody>\n",
       "\t<tr><td>67267</td><td>0</td><td>30</td><td>1</td><td>3</td><td>2</td><td>5</td><td>2</td><td>0</td><td>1</td><td>64</td><td>221</td><td>450.5714</td><td>Yes</td></tr>\n",
       "\t<tr><td>32474</td><td>0</td><td> 0</td><td>1</td><td>1</td><td>0</td><td>2</td><td>7</td><td>0</td><td>2</td><td>55</td><td> 11</td><td>425.4286</td><td>Yes</td></tr>\n",
       "\t<tr><td>44931</td><td>0</td><td> 7</td><td>1</td><td>2</td><td>1</td><td>3</td><td>5</td><td>0</td><td>1</td><td>55</td><td> 89</td><td>467.0000</td><td>Yes</td></tr>\n",
       "\t<tr><td>65324</td><td>0</td><td> 5</td><td>3</td><td>6</td><td>2</td><td>9</td><td>4</td><td>0</td><td>1</td><td>68</td><td>539</td><td>426.0000</td><td>Yes</td></tr>\n",
       "\t<tr><td>⋮</td><td>⋮</td><td>⋮</td><td>⋮</td><td>⋮</td><td>⋮</td><td>⋮</td><td>⋮</td><td>⋮</td><td>⋮</td><td>⋮</td><td>⋮</td><td>⋮</td><td>⋮</td></tr>\n",
       "\t<tr><td>77766</td><td>97</td><td> 27</td><td>2</td><td>11</td><td>10</td><td>11</td><td>6</td><td>1</td><td>1</td><td>55</td><td>1502</td><td>514.1429</td><td>Yes</td></tr>\n",
       "\t<tr><td>90687</td><td>98</td><td> 51</td><td>1</td><td> 6</td><td> 2</td><td> 8</td><td>2</td><td>1</td><td>0</td><td>39</td><td>1728</td><td>501.4286</td><td>No </td></tr>\n",
       "\t<tr><td>50611</td><td>98</td><td>  4</td><td>6</td><td> 4</td><td> 5</td><td> 7</td><td>6</td><td>1</td><td>1</td><td>62</td><td> 489</td><td>559.5714</td><td>No </td></tr>\n",
       "\t<tr><td>94871</td><td>99</td><td>144</td><td>1</td><td> 8</td><td> 5</td><td> 4</td><td>7</td><td>1</td><td>2</td><td>53</td><td> 934</td><td>572.7143</td><td>Yes</td></tr>\n",
       "</tbody>\n",
       "</table>\n"
      ],
      "text/latex": [
       "A tibble: 1661 × 14\n",
       "\\begin{tabular}{llllllllllllll}\n",
       " Income & Recency & MntGoldProds & NumDealsPurchases & NumWebPurchases & NumCatalogPurchases & NumStorePurchases & NumWebVisitsMonth & Response & Childhome & Age & Total\\_Spent & Weeks\\_Customer & Relationship\\\\\n",
       " <dbl> & <dbl> & <dbl> & <dbl> & <dbl> & <dbl> & <dbl> & <dbl> & <fct> & <dbl> & <dbl> & <dbl> & <dbl> & <chr>\\\\\n",
       "\\hline\n",
       "\t 67267 & 0 & 30 & 1 & 3 & 2 & 5 & 2 & 0 & 1 & 64 & 221 & 450.5714 & Yes\\\\\n",
       "\t 32474 & 0 &  0 & 1 & 1 & 0 & 2 & 7 & 0 & 2 & 55 &  11 & 425.4286 & Yes\\\\\n",
       "\t 44931 & 0 &  7 & 1 & 2 & 1 & 3 & 5 & 0 & 1 & 55 &  89 & 467.0000 & Yes\\\\\n",
       "\t 65324 & 0 &  5 & 3 & 6 & 2 & 9 & 4 & 0 & 1 & 68 & 539 & 426.0000 & Yes\\\\\n",
       "\t ⋮ & ⋮ & ⋮ & ⋮ & ⋮ & ⋮ & ⋮ & ⋮ & ⋮ & ⋮ & ⋮ & ⋮ & ⋮ & ⋮\\\\\n",
       "\t 77766 & 97 &  27 & 2 & 11 & 10 & 11 & 6 & 1 & 1 & 55 & 1502 & 514.1429 & Yes\\\\\n",
       "\t 90687 & 98 &  51 & 1 &  6 &  2 &  8 & 2 & 1 & 0 & 39 & 1728 & 501.4286 & No \\\\\n",
       "\t 50611 & 98 &   4 & 6 &  4 &  5 &  7 & 6 & 1 & 1 & 62 &  489 & 559.5714 & No \\\\\n",
       "\t 94871 & 99 & 144 & 1 &  8 &  5 &  4 & 7 & 1 & 2 & 53 &  934 & 572.7143 & Yes\\\\\n",
       "\\end{tabular}\n"
      ],
      "text/markdown": [
       "\n",
       "A tibble: 1661 × 14\n",
       "\n",
       "| Income &lt;dbl&gt; | Recency &lt;dbl&gt; | MntGoldProds &lt;dbl&gt; | NumDealsPurchases &lt;dbl&gt; | NumWebPurchases &lt;dbl&gt; | NumCatalogPurchases &lt;dbl&gt; | NumStorePurchases &lt;dbl&gt; | NumWebVisitsMonth &lt;dbl&gt; | Response &lt;fct&gt; | Childhome &lt;dbl&gt; | Age &lt;dbl&gt; | Total_Spent &lt;dbl&gt; | Weeks_Customer &lt;dbl&gt; | Relationship &lt;chr&gt; |\n",
       "|---|---|---|---|---|---|---|---|---|---|---|---|---|---|\n",
       "| 67267 | 0 | 30 | 1 | 3 | 2 | 5 | 2 | 0 | 1 | 64 | 221 | 450.5714 | Yes |\n",
       "| 32474 | 0 |  0 | 1 | 1 | 0 | 2 | 7 | 0 | 2 | 55 |  11 | 425.4286 | Yes |\n",
       "| 44931 | 0 |  7 | 1 | 2 | 1 | 3 | 5 | 0 | 1 | 55 |  89 | 467.0000 | Yes |\n",
       "| 65324 | 0 |  5 | 3 | 6 | 2 | 9 | 4 | 0 | 1 | 68 | 539 | 426.0000 | Yes |\n",
       "| ⋮ | ⋮ | ⋮ | ⋮ | ⋮ | ⋮ | ⋮ | ⋮ | ⋮ | ⋮ | ⋮ | ⋮ | ⋮ | ⋮ |\n",
       "| 77766 | 97 |  27 | 2 | 11 | 10 | 11 | 6 | 1 | 1 | 55 | 1502 | 514.1429 | Yes |\n",
       "| 90687 | 98 |  51 | 1 |  6 |  2 |  8 | 2 | 1 | 0 | 39 | 1728 | 501.4286 | No  |\n",
       "| 50611 | 98 |   4 | 6 |  4 |  5 |  7 | 6 | 1 | 1 | 62 |  489 | 559.5714 | No  |\n",
       "| 94871 | 99 | 144 | 1 |  8 |  5 |  4 | 7 | 1 | 2 | 53 |  934 | 572.7143 | Yes |\n",
       "\n"
      ],
      "text/plain": [
       "     Income Recency MntGoldProds NumDealsPurchases NumWebPurchases\n",
       "1    67267  0       30           1                 3              \n",
       "2    32474  0        0           1                 1              \n",
       "3    44931  0        7           1                 2              \n",
       "4    65324  0        5           3                 6              \n",
       "⋮    ⋮      ⋮       ⋮            ⋮                 ⋮              \n",
       "1658 77766  97       27          2                 11             \n",
       "1659 90687  98       51          1                  6             \n",
       "1660 50611  98        4          6                  4             \n",
       "1661 94871  99      144          1                  8             \n",
       "     NumCatalogPurchases NumStorePurchases NumWebVisitsMonth Response Childhome\n",
       "1    2                   5                 2                 0        1        \n",
       "2    0                   2                 7                 0        2        \n",
       "3    1                   3                 5                 0        1        \n",
       "4    2                   9                 4                 0        1        \n",
       "⋮    ⋮                   ⋮                 ⋮                 ⋮        ⋮        \n",
       "1658 10                  11                6                 1        1        \n",
       "1659  2                   8                2                 1        0        \n",
       "1660  5                   7                6                 1        1        \n",
       "1661  5                   4                7                 1        2        \n",
       "     Age Total_Spent Weeks_Customer Relationship\n",
       "1    64  221         450.5714       Yes         \n",
       "2    55   11         425.4286       Yes         \n",
       "3    55   89         467.0000       Yes         \n",
       "4    68  539         426.0000       Yes         \n",
       "⋮    ⋮   ⋮           ⋮              ⋮           \n",
       "1658 55  1502        514.1429       Yes         \n",
       "1659 39  1728        501.4286       No          \n",
       "1660 62   489        559.5714       No          \n",
       "1661 53   934        572.7143       Yes         "
      ]
     },
     "metadata": {},
     "output_type": "display_data"
    },
    {
     "name": "stdout",
     "output_type": "stream",
     "text": [
      "Rows: 1,661\n",
      "Columns: 14\n",
      "$ Income              \u001b[3m\u001b[90m<dbl>\u001b[39m\u001b[23m 67267, 32474, 44931, 65324, 65324, 81044, 26872, 4…\n",
      "$ Recency             \u001b[3m\u001b[90m<dbl>\u001b[39m\u001b[23m 0, 0, 0, 0, 0, 0, 0, 0, 0, 0, 0, 0, 0, 0, 0, 0, 0,…\n",
      "$ MntGoldProds        \u001b[3m\u001b[90m<dbl>\u001b[39m\u001b[23m 30, 0, 7, 5, 5, 26, 32, 321, 22, 2, 10, 5, 30, 7, …\n",
      "$ NumDealsPurchases   \u001b[3m\u001b[90m<dbl>\u001b[39m\u001b[23m 1, 1, 1, 3, 3, 1, 1, 0, 4, 1, 2, 1, 3, 3, 4, 3, 12…\n",
      "$ NumWebPurchases     \u001b[3m\u001b[90m<dbl>\u001b[39m\u001b[23m 3, 1, 2, 6, 6, 5, 1, 25, 2, 1, 2, 1, 5, 5, 8, 2, 9…\n",
      "$ NumCatalogPurchases \u001b[3m\u001b[90m<dbl>\u001b[39m\u001b[23m 2, 0, 1, 2, 2, 6, 1, 0, 1, 0, 0, 0, 2, 1, 8, 1, 2,…\n",
      "$ NumStorePurchases   \u001b[3m\u001b[90m<dbl>\u001b[39m\u001b[23m 5, 2, 3, 9, 9, 10, 2, 0, 5, 3, 3, 2, 5, 8, 6, 4, 8…\n",
      "$ NumWebVisitsMonth   \u001b[3m\u001b[90m<dbl>\u001b[39m\u001b[23m 2, 7, 5, 4, 4, 1, 6, 1, 4, 4, 8, 7, 7, 5, 6, 7, 8,…\n",
      "$ Response            \u001b[3m\u001b[90m<fct>\u001b[39m\u001b[23m 0, 0, 0, 0, 0, 0, 0, 0, 0, 0, 0, 0, 0, 0, 0, 0, 0,…\n",
      "$ Childhome           \u001b[3m\u001b[90m<dbl>\u001b[39m\u001b[23m 1, 2, 1, 1, 1, 0, 0, 1, 2, 1, 1, 3, 1, 1, 1, 1, 2,…\n",
      "$ Age                 \u001b[3m\u001b[90m<dbl>\u001b[39m\u001b[23m 64, 55, 55, 68, 68, 75, 41, 53, 45, 64, 62, 64, 68…\n",
      "$ Total_Spent         \u001b[3m\u001b[90m<dbl>\u001b[39m\u001b[23m 221, 11, 89, 539, 539, 1182, 40, 38, 152, 20, 62, …\n",
      "$ Weeks_Customer      \u001b[3m\u001b[90m<dbl>\u001b[39m\u001b[23m 450.5714, 425.4286, 467.0000, 426.0000, 426.0000, …\n",
      "$ Relationship        \u001b[3m\u001b[90m<chr>\u001b[39m\u001b[23m \"Yes\", \"Yes\", \"Yes\", \"Yes\", \"Yes\", \"Yes\", \"Yes\", \"…\n"
     ]
    },
    {
     "data": {
      "text/html": [
       "<table class=\"dataframe\">\n",
       "<caption>A tibble: 2 × 3</caption>\n",
       "<thead>\n",
       "\t<tr><th scope=col>Response</th><th scope=col>count</th><th scope=col>percentage</th></tr>\n",
       "\t<tr><th scope=col>&lt;fct&gt;</th><th scope=col>&lt;int&gt;</th><th scope=col>&lt;dbl&gt;</th></tr>\n",
       "</thead>\n",
       "<tbody>\n",
       "\t<tr><td>0</td><td>1412</td><td>85.00903</td></tr>\n",
       "\t<tr><td>1</td><td> 249</td><td>14.99097</td></tr>\n",
       "</tbody>\n",
       "</table>\n"
      ],
      "text/latex": [
       "A tibble: 2 × 3\n",
       "\\begin{tabular}{lll}\n",
       " Response & count & percentage\\\\\n",
       " <fct> & <int> & <dbl>\\\\\n",
       "\\hline\n",
       "\t 0 & 1412 & 85.00903\\\\\n",
       "\t 1 &  249 & 14.99097\\\\\n",
       "\\end{tabular}\n"
      ],
      "text/markdown": [
       "\n",
       "A tibble: 2 × 3\n",
       "\n",
       "| Response &lt;fct&gt; | count &lt;int&gt; | percentage &lt;dbl&gt; |\n",
       "|---|---|---|\n",
       "| 0 | 1412 | 85.00903 |\n",
       "| 1 |  249 | 14.99097 |\n",
       "\n"
      ],
      "text/plain": [
       "  Response count percentage\n",
       "1 0        1412  85.00903  \n",
       "2 1         249  14.99097  "
      ]
     },
     "metadata": {},
     "output_type": "display_data"
    }
   ],
   "source": [
    "store_data_split <- initial_split(store_data, prop = 0.75, strata = Response)\n",
    "store_data_train <- training(store_data_split)\n",
    "store_data_train\n",
    "glimpse(store_data_train)\n",
    "\n",
    "store_data_train |>\n",
    "  group_by(Response) |>\n",
    "  summarize(\n",
    "    count = n(),\n",
    "    percentage = n() / 1661 * 100)"
   ]
  },
  {
   "cell_type": "code",
   "execution_count": null,
   "id": "fb2a2635-63c8-4526-a0ee-4799dbcf91bc",
   "metadata": {},
   "outputs": [],
   "source": []
  }
 ],
 "metadata": {
  "kernelspec": {
   "display_name": "R",
   "language": "R",
   "name": "ir"
  },
  "language_info": {
   "codemirror_mode": "r",
   "file_extension": ".r",
   "mimetype": "text/x-r-source",
   "name": "R",
   "pygments_lexer": "r",
   "version": "4.1.3"
  }
 },
 "nbformat": 4,
 "nbformat_minor": 5
}
