{
 "cells": [
  {
   "cell_type": "markdown",
   "id": "8cc9526f-694f-4516-9393-ef562db5ec46",
   "metadata": {},
   "source": [
    "# <u> DSCI 100 Group 16 Project<u>\n",
    "\n",
    "### Predicting Response for a Superstore Marketing Campaign"
   ]
  },
  {
   "cell_type": "code",
   "execution_count": 1,
   "id": "b59e5970-b25a-4a66-a147-1d1a8d92a512",
   "metadata": {},
   "outputs": [
    {
     "name": "stderr",
     "output_type": "stream",
     "text": [
      "── \u001b[1mAttaching packages\u001b[22m ─────────────────────────────────────── tidyverse 1.3.1 ──\n",
      "\n",
      "\u001b[32m✔\u001b[39m \u001b[34mggplot2\u001b[39m 3.3.6     \u001b[32m✔\u001b[39m \u001b[34mpurrr  \u001b[39m 0.3.4\n",
      "\u001b[32m✔\u001b[39m \u001b[34mtibble \u001b[39m 3.1.7     \u001b[32m✔\u001b[39m \u001b[34mdplyr  \u001b[39m 1.0.9\n",
      "\u001b[32m✔\u001b[39m \u001b[34mtidyr  \u001b[39m 1.2.0     \u001b[32m✔\u001b[39m \u001b[34mstringr\u001b[39m 1.4.0\n",
      "\u001b[32m✔\u001b[39m \u001b[34mreadr  \u001b[39m 2.1.2     \u001b[32m✔\u001b[39m \u001b[34mforcats\u001b[39m 0.5.1\n",
      "\n",
      "── \u001b[1mConflicts\u001b[22m ────────────────────────────────────────── tidyverse_conflicts() ──\n",
      "\u001b[31m✖\u001b[39m \u001b[34mdplyr\u001b[39m::\u001b[32mfilter()\u001b[39m masks \u001b[34mstats\u001b[39m::filter()\n",
      "\u001b[31m✖\u001b[39m \u001b[34mdplyr\u001b[39m::\u001b[32mlag()\u001b[39m    masks \u001b[34mstats\u001b[39m::lag()\n",
      "\n",
      "── \u001b[1mAttaching packages\u001b[22m ────────────────────────────────────── tidymodels 1.0.0 ──\n",
      "\n",
      "\u001b[32m✔\u001b[39m \u001b[34mbroom       \u001b[39m 1.0.0     \u001b[32m✔\u001b[39m \u001b[34mrsample     \u001b[39m 1.0.0\n",
      "\u001b[32m✔\u001b[39m \u001b[34mdials       \u001b[39m 1.0.0     \u001b[32m✔\u001b[39m \u001b[34mtune        \u001b[39m 1.0.0\n",
      "\u001b[32m✔\u001b[39m \u001b[34minfer       \u001b[39m 1.0.2     \u001b[32m✔\u001b[39m \u001b[34mworkflows   \u001b[39m 1.0.0\n",
      "\u001b[32m✔\u001b[39m \u001b[34mmodeldata   \u001b[39m 1.0.0     \u001b[32m✔\u001b[39m \u001b[34mworkflowsets\u001b[39m 1.0.0\n",
      "\u001b[32m✔\u001b[39m \u001b[34mparsnip     \u001b[39m 1.0.0     \u001b[32m✔\u001b[39m \u001b[34myardstick   \u001b[39m 1.0.0\n",
      "\u001b[32m✔\u001b[39m \u001b[34mrecipes     \u001b[39m 1.0.1     \n",
      "\n",
      "── \u001b[1mConflicts\u001b[22m ───────────────────────────────────────── tidymodels_conflicts() ──\n",
      "\u001b[31m✖\u001b[39m \u001b[34mscales\u001b[39m::\u001b[32mdiscard()\u001b[39m masks \u001b[34mpurrr\u001b[39m::discard()\n",
      "\u001b[31m✖\u001b[39m \u001b[34mdplyr\u001b[39m::\u001b[32mfilter()\u001b[39m   masks \u001b[34mstats\u001b[39m::filter()\n",
      "\u001b[31m✖\u001b[39m \u001b[34mrecipes\u001b[39m::\u001b[32mfixed()\u001b[39m  masks \u001b[34mstringr\u001b[39m::fixed()\n",
      "\u001b[31m✖\u001b[39m \u001b[34mdplyr\u001b[39m::\u001b[32mlag()\u001b[39m      masks \u001b[34mstats\u001b[39m::lag()\n",
      "\u001b[31m✖\u001b[39m \u001b[34myardstick\u001b[39m::\u001b[32mspec()\u001b[39m masks \u001b[34mreadr\u001b[39m::spec()\n",
      "\u001b[31m✖\u001b[39m \u001b[34mrecipes\u001b[39m::\u001b[32mstep()\u001b[39m   masks \u001b[34mstats\u001b[39m::step()\n",
      "\u001b[34m•\u001b[39m Dig deeper into tidy modeling with R at \u001b[32mhttps://www.tmwr.org\u001b[39m\n",
      "\n",
      "\n",
      "Attaching package: ‘gridExtra’\n",
      "\n",
      "\n",
      "The following object is masked from ‘package:dplyr’:\n",
      "\n",
      "    combine\n",
      "\n",
      "\n"
     ]
    }
   ],
   "source": [
    "library(tidyverse)\n",
    "library(repr)\n",
    "library(tidymodels)\n",
    "library(gridExtra)\n",
    "options(repr.matrix.max.rows = 6)"
   ]
  },
  {
   "cell_type": "markdown",
   "id": "f241bb20-691d-451b-9890-898854985cf0",
   "metadata": {},
   "source": [
    "### Modifying the data set\n",
    "\n",
    "The dataset we are going to use comes from Kaggle: https://www.kaggle.com/datasets/ahsan81/superstore-marketing-campaign-dataset.\n",
    "\n",
    "The data set is already tidy, but we made the data set a bit more usable by:\n",
    "- removing rows with 'NA'\n",
    "- removing discrete variables\n",
    "- creating a column for total children\n",
    "- creating a column for total grocery spending\n",
    "- converting the birthday column to age\n",
    "- creating a column for time as customer\n",
    "- changing the marital status to Yes/No factor\n",
    "- changing the response variable to a factor"
   ]
  },
  {
   "cell_type": "code",
   "execution_count": 4,
   "id": "52328a61-3e8a-4a61-b279-ecab9a3bdf9e",
   "metadata": {},
   "outputs": [
    {
     "name": "stderr",
     "output_type": "stream",
     "text": [
      "\u001b[1mRows: \u001b[22m\u001b[34m2240\u001b[39m \u001b[1mColumns: \u001b[22m\u001b[34m22\u001b[39m\n",
      "\u001b[36m──\u001b[39m \u001b[1mColumn specification\u001b[22m \u001b[36m────────────────────────────────────────────────────────\u001b[39m\n",
      "\u001b[1mDelimiter:\u001b[22m \",\"\n",
      "\u001b[31mchr\u001b[39m  (3): Education, Marital_Status, Dt_Customer\n",
      "\u001b[32mdbl\u001b[39m (19): Id, Year_Birth, Income, Kidhome, Teenhome, Recency, MntWines, MntF...\n",
      "\n",
      "\u001b[36mℹ\u001b[39m Use `spec()` to retrieve the full column specification for this data.\n",
      "\u001b[36mℹ\u001b[39m Specify the column types or set `show_col_types = FALSE` to quiet this message.\n"
     ]
    },
    {
     "name": "stdout",
     "output_type": "stream",
     "text": [
      "Rows: 2,216\n",
      "Columns: 14\n",
      "$ Income              \u001b[3m\u001b[90m<dbl>\u001b[39m\u001b[23m 84835, 57091, 67267, 32474, 21474, 71691, 63564, 4…\n",
      "$ Recency             \u001b[3m\u001b[90m<dbl>\u001b[39m\u001b[23m 0, 0, 0, 0, 0, 0, 0, 0, 0, 0, 0, 0, 0, 0, 0, 0, 0,…\n",
      "$ MntGoldProds        \u001b[3m\u001b[90m<dbl>\u001b[39m\u001b[23m 218, 37, 30, 0, 34, 43, 65, 7, 5, 5, 26, 4, 102, 3…\n",
      "$ NumDealsPurchases   \u001b[3m\u001b[90m<dbl>\u001b[39m\u001b[23m 1, 1, 1, 1, 2, 1, 1, 1, 3, 3, 1, 2, 1, 1, 0, 4, 4,…\n",
      "$ NumWebPurchases     \u001b[3m\u001b[90m<dbl>\u001b[39m\u001b[23m 4, 7, 3, 1, 3, 4, 10, 2, 6, 6, 5, 3, 3, 1, 25, 2, …\n",
      "$ NumCatalogPurchases \u001b[3m\u001b[90m<dbl>\u001b[39m\u001b[23m 4, 3, 2, 0, 1, 7, 10, 1, 2, 2, 6, 1, 6, 1, 0, 1, 1…\n",
      "$ NumStorePurchases   \u001b[3m\u001b[90m<dbl>\u001b[39m\u001b[23m 6, 7, 5, 2, 2, 5, 7, 3, 9, 9, 10, 6, 6, 2, 0, 5, 5…\n",
      "$ NumWebVisitsMonth   \u001b[3m\u001b[90m<dbl>\u001b[39m\u001b[23m 1, 5, 2, 7, 7, 2, 6, 5, 4, 4, 1, 4, 1, 6, 1, 4, 4,…\n",
      "$ Response            \u001b[3m\u001b[90m<fct>\u001b[39m\u001b[23m 1, 1, 0, 0, 1, 1, 1, 0, 0, 0, 0, 0, 1, 0, 0, 0, 1,…\n",
      "$ Childhome           \u001b[3m\u001b[90m<dbl>\u001b[39m\u001b[23m 0, 0, 1, 2, 1, 0, 0, 1, 1, 1, 0, 1, 0, 0, 1, 2, 2,…\n",
      "$ Age                 \u001b[3m\u001b[90m<dbl>\u001b[39m\u001b[23m 52, 61, 64, 55, 33, 64, 68, 55, 68, 68, 75, 43, 63…\n",
      "$ Total_Spent         \u001b[3m\u001b[90m<dbl>\u001b[39m\u001b[23m 972, 540, 221, 11, 57, 1149, 1150, 89, 539, 539, 1…\n",
      "$ Weeks_Customer      \u001b[3m\u001b[90m<dbl>\u001b[39m\u001b[23m 445.7143, 445.8571, 450.5714, 425.4286, 438.7143, …\n",
      "$ Relationship        \u001b[3m\u001b[90m<fct>\u001b[39m\u001b[23m No, No, Yes, Yes, No, No, Yes, Yes, Yes, Yes, Yes,…\n"
     ]
    }
   ],
   "source": [
    "set.seed(16)\n",
    "url <- \"https://raw.githubusercontent.com/nchan315/DSCI_100_007_16_Project/main/superstore_data.csv\"\n",
    "data <- read_csv(url)\n",
    "\n",
    "store_data <- data |>\n",
    "    # removing rows with NA\n",
    "    na.omit() |>\n",
    "\n",
    "    # removing discrete variables\n",
    "    select(-Id, -Education, -Complain) |>\n",
    "\n",
    "    # summing the number of children\n",
    "    mutate(Childhome = Kidhome + Teenhome) |>\n",
    "    select(-Kidhome, -Teenhome) |>\n",
    "\n",
    "    # creating an age column\n",
    "    mutate(Age = 2022 - Year_Birth) |>\n",
    "    select(-Year_Birth) |>\n",
    "\n",
    "    # combining the amount spent on food\n",
    "    mutate(Total_Spent = MntWines + MntFruits + MntMeatProducts + MntFishProducts + MntSweetProducts) |>\n",
    "    select(-MntWines, -MntFruits, -MntMeatProducts, -MntFishProducts, -MntSweetProducts) |>\n",
    "\n",
    "    # calculating weeks that the customer has been a customer\n",
    "    mutate(Dt_Customer = as.Date(Dt_Customer, \"%m/%d/%Y\")) |>\n",
    "    mutate(Weeks_Customer = difftime(\"2022-12-31\", Dt_Customer, units = \"weeks\")) |>\n",
    "    mutate(Weeks_Customer = as.numeric(Weeks_Customer)) |>\n",
    "    select(-Dt_Customer) |>\n",
    "\n",
    "    # changing martial status into 2 distinctions\n",
    "    mutate(Relationship = case_when(Marital_Status == 'Married' | Marital_Status == 'Together' ~ 'Yes',\n",
    "                                    Marital_Status !=  'Married' & Marital_Status != 'Together' ~ 'No')) |>\n",
    "    select(-Marital_Status) |>\n",
    "    mutate(Relationship = as.factor(Relationship)) |>\n",
    "\n",
    "    # changing response to a factor\n",
    "    mutate(Response = as.factor(Response))\n",
    "\n",
    "glimpse(store_data)"
   ]
  },
  {
   "cell_type": "markdown",
   "id": "dd08cf5b-ff75-448d-a085-aee47ca1a46d",
   "metadata": {},
   "source": [
    "Our dataset has 14 variables, but we decided to focus on the variables: Relationship, Income, Age, Childhome, Total_Spent, and Weeks_Customer because they seemed like possible factors that would influence a positive or negative response."
   ]
  },
  {
   "cell_type": "code",
   "execution_count": 5,
   "id": "311a516c-2ccf-4715-8ba9-90ff236d6cae",
   "metadata": {},
   "outputs": [
    {
     "name": "stdout",
     "output_type": "stream",
     "text": [
      "Rows: 2,216\n",
      "Columns: 7\n",
      "$ Relationship   \u001b[3m\u001b[90m<fct>\u001b[39m\u001b[23m No, No, Yes, Yes, No, No, Yes, Yes, Yes, Yes, Yes, Yes,…\n",
      "$ Income         \u001b[3m\u001b[90m<dbl>\u001b[39m\u001b[23m 84835, 57091, 67267, 32474, 21474, 71691, 63564, 44931,…\n",
      "$ Age            \u001b[3m\u001b[90m<dbl>\u001b[39m\u001b[23m 52, 61, 64, 55, 33, 64, 68, 55, 68, 68, 75, 43, 63, 41,…\n",
      "$ Childhome      \u001b[3m\u001b[90m<dbl>\u001b[39m\u001b[23m 0, 0, 1, 2, 1, 0, 0, 1, 1, 1, 0, 1, 0, 0, 1, 2, 2, 1, 1…\n",
      "$ Total_Spent    \u001b[3m\u001b[90m<dbl>\u001b[39m\u001b[23m 972, 540, 221, 11, 57, 1149, 1150, 89, 539, 539, 1182, …\n",
      "$ Weeks_Customer \u001b[3m\u001b[90m<dbl>\u001b[39m\u001b[23m 445.7143, 445.8571, 450.5714, 425.4286, 438.7143, 458.7…\n",
      "$ Response       \u001b[3m\u001b[90m<fct>\u001b[39m\u001b[23m 1, 1, 0, 0, 1, 1, 1, 0, 0, 0, 0, 0, 1, 0, 0, 0, 1, 0, 0…\n"
     ]
    }
   ],
   "source": [
    "store_data_reduced <- store_data |>\n",
    "    select(Relationship, Income, Age, Childhome, Total_Spent, Weeks_Customer, Response)\n",
    "glimpse(store_data_reduced)"
   ]
  },
  {
   "cell_type": "markdown",
   "id": "e6b5b172-aedd-4b10-8c19-654c89bf194c",
   "metadata": {},
   "source": [
    "### Creating the Testing/Training Split\n",
    "We split the data set by martial status (Relationship column) and split the data into 75% training and 25% testing sets."
   ]
  },
  {
   "cell_type": "code",
   "execution_count": 8,
   "id": "75ff9898-36c4-4674-8bb5-4ed2d9a95cb5",
   "metadata": {},
   "outputs": [
    {
     "name": "stdout",
     "output_type": "stream",
     "text": [
      "Rows: 1,072\n",
      "Columns: 7\n",
      "$ Relationship   \u001b[3m\u001b[90m<fct>\u001b[39m\u001b[23m Yes, Yes, Yes, Yes, Yes, Yes, Yes, Yes, Yes, Yes, Yes, …\n",
      "$ Income         \u001b[3m\u001b[90m<dbl>\u001b[39m\u001b[23m 67267, 32474, 44931, 65324, 65324, 81044, 62499, 26872,…\n",
      "$ Age            \u001b[3m\u001b[90m<dbl>\u001b[39m\u001b[23m 64, 55, 55, 68, 68, 75, 43, 41, 45, 43, 66, 66, 36, 50,…\n",
      "$ Childhome      \u001b[3m\u001b[90m<dbl>\u001b[39m\u001b[23m 1, 2, 1, 1, 1, 0, 1, 0, 2, 1, 2, 2, 0, 3, 0, 0, 1, 1, 1…\n",
      "$ Total_Spent    \u001b[3m\u001b[90m<dbl>\u001b[39m\u001b[23m 221, 11, 89, 539, 539, 1182, 218, 40, 152, 69, 652, 652…\n",
      "$ Weeks_Customer \u001b[3m\u001b[90m<dbl>\u001b[39m\u001b[23m 450.5714, 425.4286, 467.0000, 426.0000, 426.0000, 470.1…\n",
      "$ Response       \u001b[3m\u001b[90m<fct>\u001b[39m\u001b[23m 0, 0, 0, 0, 0, 0, 0, 0, 0, 0, 0, 0, 0, 0, 0, 0, 0, 0, 0…\n",
      "Rows: 358\n",
      "Columns: 7\n",
      "$ Relationship   \u001b[3m\u001b[90m<fct>\u001b[39m\u001b[23m Yes, Yes, Yes, Yes, Yes, Yes, Yes, Yes, Yes, Yes, Yes, …\n",
      "$ Income         \u001b[3m\u001b[90m<dbl>\u001b[39m\u001b[23m 63564, 4428, 36634, 49544, 74806, 66991, 61905, 60597, …\n",
      "$ Age            \u001b[3m\u001b[90m<dbl>\u001b[39m\u001b[23m 68, 53, 68, 46, 57, 68, 47, 58, 57, 46, 53, 62, 53, 43,…\n",
      "$ Childhome      \u001b[3m\u001b[90m<dbl>\u001b[39m\u001b[23m 0, 1, 1, 1, 1, 0, 1, 1, 0, 0, 0, 1, 0, 1, 1, 0, 1, 1, 0…\n",
      "$ Total_Spent    \u001b[3m\u001b[90m<dbl>\u001b[39m\u001b[23m 1150, 38, 305, 381, 956, 1241, 218, 827, 1019, 2092, 10…\n",
      "$ Weeks_Customer \u001b[3m\u001b[90m<dbl>\u001b[39m\u001b[23m 465.4286, 503.1429, 500.5714, 473.7143, 523.4286, 529.1…\n",
      "$ Response       \u001b[3m\u001b[90m<fct>\u001b[39m\u001b[23m 1, 0, 0, 0, 0, 0, 0, 1, 0, 1, 0, 0, 0, 0, 0, 1, 0, 0, 1…\n",
      "Rows: 589\n",
      "Columns: 7\n",
      "$ Relationship   \u001b[3m\u001b[90m<fct>\u001b[39m\u001b[23m No, No, No, No, No, No, No, No, No, No, No, No, No, No,…\n",
      "$ Income         \u001b[3m\u001b[90m<dbl>\u001b[39m\u001b[23m 32173, 47823, 43456, 57731, 73170, 65808, 39146, 52195,…\n",
      "$ Age            \u001b[3m\u001b[90m<dbl>\u001b[39m\u001b[23m 64, 62, 56, 53, 47, 51, 36, 44, 40, 54, 60, 42, 35, 52,…\n",
      "$ Childhome      \u001b[3m\u001b[90m<dbl>\u001b[39m\u001b[23m 1, 1, 1, 1, 0, 2, 1, 3, 0, 2, 1, 1, 0, 2, 1, 1, 1, 1, 1…\n",
      "$ Total_Spent    \u001b[3m\u001b[90m<dbl>\u001b[39m\u001b[23m 20, 62, 386, 660, 694, 262, 153, 16, 111, 78, 1561, 37,…\n",
      "$ Weeks_Customer \u001b[3m\u001b[90m<dbl>\u001b[39m\u001b[23m 520.5714, 492.5714, 509.5714, 527.1429, 448.0000, 448.1…\n",
      "$ Response       \u001b[3m\u001b[90m<fct>\u001b[39m\u001b[23m 0, 0, 0, 0, 0, 0, 0, 0, 0, 0, 0, 0, 0, 0, 0, 0, 0, 0, 0…\n",
      "Rows: 197\n",
      "Columns: 7\n",
      "$ Relationship   \u001b[3m\u001b[90m<fct>\u001b[39m\u001b[23m No, No, No, No, No, No, No, No, No, No, No, No, No, No,…\n",
      "$ Income         \u001b[3m\u001b[90m<dbl>\u001b[39m\u001b[23m 30523, 33168, 35340, 39228, 25959, 48904, 53367, 38578,…\n",
      "$ Age            \u001b[3m\u001b[90m<dbl>\u001b[39m\u001b[23m 64, 57, 66, 62, 52, 62, 48, 50, 65, 60, 49, 68, 35, 38,…\n",
      "$ Childhome      \u001b[3m\u001b[90m<dbl>\u001b[39m\u001b[23m 3, 1, 2, 0, 2, 1, 2, 2, 1, 3, 1, 1, 0, 0, 2, 0, 0, 0, 1…\n",
      "$ Total_Spent    \u001b[3m\u001b[90m<dbl>\u001b[39m\u001b[23m 8, 119, 40, 17, 30, 344, 389, 70, 338, 15, 382, 1188, 1…\n",
      "$ Weeks_Customer \u001b[3m\u001b[90m<dbl>\u001b[39m\u001b[23m 520.7143, 533.0000, 443.8571, 482.0000, 515.2857, 567.8…\n",
      "$ Response       \u001b[3m\u001b[90m<fct>\u001b[39m\u001b[23m 0, 0, 0, 0, 1, 0, 1, 0, 1, 0, 1, 0, 1, 1, 0, 1, 1, 0, 0…\n"
     ]
    }
   ],
   "source": [
    "# creating the 75% training 25% testing split\n",
    "store_data_yes_split <- store_data_reduced |>\n",
    "    filter(Relationship == \"Yes\") |>\n",
    "    initial_split(prop = 0.75, strata = Response)\n",
    "store_data_yes_train <- training(store_data_yes_split)\n",
    "store_data_yes_test <- testing(store_data_yes_split)\n",
    "\n",
    "store_data_no_split <- store_data_reduced |>\n",
    "    filter(Relationship == \"No\") |>\n",
    "    initial_split(prop = 0.75, strata = Response)\n",
    "store_data_no_train <- training(store_data_no_split)\n",
    "store_data_no_test <- testing(store_data_no_split)\n",
    "\n",
    "glimpse(store_data_yes_train)\n",
    "glimpse(store_data_yes_test)\n",
    "glimpse(store_data_no_train)\n",
    "glimpse(store_data_no_test)"
   ]
  },
  {
   "cell_type": "markdown",
   "id": "b1187343-5728-44ca-acb1-e86d724cb0e9",
   "metadata": {},
   "source": [
    "### Forward Selection\n",
    "\n",
    "We used forward selection to determine the most relevant predictors for the different martial statuses.\n",
    "\n",
    "This code was taken from 6.8 in online DSCI 100 textbook."
   ]
  },
  {
   "cell_type": "code",
   "execution_count": 15,
   "id": "c059af01-f049-429e-bb20-7cb4207e0445",
   "metadata": {},
   "outputs": [
    {
     "data": {
      "text/html": [
       "<style>\n",
       ".list-inline {list-style: none; margin:0; padding: 0}\n",
       ".list-inline>li {display: inline-block}\n",
       ".list-inline>li:not(:last-child)::after {content: \"\\00b7\"; padding: 0 .5ex}\n",
       "</style>\n",
       "<ol class=list-inline><li>'Income'</li><li>'Age'</li><li>'Childhome'</li><li>'Total_Spent'</li><li>'Weeks_Customer'</li></ol>\n"
      ],
      "text/latex": [
       "\\begin{enumerate*}\n",
       "\\item 'Income'\n",
       "\\item 'Age'\n",
       "\\item 'Childhome'\n",
       "\\item 'Total\\_Spent'\n",
       "\\item 'Weeks\\_Customer'\n",
       "\\end{enumerate*}\n"
      ],
      "text/markdown": [
       "1. 'Income'\n",
       "2. 'Age'\n",
       "3. 'Childhome'\n",
       "4. 'Total_Spent'\n",
       "5. 'Weeks_Customer'\n",
       "\n",
       "\n"
      ],
      "text/plain": [
       "[1] \"Income\"         \"Age\"            \"Childhome\"      \"Total_Spent\"   \n",
       "[5] \"Weeks_Customer\""
      ]
     },
     "metadata": {},
     "output_type": "display_data"
    }
   ],
   "source": [
    "# getting column names\n",
    "names <- colnames(store_data_train |> select(-Response, -Relationship))\n",
    "names"
   ]
  },
  {
   "cell_type": "code",
   "execution_count": 11,
   "id": "4525ef10-db84-4603-941c-2f59e01e2c65",
   "metadata": {},
   "outputs": [
    {
     "data": {
      "text/html": [
       "<table class=\"dataframe\">\n",
       "<caption>A tibble: 5 × 3</caption>\n",
       "<thead>\n",
       "\t<tr><th scope=col>size</th><th scope=col>model_string</th><th scope=col>accuracy</th></tr>\n",
       "\t<tr><th scope=col>&lt;int&gt;</th><th scope=col>&lt;chr&gt;</th><th scope=col>&lt;dbl&gt;</th></tr>\n",
       "</thead>\n",
       "<tbody>\n",
       "\t<tr><td>1</td><td>Response ~ Age                                            </td><td>0.8899317</td></tr>\n",
       "\t<tr><td>2</td><td>Response ~ Age+Total_Spent                                </td><td>0.8917878</td></tr>\n",
       "\t<tr><td>3</td><td>Response ~ Age+Total_Spent+Childhome                      </td><td>0.8918096</td></tr>\n",
       "\t<tr><td>4</td><td>Response ~ Age+Total_Spent+Childhome+Income               </td><td>0.8936701</td></tr>\n",
       "\t<tr><td>5</td><td>Response ~ Age+Total_Spent+Childhome+Income+Weeks_Customer</td><td>0.8908619</td></tr>\n",
       "</tbody>\n",
       "</table>\n"
      ],
      "text/latex": [
       "A tibble: 5 × 3\n",
       "\\begin{tabular}{lll}\n",
       " size & model\\_string & accuracy\\\\\n",
       " <int> & <chr> & <dbl>\\\\\n",
       "\\hline\n",
       "\t 1 & Response \\textasciitilde{} Age                                             & 0.8899317\\\\\n",
       "\t 2 & Response \\textasciitilde{} Age+Total\\_Spent                                 & 0.8917878\\\\\n",
       "\t 3 & Response \\textasciitilde{} Age+Total\\_Spent+Childhome                       & 0.8918096\\\\\n",
       "\t 4 & Response \\textasciitilde{} Age+Total\\_Spent+Childhome+Income                & 0.8936701\\\\\n",
       "\t 5 & Response \\textasciitilde{} Age+Total\\_Spent+Childhome+Income+Weeks\\_Customer & 0.8908619\\\\\n",
       "\\end{tabular}\n"
      ],
      "text/markdown": [
       "\n",
       "A tibble: 5 × 3\n",
       "\n",
       "| size &lt;int&gt; | model_string &lt;chr&gt; | accuracy &lt;dbl&gt; |\n",
       "|---|---|---|\n",
       "| 1 | Response ~ Age                                             | 0.8899317 |\n",
       "| 2 | Response ~ Age+Total_Spent                                 | 0.8917878 |\n",
       "| 3 | Response ~ Age+Total_Spent+Childhome                       | 0.8918096 |\n",
       "| 4 | Response ~ Age+Total_Spent+Childhome+Income                | 0.8936701 |\n",
       "| 5 | Response ~ Age+Total_Spent+Childhome+Income+Weeks_Customer | 0.8908619 |\n",
       "\n"
      ],
      "text/plain": [
       "  size model_string                                               accuracy \n",
       "1 1    Response ~ Age                                             0.8899317\n",
       "2 2    Response ~ Age+Total_Spent                                 0.8917878\n",
       "3 3    Response ~ Age+Total_Spent+Childhome                       0.8918096\n",
       "4 4    Response ~ Age+Total_Spent+Childhome+Income                0.8936701\n",
       "5 5    Response ~ Age+Total_Spent+Childhome+Income+Weeks_Customer 0.8908619"
      ]
     },
     "metadata": {},
     "output_type": "display_data"
    }
   ],
   "source": [
    "# Beginning of forward selection for Yes Relationship:\n",
    "# (may take a while to run)\n",
    "\n",
    "# create an empty tibble to store the results\n",
    "accuracies <- tibble(size = integer(), \n",
    "                     model_string = character(), \n",
    "                     accuracy = numeric())\n",
    "\n",
    "# create a model specification\n",
    "knn_spec <- nearest_neighbor(weight_func = \"rectangular\", \n",
    "                             neighbors = tune()) |>\n",
    "     set_engine(\"kknn\") |>\n",
    "     set_mode(\"classification\")\n",
    "\n",
    "# create a 5-fold cross-validation object\n",
    "store_vfold <- vfold_cv(store_data_yes_train, v = 5, strata = Response)\n",
    "\n",
    "# store the total number of predictors\n",
    "n_total <- length(names)\n",
    "\n",
    "# stores selected predictors\n",
    "selected <- c()\n",
    "\n",
    "# for every size from 1 to the total number of predictors\n",
    "for (i in 1:n_total) {\n",
    "    # for every predictor still not added yet\n",
    "    accs <- list()\n",
    "    models <- list()\n",
    "    for (j in 1:length(names)) {\n",
    "        # create a model string for this combination of predictors\n",
    "        preds_new <- c(selected, names[[j]])\n",
    "        model_string <- paste(\"Response\", \"~\", paste(preds_new, collapse=\"+\"))\n",
    "\n",
    "        # create a recipe from the model string\n",
    "        store_recipe <- recipe(as.formula(model_string), \n",
    "                                data = store_data_yes_train) |>\n",
    "                          step_scale(all_predictors()) |>\n",
    "                          step_center(all_predictors())\n",
    "\n",
    "        # tune the KNN classifier with these predictors, \n",
    "        # and collect the accuracy for the best K\n",
    "        acc <- workflow() |>\n",
    "          add_recipe(store_recipe) |>\n",
    "          add_model(knn_spec) |>\n",
    "          tune_grid(resamples = store_vfold, grid = 10) |>\n",
    "          collect_metrics() |>\n",
    "          filter(.metric == \"accuracy\") |>\n",
    "          summarize(mx = max(mean))\n",
    "        acc <- acc$mx |> unlist()\n",
    "\n",
    "        # add this result to the dataframe\n",
    "        accs[[j]] <- acc\n",
    "        models[[j]] <- model_string\n",
    "    }\n",
    "    jstar <- which.max(unlist(accs))\n",
    "    accuracies <- accuracies |> \n",
    "      add_row(size = i, \n",
    "              model_string = models[[jstar]], \n",
    "              accuracy = accs[[jstar]])\n",
    "    selected <- c(selected, names[[jstar]])\n",
    "    names <- names[-jstar]\n",
    "}\n",
    "accuracies"
   ]
  },
  {
   "cell_type": "code",
   "execution_count": 12,
   "id": "5585b37d-876d-41c4-96d9-ce3b8a68c05f",
   "metadata": {},
   "outputs": [
    {
     "data": {
      "image/png": "[encoded data removed]",
      "text/plain": [
       "plot without title"
      ]
     },
     "metadata": {
      "image/png": {
       "height": 420,
       "width": 420
      }
     },
     "output_type": "display_data"
    }
   ],
   "source": [
    "yes_plot <- accuracies |>\n",
    "    ggplot(aes(size, accuracy)) +\n",
    "        geom_line()\n",
    "yes_plot"
   ]
  },
  {
   "cell_type": "code",
   "execution_count": 16,
   "id": "176cd239-116c-4cb6-b99a-bae55e9f3760",
   "metadata": {},
   "outputs": [
    {
     "data": {
      "text/html": [
       "<table class=\"dataframe\">\n",
       "<caption>A tibble: 5 × 3</caption>\n",
       "<thead>\n",
       "\t<tr><th scope=col>size</th><th scope=col>model_string</th><th scope=col>accuracy</th></tr>\n",
       "\t<tr><th scope=col>&lt;int&gt;</th><th scope=col>&lt;chr&gt;</th><th scope=col>&lt;dbl&gt;</th></tr>\n",
       "</thead>\n",
       "<tbody>\n",
       "\t<tr><td>1</td><td>Response ~ Income                                         </td><td>0.7895344</td></tr>\n",
       "\t<tr><td>2</td><td>Response ~ Income+Childhome                               </td><td>0.7963431</td></tr>\n",
       "\t<tr><td>3</td><td>Response ~ Income+Childhome+Total_Spent                   </td><td>0.8030938</td></tr>\n",
       "\t<tr><td>4</td><td>Response ~ Income+Childhome+Total_Spent+Age               </td><td>0.8166533</td></tr>\n",
       "\t<tr><td>5</td><td>Response ~ Income+Childhome+Total_Spent+Age+Weeks_Customer</td><td>0.8030508</td></tr>\n",
       "</tbody>\n",
       "</table>\n"
      ],
      "text/latex": [
       "A tibble: 5 × 3\n",
       "\\begin{tabular}{lll}\n",
       " size & model\\_string & accuracy\\\\\n",
       " <int> & <chr> & <dbl>\\\\\n",
       "\\hline\n",
       "\t 1 & Response \\textasciitilde{} Income                                          & 0.7895344\\\\\n",
       "\t 2 & Response \\textasciitilde{} Income+Childhome                                & 0.7963431\\\\\n",
       "\t 3 & Response \\textasciitilde{} Income+Childhome+Total\\_Spent                    & 0.8030938\\\\\n",
       "\t 4 & Response \\textasciitilde{} Income+Childhome+Total\\_Spent+Age                & 0.8166533\\\\\n",
       "\t 5 & Response \\textasciitilde{} Income+Childhome+Total\\_Spent+Age+Weeks\\_Customer & 0.8030508\\\\\n",
       "\\end{tabular}\n"
      ],
      "text/markdown": [
       "\n",
       "A tibble: 5 × 3\n",
       "\n",
       "| size &lt;int&gt; | model_string &lt;chr&gt; | accuracy &lt;dbl&gt; |\n",
       "|---|---|---|\n",
       "| 1 | Response ~ Income                                          | 0.7895344 |\n",
       "| 2 | Response ~ Income+Childhome                                | 0.7963431 |\n",
       "| 3 | Response ~ Income+Childhome+Total_Spent                    | 0.8030938 |\n",
       "| 4 | Response ~ Income+Childhome+Total_Spent+Age                | 0.8166533 |\n",
       "| 5 | Response ~ Income+Childhome+Total_Spent+Age+Weeks_Customer | 0.8030508 |\n",
       "\n"
      ],
      "text/plain": [
       "  size model_string                                               accuracy \n",
       "1 1    Response ~ Income                                          0.7895344\n",
       "2 2    Response ~ Income+Childhome                                0.7963431\n",
       "3 3    Response ~ Income+Childhome+Total_Spent                    0.8030938\n",
       "4 4    Response ~ Income+Childhome+Total_Spent+Age                0.8166533\n",
       "5 5    Response ~ Income+Childhome+Total_Spent+Age+Weeks_Customer 0.8030508"
      ]
     },
     "metadata": {},
     "output_type": "display_data"
    }
   ],
   "source": [
    "# Beginning of forward selection for No Relationship:\n",
    "# (may take a while to run)\n",
    "\n",
    "# create an empty tibble to store the results\n",
    "accuracies <- tibble(size = integer(), \n",
    "                     model_string = character(), \n",
    "                     accuracy = numeric())\n",
    "\n",
    "# create a model specification\n",
    "knn_spec <- nearest_neighbor(weight_func = \"rectangular\", \n",
    "                             neighbors = tune()) |>\n",
    "     set_engine(\"kknn\") |>\n",
    "     set_mode(\"classification\")\n",
    "\n",
    "# create a 5-fold cross-validation object\n",
    "store_vfold <- vfold_cv(store_data_no_train, v = 5, strata = Response)\n",
    "\n",
    "# store the total number of predictors\n",
    "n_total <- length(names)\n",
    "\n",
    "# stores selected predictors\n",
    "selected <- c()\n",
    "\n",
    "# for every size from 1 to the total number of predictors\n",
    "for (i in 1:n_total) {\n",
    "    # for every predictor still not added yet\n",
    "    accs <- list()\n",
    "    models <- list()\n",
    "    for (j in 1:length(names)) {\n",
    "        # create a model string for this combination of predictors\n",
    "        preds_new <- c(selected, names[[j]])\n",
    "        model_string <- paste(\"Response\", \"~\", paste(preds_new, collapse=\"+\"))\n",
    "\n",
    "        # create a recipe from the model string\n",
    "        store_recipe <- recipe(as.formula(model_string), \n",
    "                                data = store_data_no_train) |>\n",
    "                          step_scale(all_predictors()) |>\n",
    "                          step_center(all_predictors())\n",
    "\n",
    "        # tune the KNN classifier with these predictors, \n",
    "        # and collect the accuracy for the best K\n",
    "        acc <- workflow() |>\n",
    "          add_recipe(store_recipe) |>\n",
    "          add_model(knn_spec) |>\n",
    "          tune_grid(resamples = store_vfold, grid = 10) |>\n",
    "          collect_metrics() |>\n",
    "          filter(.metric == \"accuracy\") |>\n",
    "          summarize(mx = max(mean))\n",
    "        acc <- acc$mx |> unlist()\n",
    "\n",
    "        # add this result to the dataframe\n",
    "        accs[[j]] <- acc\n",
    "        models[[j]] <- model_string\n",
    "    }\n",
    "    jstar <- which.max(unlist(accs))\n",
    "    accuracies <- accuracies |> \n",
    "      add_row(size = i, \n",
    "              model_string = models[[jstar]], \n",
    "              accuracy = accs[[jstar]])\n",
    "    selected <- c(selected, names[[jstar]])\n",
    "    names <- names[-jstar]\n",
    "}\n",
    "accuracies"
   ]
  },
  {
   "cell_type": "code",
   "execution_count": 17,
   "id": "1722110d-76e3-4a31-8d8b-9b867eb9af77",
   "metadata": {},
   "outputs": [
    {
     "data": {
      "image/png": "[encoded data removed]",
      "text/plain": [
       "plot without title"
      ]
     },
     "metadata": {
      "image/png": {
       "height": 420,
       "width": 420
      }
     },
     "output_type": "display_data"
    }
   ],
   "source": [
    "no_plot <- accuracies |>\n",
    "    ggplot(aes(size, accuracy)) +\n",
    "        geom_line()\n",
    "no_plot"
   ]
  },
  {
   "cell_type": "markdown",
   "id": "550c9324-f008-487f-9a42-62a788a22a2c",
   "metadata": {},
   "source": [
    "FOR YES RELATIONSHIP: use Age+Total_Spent+Childhome+Income\n",
    "\n",
    "FOR  NO RELATIONSHIP: use Income+Childhome+Total_Spent+Age"
   ]
  },
  {
   "cell_type": "code",
   "execution_count": null,
   "id": "8fa92d26-8a3c-40f7-8dd4-c9b3ca804cfb",
   "metadata": {},
   "outputs": [],
   "source": []
  },
  {
   "cell_type": "code",
   "execution_count": null,
   "id": "5db67cb2-ac8c-4424-a0b5-7e3d899b9e82",
   "metadata": {},
   "outputs": [],
   "source": []
  }
 ],
 "metadata": {
  "kernelspec": {
   "display_name": "R",
   "language": "R",
   "name": "ir"
  },
  "language_info": {
   "codemirror_mode": "r",
   "file_extension": ".r",
   "mimetype": "text/x-r-source",
   "name": "R",
   "pygments_lexer": "r",
   "version": "4.1.3"
  }
 },
 "nbformat": 4,
 "nbformat_minor": 5
}
