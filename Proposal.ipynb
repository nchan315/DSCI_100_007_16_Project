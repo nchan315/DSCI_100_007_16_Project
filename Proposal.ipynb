{
 "cells": [
  {
   "cell_type": "markdown",
   "id": "887a51bf-0cb3-4456-9cc1-e8d23f8a2332",
   "metadata": {},
   "source": [
    "PROPOSAL"
   ]
  },
  {
   "cell_type": "code",
   "execution_count": 41,
   "id": "70414c2d-649b-45fa-b963-a8b53547ebcd",
   "metadata": {},
   "outputs": [],
   "source": [
    "library(tidyverse)\n",
    "library(repr)\n",
    "library(tidymodels)\n",
    "options(repr.matrix.max.rows = 8)\n",
    "library(readxl)\n",
    "\n",
    "set.seed(16)"
   ]
  },
  {
   "cell_type": "markdown",
   "id": "5af04ad0-cd07-409d-b074-936d7b1c927b",
   "metadata": {},
   "source": [
    "# Preliminary Exploratory Data Analysis\n",
    "The data that we downloaded from the website was already in tidy format because each row represented an observation, each column is a single variable, and each value is a single cell. We removed all the 'NA' from the table. We decided to make the data set smaller by combining the kidhome and teenhome columns into a Childhome column. We also combined the amount spent on all the different categories of food into a single Total_Spent column. Lastly, we used the year_birth to find the customer's age. We decided to change the date from type character to an actual date using the as.Date() function. We also changed response to a factor instead of a double.\n"
   ]
  },
  {
   "cell_type": "code",
   "execution_count": 29,
   "id": "a5d61033-81bb-4e72-953e-b4bee99b1060",
   "metadata": {},
   "outputs": [
    {
     "name": "stderr",
     "output_type": "stream",
     "text": [
      "\u001b[1mRows: \u001b[22m\u001b[34m2240\u001b[39m \u001b[1mColumns: \u001b[22m\u001b[34m22\u001b[39m\n",
      "\u001b[36m──\u001b[39m \u001b[1mColumn specification\u001b[22m \u001b[36m────────────────────────────────────────────────────────\u001b[39m\n",
      "\u001b[1mDelimiter:\u001b[22m \",\"\n",
      "\u001b[31mchr\u001b[39m  (3): Education, Marital_Status, Dt_Customer\n",
      "\u001b[32mdbl\u001b[39m (19): Id, Year_Birth, Income, Kidhome, Teenhome, Recency, MntWines, MntF...\n",
      "\n",
      "\u001b[36mℹ\u001b[39m Use `spec()` to retrieve the full column specification for this data.\n",
      "\u001b[36mℹ\u001b[39m Specify the column types or set `show_col_types = FALSE` to quiet this message.\n"
     ]
    },
    {
     "data": {
      "text/html": [
       "<table class=\"dataframe\">\n",
       "<caption>A tibble: 2216 × 17</caption>\n",
       "<thead>\n",
       "\t<tr><th scope=col>Id</th><th scope=col>Education</th><th scope=col>Marital_Status</th><th scope=col>Income</th><th scope=col>Dt_Customer</th><th scope=col>Recency</th><th scope=col>MntGoldProds</th><th scope=col>NumDealsPurchases</th><th scope=col>NumWebPurchases</th><th scope=col>NumCatalogPurchases</th><th scope=col>NumStorePurchases</th><th scope=col>NumWebVisitsMonth</th><th scope=col>Response</th><th scope=col>Complain</th><th scope=col>Childhome</th><th scope=col>Age</th><th scope=col>Total_Spent</th></tr>\n",
       "\t<tr><th scope=col>&lt;dbl&gt;</th><th scope=col>&lt;chr&gt;</th><th scope=col>&lt;chr&gt;</th><th scope=col>&lt;dbl&gt;</th><th scope=col>&lt;date&gt;</th><th scope=col>&lt;dbl&gt;</th><th scope=col>&lt;dbl&gt;</th><th scope=col>&lt;dbl&gt;</th><th scope=col>&lt;dbl&gt;</th><th scope=col>&lt;dbl&gt;</th><th scope=col>&lt;dbl&gt;</th><th scope=col>&lt;dbl&gt;</th><th scope=col>&lt;fct&gt;</th><th scope=col>&lt;dbl&gt;</th><th scope=col>&lt;dbl&gt;</th><th scope=col>&lt;dbl&gt;</th><th scope=col>&lt;dbl&gt;</th></tr>\n",
       "</thead>\n",
       "<tbody>\n",
       "\t<tr><td> 1826</td><td>Graduation</td><td>Divorced</td><td>84835</td><td>2014-06-16</td><td>0</td><td>218</td><td>1</td><td>4</td><td>4</td><td>6</td><td>1</td><td>1</td><td>0</td><td>0</td><td>52</td><td>972</td></tr>\n",
       "\t<tr><td>    1</td><td>Graduation</td><td>Single  </td><td>57091</td><td>2014-06-15</td><td>0</td><td> 37</td><td>1</td><td>7</td><td>3</td><td>7</td><td>5</td><td>1</td><td>0</td><td>0</td><td>61</td><td>540</td></tr>\n",
       "\t<tr><td>10476</td><td>Graduation</td><td>Married </td><td>67267</td><td>2014-05-13</td><td>0</td><td> 30</td><td>1</td><td>3</td><td>2</td><td>5</td><td>2</td><td>0</td><td>0</td><td>1</td><td>64</td><td>221</td></tr>\n",
       "\t<tr><td>⋮</td><td>⋮</td><td>⋮</td><td>⋮</td><td>⋮</td><td>⋮</td><td>⋮</td><td>⋮</td><td>⋮</td><td>⋮</td><td>⋮</td><td>⋮</td><td>⋮</td><td>⋮</td><td>⋮</td><td>⋮</td><td>⋮</td></tr>\n",
       "\t<tr><td>  22</td><td>Graduation</td><td>Divorced</td><td>46310</td><td>2012-03-12</td><td>99</td><td> 14</td><td>2</td><td>6</td><td>1</td><td> 5</td><td>8</td><td>0</td><td>0</td><td>1</td><td>46</td><td> 295</td></tr>\n",
       "\t<tr><td> 528</td><td>Graduation</td><td>Married </td><td>65819</td><td>2012-11-29</td><td>99</td><td> 63</td><td>1</td><td>5</td><td>4</td><td>10</td><td>3</td><td>0</td><td>0</td><td>0</td><td>44</td><td>1320</td></tr>\n",
       "\t<tr><td>4070</td><td>PhD       </td><td>Married </td><td>94871</td><td>2012-01-09</td><td>99</td><td>144</td><td>1</td><td>8</td><td>5</td><td> 4</td><td>7</td><td>1</td><td>0</td><td>2</td><td>53</td><td> 934</td></tr>\n",
       "</tbody>\n",
       "</table>\n"
      ],
      "text/latex": [
       "A tibble: 2216 × 17\n",
       "\\begin{tabular}{lllllllllllllllll}\n",
       " Id & Education & Marital\\_Status & Income & Dt\\_Customer & Recency & MntGoldProds & NumDealsPurchases & NumWebPurchases & NumCatalogPurchases & NumStorePurchases & NumWebVisitsMonth & Response & Complain & Childhome & Age & Total\\_Spent\\\\\n",
       " <dbl> & <chr> & <chr> & <dbl> & <date> & <dbl> & <dbl> & <dbl> & <dbl> & <dbl> & <dbl> & <dbl> & <fct> & <dbl> & <dbl> & <dbl> & <dbl>\\\\\n",
       "\\hline\n",
       "\t  1826 & Graduation & Divorced & 84835 & 2014-06-16 & 0 & 218 & 1 & 4 & 4 & 6 & 1 & 1 & 0 & 0 & 52 & 972\\\\\n",
       "\t     1 & Graduation & Single   & 57091 & 2014-06-15 & 0 &  37 & 1 & 7 & 3 & 7 & 5 & 1 & 0 & 0 & 61 & 540\\\\\n",
       "\t 10476 & Graduation & Married  & 67267 & 2014-05-13 & 0 &  30 & 1 & 3 & 2 & 5 & 2 & 0 & 0 & 1 & 64 & 221\\\\\n",
       "\t ⋮ & ⋮ & ⋮ & ⋮ & ⋮ & ⋮ & ⋮ & ⋮ & ⋮ & ⋮ & ⋮ & ⋮ & ⋮ & ⋮ & ⋮ & ⋮ & ⋮\\\\\n",
       "\t   22 & Graduation & Divorced & 46310 & 2012-03-12 & 99 &  14 & 2 & 6 & 1 &  5 & 8 & 0 & 0 & 1 & 46 &  295\\\\\n",
       "\t  528 & Graduation & Married  & 65819 & 2012-11-29 & 99 &  63 & 1 & 5 & 4 & 10 & 3 & 0 & 0 & 0 & 44 & 1320\\\\\n",
       "\t 4070 & PhD        & Married  & 94871 & 2012-01-09 & 99 & 144 & 1 & 8 & 5 &  4 & 7 & 1 & 0 & 2 & 53 &  934\\\\\n",
       "\\end{tabular}\n"
      ],
      "text/markdown": [
       "\n",
       "A tibble: 2216 × 17\n",
       "\n",
       "| Id &lt;dbl&gt; | Education &lt;chr&gt; | Marital_Status &lt;chr&gt; | Income &lt;dbl&gt; | Dt_Customer &lt;date&gt; | Recency &lt;dbl&gt; | MntGoldProds &lt;dbl&gt; | NumDealsPurchases &lt;dbl&gt; | NumWebPurchases &lt;dbl&gt; | NumCatalogPurchases &lt;dbl&gt; | NumStorePurchases &lt;dbl&gt; | NumWebVisitsMonth &lt;dbl&gt; | Response &lt;fct&gt; | Complain &lt;dbl&gt; | Childhome &lt;dbl&gt; | Age &lt;dbl&gt; | Total_Spent &lt;dbl&gt; |\n",
       "|---|---|---|---|---|---|---|---|---|---|---|---|---|---|---|---|---|\n",
       "|  1826 | Graduation | Divorced | 84835 | 2014-06-16 | 0 | 218 | 1 | 4 | 4 | 6 | 1 | 1 | 0 | 0 | 52 | 972 |\n",
       "|     1 | Graduation | Single   | 57091 | 2014-06-15 | 0 |  37 | 1 | 7 | 3 | 7 | 5 | 1 | 0 | 0 | 61 | 540 |\n",
       "| 10476 | Graduation | Married  | 67267 | 2014-05-13 | 0 |  30 | 1 | 3 | 2 | 5 | 2 | 0 | 0 | 1 | 64 | 221 |\n",
       "| ⋮ | ⋮ | ⋮ | ⋮ | ⋮ | ⋮ | ⋮ | ⋮ | ⋮ | ⋮ | ⋮ | ⋮ | ⋮ | ⋮ | ⋮ | ⋮ | ⋮ |\n",
       "|   22 | Graduation | Divorced | 46310 | 2012-03-12 | 99 |  14 | 2 | 6 | 1 |  5 | 8 | 0 | 0 | 1 | 46 |  295 |\n",
       "|  528 | Graduation | Married  | 65819 | 2012-11-29 | 99 |  63 | 1 | 5 | 4 | 10 | 3 | 0 | 0 | 0 | 44 | 1320 |\n",
       "| 4070 | PhD        | Married  | 94871 | 2012-01-09 | 99 | 144 | 1 | 8 | 5 |  4 | 7 | 1 | 0 | 2 | 53 |  934 |\n",
       "\n"
      ],
      "text/plain": [
       "     Id    Education  Marital_Status Income Dt_Customer Recency MntGoldProds\n",
       "1     1826 Graduation Divorced       84835  2014-06-16  0       218         \n",
       "2        1 Graduation Single         57091  2014-06-15  0        37         \n",
       "3    10476 Graduation Married        67267  2014-05-13  0        30         \n",
       "⋮    ⋮     ⋮          ⋮              ⋮      ⋮           ⋮       ⋮           \n",
       "2214   22  Graduation Divorced       46310  2012-03-12  99       14         \n",
       "2215  528  Graduation Married        65819  2012-11-29  99       63         \n",
       "2216 4070  PhD        Married        94871  2012-01-09  99      144         \n",
       "     NumDealsPurchases NumWebPurchases NumCatalogPurchases NumStorePurchases\n",
       "1    1                 4               4                   6                \n",
       "2    1                 7               3                   7                \n",
       "3    1                 3               2                   5                \n",
       "⋮    ⋮                 ⋮               ⋮                   ⋮                \n",
       "2214 2                 6               1                    5               \n",
       "2215 1                 5               4                   10               \n",
       "2216 1                 8               5                    4               \n",
       "     NumWebVisitsMonth Response Complain Childhome Age Total_Spent\n",
       "1    1                 1        0        0         52  972        \n",
       "2    5                 1        0        0         61  540        \n",
       "3    2                 0        0        1         64  221        \n",
       "⋮    ⋮                 ⋮        ⋮        ⋮         ⋮   ⋮          \n",
       "2214 8                 0        0        1         46   295       \n",
       "2215 3                 0        0        0         44  1320       \n",
       "2216 7                 1        0        2         53   934       "
      ]
     },
     "metadata": {},
     "output_type": "display_data"
    }
   ],
   "source": [
    "data <- read_csv(\"superstore_data.csv\")\n",
    "store_data <- data |>\n",
    "    na.omit() |>\n",
    "    mutate(Childhome = Kidhome + Teenhome) |>\n",
    "    select(-Kidhome, -Teenhome) |>\n",
    "    mutate(Age = 2022 - Year_Birth) |>\n",
    "    select(-Year_Birth) |>\n",
    "    mutate(Total_Spent = MntWines + MntFruits + MntMeatProducts + MntFishProducts + MntSweetProducts) |>\n",
    "    select(-MntWines, -MntFruits, -MntMeatProducts, -MntFishProducts, -MntSweetProducts) |>\n",
    "    mutate(Dt_Customer = as.Date(Dt_Customer, \"%m/%d/%Y\")) |>\n",
    "    mutate(Response = as.factor(Response))\n",
    "store_data"
   ]
  },
  {
   "cell_type": "markdown",
   "id": "70d74c30-1fa1-433b-84ce-d2dc04ae1b70",
   "metadata": {},
   "source": [
    "We then split our data in 75% training and 25% testing data (although we don't use testing data for now). We see that we have 22 variables, but we will not use all of them. Instead, we will focus on the customer's age, income, total amount spent, and children.\n",
    "\n",
    "After the split, we see that there are 1661 observations in the training set and 555 observations in the testing set. We summarized the four numerical variables below."
   ]
  },
  {
   "cell_type": "code",
   "execution_count": 44,
   "id": "f04eda6a-efc2-4bea-81c7-c07610fc0cb8",
   "metadata": {},
   "outputs": [
    {
     "data": {
      "text/html": [
       "<table class=\"dataframe\">\n",
       "<caption>A tibble: 1661 × 6</caption>\n",
       "<thead>\n",
       "\t<tr><th scope=col>Marital_Status</th><th scope=col>Age</th><th scope=col>Income</th><th scope=col>Total_Spent</th><th scope=col>Childhome</th><th scope=col>Response</th></tr>\n",
       "\t<tr><th scope=col>&lt;chr&gt;</th><th scope=col>&lt;dbl&gt;</th><th scope=col>&lt;dbl&gt;</th><th scope=col>&lt;dbl&gt;</th><th scope=col>&lt;dbl&gt;</th><th scope=col>&lt;fct&gt;</th></tr>\n",
       "</thead>\n",
       "<tbody>\n",
       "\t<tr><td>Married </td><td>64</td><td>67267</td><td>221</td><td>1</td><td>0</td></tr>\n",
       "\t<tr><td>Together</td><td>55</td><td>32474</td><td> 11</td><td>2</td><td>0</td></tr>\n",
       "\t<tr><td>Together</td><td>55</td><td>44931</td><td> 89</td><td>1</td><td>0</td></tr>\n",
       "\t<tr><td>Married </td><td>68</td><td>65324</td><td>539</td><td>1</td><td>0</td></tr>\n",
       "\t<tr><td>⋮</td><td>⋮</td><td>⋮</td><td>⋮</td><td>⋮</td><td>⋮</td></tr>\n",
       "\t<tr><td>Married </td><td>55</td><td>77766</td><td>1502</td><td>1</td><td>1</td></tr>\n",
       "\t<tr><td>Married </td><td>55</td><td>77766</td><td>1502</td><td>1</td><td>1</td></tr>\n",
       "\t<tr><td>Divorced</td><td>39</td><td>90687</td><td>1728</td><td>0</td><td>1</td></tr>\n",
       "\t<tr><td>Divorced</td><td>62</td><td>50611</td><td> 489</td><td>1</td><td>1</td></tr>\n",
       "</tbody>\n",
       "</table>\n"
      ],
      "text/latex": [
       "A tibble: 1661 × 6\n",
       "\\begin{tabular}{llllll}\n",
       " Marital\\_Status & Age & Income & Total\\_Spent & Childhome & Response\\\\\n",
       " <chr> & <dbl> & <dbl> & <dbl> & <dbl> & <fct>\\\\\n",
       "\\hline\n",
       "\t Married  & 64 & 67267 & 221 & 1 & 0\\\\\n",
       "\t Together & 55 & 32474 &  11 & 2 & 0\\\\\n",
       "\t Together & 55 & 44931 &  89 & 1 & 0\\\\\n",
       "\t Married  & 68 & 65324 & 539 & 1 & 0\\\\\n",
       "\t ⋮ & ⋮ & ⋮ & ⋮ & ⋮ & ⋮\\\\\n",
       "\t Married  & 55 & 77766 & 1502 & 1 & 1\\\\\n",
       "\t Married  & 55 & 77766 & 1502 & 1 & 1\\\\\n",
       "\t Divorced & 39 & 90687 & 1728 & 0 & 1\\\\\n",
       "\t Divorced & 62 & 50611 &  489 & 1 & 1\\\\\n",
       "\\end{tabular}\n"
      ],
      "text/markdown": [
       "\n",
       "A tibble: 1661 × 6\n",
       "\n",
       "| Marital_Status &lt;chr&gt; | Age &lt;dbl&gt; | Income &lt;dbl&gt; | Total_Spent &lt;dbl&gt; | Childhome &lt;dbl&gt; | Response &lt;fct&gt; |\n",
       "|---|---|---|---|---|---|\n",
       "| Married  | 64 | 67267 | 221 | 1 | 0 |\n",
       "| Together | 55 | 32474 |  11 | 2 | 0 |\n",
       "| Together | 55 | 44931 |  89 | 1 | 0 |\n",
       "| Married  | 68 | 65324 | 539 | 1 | 0 |\n",
       "| ⋮ | ⋮ | ⋮ | ⋮ | ⋮ | ⋮ |\n",
       "| Married  | 55 | 77766 | 1502 | 1 | 1 |\n",
       "| Married  | 55 | 77766 | 1502 | 1 | 1 |\n",
       "| Divorced | 39 | 90687 | 1728 | 0 | 1 |\n",
       "| Divorced | 62 | 50611 |  489 | 1 | 1 |\n",
       "\n"
      ],
      "text/plain": [
       "     Marital_Status Age Income Total_Spent Childhome Response\n",
       "1    Married        64  67267  221         1         0       \n",
       "2    Together       55  32474   11         2         0       \n",
       "3    Together       55  44931   89         1         0       \n",
       "4    Married        68  65324  539         1         0       \n",
       "⋮    ⋮              ⋮   ⋮      ⋮           ⋮         ⋮       \n",
       "1658 Married        55  77766  1502        1         1       \n",
       "1659 Married        55  77766  1502        1         1       \n",
       "1660 Divorced       39  90687  1728        0         1       \n",
       "1661 Divorced       62  50611   489        1         1       "
      ]
     },
     "metadata": {},
     "output_type": "display_data"
    },
    {
     "name": "stdout",
     "output_type": "stream",
     "text": [
      "Rows: 1,661\n",
      "Columns: 6\n",
      "$ Marital_Status \u001b[3m\u001b[90m<chr>\u001b[39m\u001b[23m \"Married\", \"Together\", \"Together\", \"Married\", \"Married\"…\n",
      "$ Age            \u001b[3m\u001b[90m<dbl>\u001b[39m\u001b[23m 64, 55, 55, 68, 75, 43, 41, 53, 64, 43, 46, 53, 57, 66,…\n",
      "$ Income         \u001b[3m\u001b[90m<dbl>\u001b[39m\u001b[23m 67267, 32474, 44931, 65324, 81044, 62499, 26872, 4428, …\n",
      "$ Total_Spent    \u001b[3m\u001b[90m<dbl>\u001b[39m\u001b[23m 221, 11, 89, 539, 1182, 218, 40, 38, 8, 69, 381, 660, 1…\n",
      "$ Childhome      \u001b[3m\u001b[90m<dbl>\u001b[39m\u001b[23m 1, 2, 1, 1, 0, 1, 0, 1, 3, 1, 1, 1, 1, 2, 2, 2, 0, 2, 0…\n",
      "$ Response       \u001b[3m\u001b[90m<fct>\u001b[39m\u001b[23m 0, 0, 0, 0, 0, 0, 0, 0, 0, 0, 0, 0, 0, 0, 0, 0, 0, 0, 0…\n",
      "Rows: 555\n",
      "Columns: 6\n",
      "$ Marital_Status \u001b[3m\u001b[90m<chr>\u001b[39m\u001b[23m \"Married\", \"Married\", \"Married\", \"Divorced\", \"Single\", …\n",
      "$ Age            \u001b[3m\u001b[90m<dbl>\u001b[39m\u001b[23m 68, 68, 45, 64, 62, 68, 56, 32, 54, 52, 48, 70, 45, 50,…\n",
      "$ Income         \u001b[3m\u001b[90m<dbl>\u001b[39m\u001b[23m 63564, 65324, 54809, 32173, 47823, 36634, 43456, 18351,…\n",
      "$ Total_Spent    \u001b[3m\u001b[90m<dbl>\u001b[39m\u001b[23m 1150, 539, 152, 20, 62, 305, 386, 36, 836, 30, 46, 60, …\n",
      "$ Childhome      \u001b[3m\u001b[90m<dbl>\u001b[39m\u001b[23m 0, 1, 2, 1, 1, 1, 1, 0, 1, 2, 1, 2, 1, 2, 2, 0, 0, 0, 1…\n",
      "$ Response       \u001b[3m\u001b[90m<fct>\u001b[39m\u001b[23m 1, 0, 0, 0, 0, 0, 0, 0, 0, 1, 0, 1, 0, 1, 0, 1, 1, 0, 0…\n"
     ]
    },
    {
     "data": {
      "text/html": [
       "<table class=\"dataframe\">\n",
       "<caption>A tibble: 8 × 2</caption>\n",
       "<thead>\n",
       "\t<tr><th scope=col>Marital_Status</th><th scope=col>Count</th></tr>\n",
       "\t<tr><th scope=col>&lt;chr&gt;</th><th scope=col>&lt;int&gt;</th></tr>\n",
       "</thead>\n",
       "<tbody>\n",
       "\t<tr><td>Absurd  </td><td>  1</td></tr>\n",
       "\t<tr><td>Alone   </td><td>  2</td></tr>\n",
       "\t<tr><td>Divorced</td><td>175</td></tr>\n",
       "\t<tr><td>Married </td><td>640</td></tr>\n",
       "\t<tr><td>Single  </td><td>345</td></tr>\n",
       "\t<tr><td>Together</td><td>438</td></tr>\n",
       "\t<tr><td>Widow   </td><td> 58</td></tr>\n",
       "\t<tr><td>YOLO    </td><td>  2</td></tr>\n",
       "</tbody>\n",
       "</table>\n"
      ],
      "text/latex": [
       "A tibble: 8 × 2\n",
       "\\begin{tabular}{ll}\n",
       " Marital\\_Status & Count\\\\\n",
       " <chr> & <int>\\\\\n",
       "\\hline\n",
       "\t Absurd   &   1\\\\\n",
       "\t Alone    &   2\\\\\n",
       "\t Divorced & 175\\\\\n",
       "\t Married  & 640\\\\\n",
       "\t Single   & 345\\\\\n",
       "\t Together & 438\\\\\n",
       "\t Widow    &  58\\\\\n",
       "\t YOLO     &   2\\\\\n",
       "\\end{tabular}\n"
      ],
      "text/markdown": [
       "\n",
       "A tibble: 8 × 2\n",
       "\n",
       "| Marital_Status &lt;chr&gt; | Count &lt;int&gt; |\n",
       "|---|---|\n",
       "| Absurd   |   1 |\n",
       "| Alone    |   2 |\n",
       "| Divorced | 175 |\n",
       "| Married  | 640 |\n",
       "| Single   | 345 |\n",
       "| Together | 438 |\n",
       "| Widow    |  58 |\n",
       "| YOLO     |   2 |\n",
       "\n"
      ],
      "text/plain": [
       "  Marital_Status Count\n",
       "1 Absurd           1  \n",
       "2 Alone            2  \n",
       "3 Divorced       175  \n",
       "4 Married        640  \n",
       "5 Single         345  \n",
       "6 Together       438  \n",
       "7 Widow           58  \n",
       "8 YOLO             2  "
      ]
     },
     "metadata": {},
     "output_type": "display_data"
    },
    {
     "data": {
      "text/html": [
       "<table class=\"dataframe\">\n",
       "<caption>A tibble: 8 × 2</caption>\n",
       "<thead>\n",
       "\t<tr><th scope=col>Marital_Status</th><th scope=col>avg_income</th></tr>\n",
       "\t<tr><th scope=col>&lt;chr&gt;</th><th scope=col>&lt;dbl&gt;</th></tr>\n",
       "</thead>\n",
       "<tbody>\n",
       "\t<tr><td>Absurd  </td><td>79244.00</td></tr>\n",
       "\t<tr><td>Alone   </td><td>35018.00</td></tr>\n",
       "\t<tr><td>Divorced</td><td>52487.06</td></tr>\n",
       "\t<tr><td>Married </td><td>52297.23</td></tr>\n",
       "\t<tr><td>Single  </td><td>50451.97</td></tr>\n",
       "\t<tr><td>Together</td><td>53123.41</td></tr>\n",
       "\t<tr><td>Widow   </td><td>57797.17</td></tr>\n",
       "\t<tr><td>YOLO    </td><td>48432.00</td></tr>\n",
       "</tbody>\n",
       "</table>\n"
      ],
      "text/latex": [
       "A tibble: 8 × 2\n",
       "\\begin{tabular}{ll}\n",
       " Marital\\_Status & avg\\_income\\\\\n",
       " <chr> & <dbl>\\\\\n",
       "\\hline\n",
       "\t Absurd   & 79244.00\\\\\n",
       "\t Alone    & 35018.00\\\\\n",
       "\t Divorced & 52487.06\\\\\n",
       "\t Married  & 52297.23\\\\\n",
       "\t Single   & 50451.97\\\\\n",
       "\t Together & 53123.41\\\\\n",
       "\t Widow    & 57797.17\\\\\n",
       "\t YOLO     & 48432.00\\\\\n",
       "\\end{tabular}\n"
      ],
      "text/markdown": [
       "\n",
       "A tibble: 8 × 2\n",
       "\n",
       "| Marital_Status &lt;chr&gt; | avg_income &lt;dbl&gt; |\n",
       "|---|---|\n",
       "| Absurd   | 79244.00 |\n",
       "| Alone    | 35018.00 |\n",
       "| Divorced | 52487.06 |\n",
       "| Married  | 52297.23 |\n",
       "| Single   | 50451.97 |\n",
       "| Together | 53123.41 |\n",
       "| Widow    | 57797.17 |\n",
       "| YOLO     | 48432.00 |\n",
       "\n"
      ],
      "text/plain": [
       "  Marital_Status avg_income\n",
       "1 Absurd         79244.00  \n",
       "2 Alone          35018.00  \n",
       "3 Divorced       52487.06  \n",
       "4 Married        52297.23  \n",
       "5 Single         50451.97  \n",
       "6 Together       53123.41  \n",
       "7 Widow          57797.17  \n",
       "8 YOLO           48432.00  "
      ]
     },
     "metadata": {},
     "output_type": "display_data"
    },
    {
     "data": {
      "text/html": [
       "<table class=\"dataframe\">\n",
       "<caption>A tibble: 8 × 2</caption>\n",
       "<thead>\n",
       "\t<tr><th scope=col>Marital_Status</th><th scope=col>avg_kids</th></tr>\n",
       "\t<tr><th scope=col>&lt;chr&gt;</th><th scope=col>&lt;dbl&gt;</th></tr>\n",
       "</thead>\n",
       "<tbody>\n",
       "\t<tr><td>Absurd  </td><td>0.0000000</td></tr>\n",
       "\t<tr><td>Alone   </td><td>1.5000000</td></tr>\n",
       "\t<tr><td>Divorced</td><td>0.9828571</td></tr>\n",
       "\t<tr><td>Married </td><td>0.9625000</td></tr>\n",
       "\t<tr><td>Single  </td><td>0.8695652</td></tr>\n",
       "\t<tr><td>Together</td><td>1.0022831</td></tr>\n",
       "\t<tr><td>Widow   </td><td>0.8793103</td></tr>\n",
       "\t<tr><td>YOLO    </td><td>1.0000000</td></tr>\n",
       "</tbody>\n",
       "</table>\n"
      ],
      "text/latex": [
       "A tibble: 8 × 2\n",
       "\\begin{tabular}{ll}\n",
       " Marital\\_Status & avg\\_kids\\\\\n",
       " <chr> & <dbl>\\\\\n",
       "\\hline\n",
       "\t Absurd   & 0.0000000\\\\\n",
       "\t Alone    & 1.5000000\\\\\n",
       "\t Divorced & 0.9828571\\\\\n",
       "\t Married  & 0.9625000\\\\\n",
       "\t Single   & 0.8695652\\\\\n",
       "\t Together & 1.0022831\\\\\n",
       "\t Widow    & 0.8793103\\\\\n",
       "\t YOLO     & 1.0000000\\\\\n",
       "\\end{tabular}\n"
      ],
      "text/markdown": [
       "\n",
       "A tibble: 8 × 2\n",
       "\n",
       "| Marital_Status &lt;chr&gt; | avg_kids &lt;dbl&gt; |\n",
       "|---|---|\n",
       "| Absurd   | 0.0000000 |\n",
       "| Alone    | 1.5000000 |\n",
       "| Divorced | 0.9828571 |\n",
       "| Married  | 0.9625000 |\n",
       "| Single   | 0.8695652 |\n",
       "| Together | 1.0022831 |\n",
       "| Widow    | 0.8793103 |\n",
       "| YOLO     | 1.0000000 |\n",
       "\n"
      ],
      "text/plain": [
       "  Marital_Status avg_kids \n",
       "1 Absurd         0.0000000\n",
       "2 Alone          1.5000000\n",
       "3 Divorced       0.9828571\n",
       "4 Married        0.9625000\n",
       "5 Single         0.8695652\n",
       "6 Together       1.0022831\n",
       "7 Widow          0.8793103\n",
       "8 YOLO           1.0000000"
      ]
     },
     "metadata": {},
     "output_type": "display_data"
    }
   ],
   "source": [
    "store_data_split <- initial_split(store_data, prop = 0.75, strata = Response)\n",
    "store_data_train <- training(store_data_split) |>\n",
    "    select(Marital_Status, Age, Income, Total_Spent, Childhome, Response)\n",
    "store_data_test <- testing(store_data_split) |>\n",
    "    select(Marital_Status, Age, Income, Total_Spent, Childhome, Response)\n",
    "store_data_train\n",
    "\n",
    "glimpse(store_data_train)\n",
    "glimpse(store_data_test)\n",
    "\n",
    "count_summary <- store_data_train |>\n",
    "    group_by(Marital_Status) |>\n",
    "    summarize(Count = n()) \n",
    "count_summary\n",
    "\n",
    "income_summary <- store_data_train |>\n",
    "    group_by(Marital_Status) |>\n",
    "    summarize(avg_income = mean(Income))\n",
    "income_summary\n",
    "\n",
    "kid_summary <- store_data_train |>\n",
    "    group_by(Marital_Status) |>\n",
    "    summarize(avg_kids = mean(Childhome))\n",
    "kid_summary "
   ]
  },
  {
   "cell_type": "markdown",
   "id": "3ef744a5-2c13-46ef-8561-a410f43697bd",
   "metadata": {},
   "source": [
    "LMAO look at the marital_status chart"
   ]
  }
 ],
 "metadata": {
  "kernelspec": {
   "display_name": "R",
   "language": "R",
   "name": "ir"
  },
  "language_info": {
   "codemirror_mode": "r",
   "file_extension": ".r",
   "mimetype": "text/x-r-source",
   "name": "R",
   "pygments_lexer": "r",
   "version": "4.1.3"
  }
 },
 "nbformat": 4,
 "nbformat_minor": 5
}
