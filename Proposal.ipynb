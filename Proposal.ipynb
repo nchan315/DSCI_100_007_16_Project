{
 "cells": [
  {
   "cell_type": "markdown",
   "id": "887a51bf-0cb3-4456-9cc1-e8d23f8a2332",
   "metadata": {},
   "source": [
    "# DSCI 100 Group 16 Project Proposal"
   ]
  },
  {
   "cell_type": "code",
   "execution_count": 1,
   "id": "70414c2d-649b-45fa-b963-a8b53547ebcd",
   "metadata": {},
   "outputs": [
    {
     "name": "stderr",
     "output_type": "stream",
     "text": [
      "── \u001b[1mAttaching packages\u001b[22m ─────────────────────────────────────── tidyverse 1.3.1 ──\n",
      "\n",
      "\u001b[32m✔\u001b[39m \u001b[34mggplot2\u001b[39m 3.3.6     \u001b[32m✔\u001b[39m \u001b[34mpurrr  \u001b[39m 0.3.4\n",
      "\u001b[32m✔\u001b[39m \u001b[34mtibble \u001b[39m 3.1.7     \u001b[32m✔\u001b[39m \u001b[34mdplyr  \u001b[39m 1.0.9\n",
      "\u001b[32m✔\u001b[39m \u001b[34mtidyr  \u001b[39m 1.2.0     \u001b[32m✔\u001b[39m \u001b[34mstringr\u001b[39m 1.4.0\n",
      "\u001b[32m✔\u001b[39m \u001b[34mreadr  \u001b[39m 2.1.2     \u001b[32m✔\u001b[39m \u001b[34mforcats\u001b[39m 0.5.1\n",
      "\n",
      "── \u001b[1mConflicts\u001b[22m ────────────────────────────────────────── tidyverse_conflicts() ──\n",
      "\u001b[31m✖\u001b[39m \u001b[34mdplyr\u001b[39m::\u001b[32mfilter()\u001b[39m masks \u001b[34mstats\u001b[39m::filter()\n",
      "\u001b[31m✖\u001b[39m \u001b[34mdplyr\u001b[39m::\u001b[32mlag()\u001b[39m    masks \u001b[34mstats\u001b[39m::lag()\n",
      "\n",
      "── \u001b[1mAttaching packages\u001b[22m ────────────────────────────────────── tidymodels 1.0.0 ──\n",
      "\n",
      "\u001b[32m✔\u001b[39m \u001b[34mbroom       \u001b[39m 1.0.0     \u001b[32m✔\u001b[39m \u001b[34mrsample     \u001b[39m 1.0.0\n",
      "\u001b[32m✔\u001b[39m \u001b[34mdials       \u001b[39m 1.0.0     \u001b[32m✔\u001b[39m \u001b[34mtune        \u001b[39m 1.0.0\n",
      "\u001b[32m✔\u001b[39m \u001b[34minfer       \u001b[39m 1.0.2     \u001b[32m✔\u001b[39m \u001b[34mworkflows   \u001b[39m 1.0.0\n",
      "\u001b[32m✔\u001b[39m \u001b[34mmodeldata   \u001b[39m 1.0.0     \u001b[32m✔\u001b[39m \u001b[34mworkflowsets\u001b[39m 1.0.0\n",
      "\u001b[32m✔\u001b[39m \u001b[34mparsnip     \u001b[39m 1.0.0     \u001b[32m✔\u001b[39m \u001b[34myardstick   \u001b[39m 1.0.0\n",
      "\u001b[32m✔\u001b[39m \u001b[34mrecipes     \u001b[39m 1.0.1     \n",
      "\n",
      "── \u001b[1mConflicts\u001b[22m ───────────────────────────────────────── tidymodels_conflicts() ──\n",
      "\u001b[31m✖\u001b[39m \u001b[34mscales\u001b[39m::\u001b[32mdiscard()\u001b[39m masks \u001b[34mpurrr\u001b[39m::discard()\n",
      "\u001b[31m✖\u001b[39m \u001b[34mdplyr\u001b[39m::\u001b[32mfilter()\u001b[39m   masks \u001b[34mstats\u001b[39m::filter()\n",
      "\u001b[31m✖\u001b[39m \u001b[34mrecipes\u001b[39m::\u001b[32mfixed()\u001b[39m  masks \u001b[34mstringr\u001b[39m::fixed()\n",
      "\u001b[31m✖\u001b[39m \u001b[34mdplyr\u001b[39m::\u001b[32mlag()\u001b[39m      masks \u001b[34mstats\u001b[39m::lag()\n",
      "\u001b[31m✖\u001b[39m \u001b[34myardstick\u001b[39m::\u001b[32mspec()\u001b[39m masks \u001b[34mreadr\u001b[39m::spec()\n",
      "\u001b[31m✖\u001b[39m \u001b[34mrecipes\u001b[39m::\u001b[32mstep()\u001b[39m   masks \u001b[34mstats\u001b[39m::step()\n",
      "\u001b[34m•\u001b[39m Use suppressPackageStartupMessages() to eliminate package startup messages\n",
      "\n"
     ]
    }
   ],
   "source": [
    "library(tidyverse)\n",
    "library(repr)\n",
    "library(tidymodels)\n",
    "options(repr.matrix.max.rows = 8)\n",
    "library(readxl)\n",
    "\n",
    "set.seed(16)"
   ]
  },
  {
   "cell_type": "markdown",
   "id": "5af04ad0-cd07-409d-b074-936d7b1c927b",
   "metadata": {},
   "source": [
    "# Preliminary Exploratory Data Analysis\n",
    "\n",
    "### Creating a usable data set\n",
    "\n",
    "The data that we downloaded from the website was already in tidy format because each row represented an observation, each column is a single variable, and each value is a single cell. We removed all the 'NA' from the table and also removed all the discreet variables (Id, Education, Marital_Status, Complain) because we can't use them in the classification model since they are not continuous.\n",
    "We made the data set a bit more usuable by:\n",
    "- combining the Kidhome and Teenhome columns into a Childhome column\n",
    "- combining the amount spent on all the different categories of food into a single Total_Spent column\n",
    "- using the Year_Birth column to find the customer's age (this data was published at the end of 2022)\n",
    "- changing the date the customer joined to the number of weeks they've been a customer\n",
    "- changing the marital status column to single ()/not single ()\n",
    "- changing response to a factor\n"
   ]
  },
  {
   "cell_type": "code",
   "execution_count": 2,
   "id": "a5d61033-81bb-4e72-953e-b4bee99b1060",
   "metadata": {},
   "outputs": [
    {
     "name": "stderr",
     "output_type": "stream",
     "text": [
      "\u001b[1mRows: \u001b[22m\u001b[34m2240\u001b[39m \u001b[1mColumns: \u001b[22m\u001b[34m22\u001b[39m\n",
      "\u001b[36m──\u001b[39m \u001b[1mColumn specification\u001b[22m \u001b[36m────────────────────────────────────────────────────────\u001b[39m\n",
      "\u001b[1mDelimiter:\u001b[22m \",\"\n",
      "\u001b[31mchr\u001b[39m  (3): Education, Marital_Status, Dt_Customer\n",
      "\u001b[32mdbl\u001b[39m (19): Id, Year_Birth, Income, Kidhome, Teenhome, Recency, MntWines, MntF...\n",
      "\n",
      "\u001b[36mℹ\u001b[39m Use `spec()` to retrieve the full column specification for this data.\n",
      "\u001b[36mℹ\u001b[39m Specify the column types or set `show_col_types = FALSE` to quiet this message.\n"
     ]
    },
    {
     "data": {
      "text/html": [
       "<table class=\"dataframe\">\n",
       "<caption>A tibble: 2216 × 14</caption>\n",
       "<thead>\n",
       "\t<tr><th scope=col>Income</th><th scope=col>Recency</th><th scope=col>MntGoldProds</th><th scope=col>NumDealsPurchases</th><th scope=col>NumWebPurchases</th><th scope=col>NumCatalogPurchases</th><th scope=col>NumStorePurchases</th><th scope=col>NumWebVisitsMonth</th><th scope=col>Response</th><th scope=col>Childhome</th><th scope=col>Age</th><th scope=col>Total_Spent</th><th scope=col>Weeks_Customer</th><th scope=col>Relationship</th></tr>\n",
       "\t<tr><th scope=col>&lt;dbl&gt;</th><th scope=col>&lt;dbl&gt;</th><th scope=col>&lt;dbl&gt;</th><th scope=col>&lt;dbl&gt;</th><th scope=col>&lt;dbl&gt;</th><th scope=col>&lt;dbl&gt;</th><th scope=col>&lt;dbl&gt;</th><th scope=col>&lt;dbl&gt;</th><th scope=col>&lt;fct&gt;</th><th scope=col>&lt;dbl&gt;</th><th scope=col>&lt;dbl&gt;</th><th scope=col>&lt;dbl&gt;</th><th scope=col>&lt;dbl&gt;</th><th scope=col>&lt;chr&gt;</th></tr>\n",
       "</thead>\n",
       "<tbody>\n",
       "\t<tr><td>84835</td><td>0</td><td>218</td><td>1</td><td>4</td><td>4</td><td>6</td><td>1</td><td>1</td><td>0</td><td>52</td><td>972</td><td>445.7143</td><td>No </td></tr>\n",
       "\t<tr><td>57091</td><td>0</td><td> 37</td><td>1</td><td>7</td><td>3</td><td>7</td><td>5</td><td>1</td><td>0</td><td>61</td><td>540</td><td>445.8571</td><td>No </td></tr>\n",
       "\t<tr><td>67267</td><td>0</td><td> 30</td><td>1</td><td>3</td><td>2</td><td>5</td><td>2</td><td>0</td><td>1</td><td>64</td><td>221</td><td>450.5714</td><td>Yes</td></tr>\n",
       "\t<tr><td>32474</td><td>0</td><td>  0</td><td>1</td><td>1</td><td>0</td><td>2</td><td>7</td><td>0</td><td>2</td><td>55</td><td> 11</td><td>425.4286</td><td>Yes</td></tr>\n",
       "\t<tr><td>⋮</td><td>⋮</td><td>⋮</td><td>⋮</td><td>⋮</td><td>⋮</td><td>⋮</td><td>⋮</td><td>⋮</td><td>⋮</td><td>⋮</td><td>⋮</td><td>⋮</td><td>⋮</td></tr>\n",
       "\t<tr><td>31056</td><td>99</td><td> 16</td><td>1</td><td>1</td><td>0</td><td> 3</td><td>8</td><td>0</td><td>1</td><td>45</td><td>  39</td><td>518.5714</td><td>Yes</td></tr>\n",
       "\t<tr><td>46310</td><td>99</td><td> 14</td><td>2</td><td>6</td><td>1</td><td> 5</td><td>8</td><td>0</td><td>1</td><td>46</td><td> 295</td><td>563.7143</td><td>No </td></tr>\n",
       "\t<tr><td>65819</td><td>99</td><td> 63</td><td>1</td><td>5</td><td>4</td><td>10</td><td>3</td><td>0</td><td>0</td><td>44</td><td>1320</td><td>526.2857</td><td>Yes</td></tr>\n",
       "\t<tr><td>94871</td><td>99</td><td>144</td><td>1</td><td>8</td><td>5</td><td> 4</td><td>7</td><td>1</td><td>2</td><td>53</td><td> 934</td><td>572.7143</td><td>Yes</td></tr>\n",
       "</tbody>\n",
       "</table>\n"
      ],
      "text/latex": [
       "A tibble: 2216 × 14\n",
       "\\begin{tabular}{llllllllllllll}\n",
       " Income & Recency & MntGoldProds & NumDealsPurchases & NumWebPurchases & NumCatalogPurchases & NumStorePurchases & NumWebVisitsMonth & Response & Childhome & Age & Total\\_Spent & Weeks\\_Customer & Relationship\\\\\n",
       " <dbl> & <dbl> & <dbl> & <dbl> & <dbl> & <dbl> & <dbl> & <dbl> & <fct> & <dbl> & <dbl> & <dbl> & <dbl> & <chr>\\\\\n",
       "\\hline\n",
       "\t 84835 & 0 & 218 & 1 & 4 & 4 & 6 & 1 & 1 & 0 & 52 & 972 & 445.7143 & No \\\\\n",
       "\t 57091 & 0 &  37 & 1 & 7 & 3 & 7 & 5 & 1 & 0 & 61 & 540 & 445.8571 & No \\\\\n",
       "\t 67267 & 0 &  30 & 1 & 3 & 2 & 5 & 2 & 0 & 1 & 64 & 221 & 450.5714 & Yes\\\\\n",
       "\t 32474 & 0 &   0 & 1 & 1 & 0 & 2 & 7 & 0 & 2 & 55 &  11 & 425.4286 & Yes\\\\\n",
       "\t ⋮ & ⋮ & ⋮ & ⋮ & ⋮ & ⋮ & ⋮ & ⋮ & ⋮ & ⋮ & ⋮ & ⋮ & ⋮ & ⋮\\\\\n",
       "\t 31056 & 99 &  16 & 1 & 1 & 0 &  3 & 8 & 0 & 1 & 45 &   39 & 518.5714 & Yes\\\\\n",
       "\t 46310 & 99 &  14 & 2 & 6 & 1 &  5 & 8 & 0 & 1 & 46 &  295 & 563.7143 & No \\\\\n",
       "\t 65819 & 99 &  63 & 1 & 5 & 4 & 10 & 3 & 0 & 0 & 44 & 1320 & 526.2857 & Yes\\\\\n",
       "\t 94871 & 99 & 144 & 1 & 8 & 5 &  4 & 7 & 1 & 2 & 53 &  934 & 572.7143 & Yes\\\\\n",
       "\\end{tabular}\n"
      ],
      "text/markdown": [
       "\n",
       "A tibble: 2216 × 14\n",
       "\n",
       "| Income &lt;dbl&gt; | Recency &lt;dbl&gt; | MntGoldProds &lt;dbl&gt; | NumDealsPurchases &lt;dbl&gt; | NumWebPurchases &lt;dbl&gt; | NumCatalogPurchases &lt;dbl&gt; | NumStorePurchases &lt;dbl&gt; | NumWebVisitsMonth &lt;dbl&gt; | Response &lt;fct&gt; | Childhome &lt;dbl&gt; | Age &lt;dbl&gt; | Total_Spent &lt;dbl&gt; | Weeks_Customer &lt;dbl&gt; | Relationship &lt;chr&gt; |\n",
       "|---|---|---|---|---|---|---|---|---|---|---|---|---|---|\n",
       "| 84835 | 0 | 218 | 1 | 4 | 4 | 6 | 1 | 1 | 0 | 52 | 972 | 445.7143 | No  |\n",
       "| 57091 | 0 |  37 | 1 | 7 | 3 | 7 | 5 | 1 | 0 | 61 | 540 | 445.8571 | No  |\n",
       "| 67267 | 0 |  30 | 1 | 3 | 2 | 5 | 2 | 0 | 1 | 64 | 221 | 450.5714 | Yes |\n",
       "| 32474 | 0 |   0 | 1 | 1 | 0 | 2 | 7 | 0 | 2 | 55 |  11 | 425.4286 | Yes |\n",
       "| ⋮ | ⋮ | ⋮ | ⋮ | ⋮ | ⋮ | ⋮ | ⋮ | ⋮ | ⋮ | ⋮ | ⋮ | ⋮ | ⋮ |\n",
       "| 31056 | 99 |  16 | 1 | 1 | 0 |  3 | 8 | 0 | 1 | 45 |   39 | 518.5714 | Yes |\n",
       "| 46310 | 99 |  14 | 2 | 6 | 1 |  5 | 8 | 0 | 1 | 46 |  295 | 563.7143 | No  |\n",
       "| 65819 | 99 |  63 | 1 | 5 | 4 | 10 | 3 | 0 | 0 | 44 | 1320 | 526.2857 | Yes |\n",
       "| 94871 | 99 | 144 | 1 | 8 | 5 |  4 | 7 | 1 | 2 | 53 |  934 | 572.7143 | Yes |\n",
       "\n"
      ],
      "text/plain": [
       "     Income Recency MntGoldProds NumDealsPurchases NumWebPurchases\n",
       "1    84835  0       218          1                 4              \n",
       "2    57091  0        37          1                 7              \n",
       "3    67267  0        30          1                 3              \n",
       "4    32474  0         0          1                 1              \n",
       "⋮    ⋮      ⋮       ⋮            ⋮                 ⋮              \n",
       "2213 31056  99       16          1                 1              \n",
       "2214 46310  99       14          2                 6              \n",
       "2215 65819  99       63          1                 5              \n",
       "2216 94871  99      144          1                 8              \n",
       "     NumCatalogPurchases NumStorePurchases NumWebVisitsMonth Response Childhome\n",
       "1    4                   6                 1                 1        0        \n",
       "2    3                   7                 5                 1        0        \n",
       "3    2                   5                 2                 0        1        \n",
       "4    0                   2                 7                 0        2        \n",
       "⋮    ⋮                   ⋮                 ⋮                 ⋮        ⋮        \n",
       "2213 0                    3                8                 0        1        \n",
       "2214 1                    5                8                 0        1        \n",
       "2215 4                   10                3                 0        0        \n",
       "2216 5                    4                7                 1        2        \n",
       "     Age Total_Spent Weeks_Customer Relationship\n",
       "1    52  972         445.7143       No          \n",
       "2    61  540         445.8571       No          \n",
       "3    64  221         450.5714       Yes         \n",
       "4    55   11         425.4286       Yes         \n",
       "⋮    ⋮   ⋮           ⋮              ⋮           \n",
       "2213 45    39        518.5714       Yes         \n",
       "2214 46   295        563.7143       No          \n",
       "2215 44  1320        526.2857       Yes         \n",
       "2216 53   934        572.7143       Yes         "
      ]
     },
     "metadata": {},
     "output_type": "display_data"
    }
   ],
   "source": [
    "data <- read_csv(\"superstore_data.csv\")\n",
    "date_2 = as.Date(\"2022-12-31\")\n",
    "store_data <- data |>\n",
    "    na.omit() |>\n",
    "    select(-Id, -Education, -Complain) |>\n",
    "    mutate(Childhome = Kidhome + Teenhome) |>\n",
    "    select(-Kidhome, -Teenhome) |>\n",
    "    mutate(Age = 2022 - Year_Birth) |>\n",
    "    select(-Year_Birth) |>\n",
    "    mutate(Total_Spent = MntWines + MntFruits + MntMeatProducts + MntFishProducts + MntSweetProducts) |>\n",
    "    select(-MntWines, -MntFruits, -MntMeatProducts, -MntFishProducts, -MntSweetProducts) |>\n",
    "    mutate(Dt_Customer = as.Date(Dt_Customer, \"%m/%d/%Y\")) |>\n",
    "    mutate(Weeks_Customer = difftime(date_2, Dt_Customer, units = \"weeks\")) |>\n",
    "    mutate(Weeks_Customer = as.numeric(Weeks_Customer)) |>\n",
    "    select(-Dt_Customer) |>\n",
    "    mutate(Relationship = case_when(Marital_Status == 'Married' | Marital_Status == 'Together' ~ 'Yes',\n",
    "                                    Marital_Status !=  'Married' & Marital_Status != 'Together' ~ 'No')) |>\n",
    "    select(-Marital_Status) |>\n",
    "    mutate(Response = as.factor(Response))\n",
    "store_data"
   ]
  },
  {
   "cell_type": "markdown",
   "id": "70d74c30-1fa1-433b-84ce-d2dc04ae1b70",
   "metadata": {},
   "source": [
    "### Exploring the data\n",
    "We then split our data in 75% training and 25% testing data. We see that we have 14 variables, but we will not use all of them.\n",
    "We would like to focus on the variables: Income, Childhome, Age, Total_Spent, and Weeks_Customer, so will remove the other factors.\n",
    "\n",
    "After the split, we see that there are 1661 observations in the training set: 581 are single and 1080 are not single.\n",
    "We see that about 15% of people gave a positive response to the promotion."
   ]
  },
  {
   "cell_type": "code",
   "execution_count": 11,
   "id": "f04eda6a-efc2-4bea-81c7-c07610fc0cb8",
   "metadata": {},
   "outputs": [
    {
     "name": "stdout",
     "output_type": "stream",
     "text": [
      "Rows: 1,661\n",
      "Columns: 7\n",
      "$ Age            \u001b[3m\u001b[90m<dbl>\u001b[39m\u001b[23m 64, 55, 68, 43, 45, 64, 62, 68, 56, 43, 46, 53, 57, 66,…\n",
      "$ Childhome      \u001b[3m\u001b[90m<dbl>\u001b[39m\u001b[23m 1, 1, 1, 1, 2, 1, 1, 1, 1, 1, 1, 1, 1, 2, 2, 0, 3, 0, 0…\n",
      "$ Income         \u001b[3m\u001b[90m<dbl>\u001b[39m\u001b[23m 67267, 44931, 65324, 62499, 54809, 32173, 47823, 36634,…\n",
      "$ Total_Spent    \u001b[3m\u001b[90m<dbl>\u001b[39m\u001b[23m 221, 89, 539, 218, 152, 20, 62, 305, 386, 69, 381, 660,…\n",
      "$ Weeks_Customer \u001b[3m\u001b[90m<dbl>\u001b[39m\u001b[23m 450.5714, 467.0000, 426.0000, 485.2857, 477.0000, 520.5…\n",
      "$ Relationship   \u001b[3m\u001b[90m<chr>\u001b[39m\u001b[23m \"Yes\", \"Yes\", \"Yes\", \"Yes\", \"Yes\", \"No\", \"No\", \"Yes\", \"…\n",
      "$ Response       \u001b[3m\u001b[90m<fct>\u001b[39m\u001b[23m 0, 0, 0, 0, 0, 0, 0, 0, 0, 0, 0, 0, 0, 0, 0, 0, 0, 0, 0…\n"
     ]
    },
    {
     "data": {
      "text/html": [
       "<table class=\"dataframe\">\n",
       "<caption>A tibble: 1661 × 7</caption>\n",
       "<thead>\n",
       "\t<tr><th scope=col>Age</th><th scope=col>Childhome</th><th scope=col>Income</th><th scope=col>Total_Spent</th><th scope=col>Weeks_Customer</th><th scope=col>Relationship</th><th scope=col>Response</th></tr>\n",
       "\t<tr><th scope=col>&lt;dbl&gt;</th><th scope=col>&lt;dbl&gt;</th><th scope=col>&lt;dbl&gt;</th><th scope=col>&lt;dbl&gt;</th><th scope=col>&lt;dbl&gt;</th><th scope=col>&lt;chr&gt;</th><th scope=col>&lt;fct&gt;</th></tr>\n",
       "</thead>\n",
       "<tbody>\n",
       "\t<tr><td>64</td><td>1</td><td>67267</td><td>221</td><td>450.5714</td><td>Yes</td><td>0</td></tr>\n",
       "\t<tr><td>55</td><td>1</td><td>44931</td><td> 89</td><td>467.0000</td><td>Yes</td><td>0</td></tr>\n",
       "\t<tr><td>68</td><td>1</td><td>65324</td><td>539</td><td>426.0000</td><td>Yes</td><td>0</td></tr>\n",
       "\t<tr><td>43</td><td>1</td><td>62499</td><td>218</td><td>485.2857</td><td>Yes</td><td>0</td></tr>\n",
       "\t<tr><td>⋮</td><td>⋮</td><td>⋮</td><td>⋮</td><td>⋮</td><td>⋮</td><td>⋮</td></tr>\n",
       "\t<tr><td>50</td><td>0</td><td>86857</td><td>2074</td><td>524.8571</td><td>No </td><td>1</td></tr>\n",
       "\t<tr><td>55</td><td>1</td><td>77766</td><td>1502</td><td>514.1429</td><td>Yes</td><td>1</td></tr>\n",
       "\t<tr><td>55</td><td>1</td><td>77766</td><td>1502</td><td>514.1429</td><td>Yes</td><td>1</td></tr>\n",
       "\t<tr><td>53</td><td>2</td><td>94871</td><td> 934</td><td>572.7143</td><td>Yes</td><td>1</td></tr>\n",
       "</tbody>\n",
       "</table>\n"
      ],
      "text/latex": [
       "A tibble: 1661 × 7\n",
       "\\begin{tabular}{lllllll}\n",
       " Age & Childhome & Income & Total\\_Spent & Weeks\\_Customer & Relationship & Response\\\\\n",
       " <dbl> & <dbl> & <dbl> & <dbl> & <dbl> & <chr> & <fct>\\\\\n",
       "\\hline\n",
       "\t 64 & 1 & 67267 & 221 & 450.5714 & Yes & 0\\\\\n",
       "\t 55 & 1 & 44931 &  89 & 467.0000 & Yes & 0\\\\\n",
       "\t 68 & 1 & 65324 & 539 & 426.0000 & Yes & 0\\\\\n",
       "\t 43 & 1 & 62499 & 218 & 485.2857 & Yes & 0\\\\\n",
       "\t ⋮ & ⋮ & ⋮ & ⋮ & ⋮ & ⋮ & ⋮\\\\\n",
       "\t 50 & 0 & 86857 & 2074 & 524.8571 & No  & 1\\\\\n",
       "\t 55 & 1 & 77766 & 1502 & 514.1429 & Yes & 1\\\\\n",
       "\t 55 & 1 & 77766 & 1502 & 514.1429 & Yes & 1\\\\\n",
       "\t 53 & 2 & 94871 &  934 & 572.7143 & Yes & 1\\\\\n",
       "\\end{tabular}\n"
      ],
      "text/markdown": [
       "\n",
       "A tibble: 1661 × 7\n",
       "\n",
       "| Age &lt;dbl&gt; | Childhome &lt;dbl&gt; | Income &lt;dbl&gt; | Total_Spent &lt;dbl&gt; | Weeks_Customer &lt;dbl&gt; | Relationship &lt;chr&gt; | Response &lt;fct&gt; |\n",
       "|---|---|---|---|---|---|---|\n",
       "| 64 | 1 | 67267 | 221 | 450.5714 | Yes | 0 |\n",
       "| 55 | 1 | 44931 |  89 | 467.0000 | Yes | 0 |\n",
       "| 68 | 1 | 65324 | 539 | 426.0000 | Yes | 0 |\n",
       "| 43 | 1 | 62499 | 218 | 485.2857 | Yes | 0 |\n",
       "| ⋮ | ⋮ | ⋮ | ⋮ | ⋮ | ⋮ | ⋮ |\n",
       "| 50 | 0 | 86857 | 2074 | 524.8571 | No  | 1 |\n",
       "| 55 | 1 | 77766 | 1502 | 514.1429 | Yes | 1 |\n",
       "| 55 | 1 | 77766 | 1502 | 514.1429 | Yes | 1 |\n",
       "| 53 | 2 | 94871 |  934 | 572.7143 | Yes | 1 |\n",
       "\n"
      ],
      "text/plain": [
       "     Age Childhome Income Total_Spent Weeks_Customer Relationship Response\n",
       "1    64  1         67267  221         450.5714       Yes          0       \n",
       "2    55  1         44931   89         467.0000       Yes          0       \n",
       "3    68  1         65324  539         426.0000       Yes          0       \n",
       "4    43  1         62499  218         485.2857       Yes          0       \n",
       "⋮    ⋮   ⋮         ⋮      ⋮           ⋮              ⋮            ⋮       \n",
       "1658 50  0         86857  2074        524.8571       No           1       \n",
       "1659 55  1         77766  1502        514.1429       Yes          1       \n",
       "1660 55  1         77766  1502        514.1429       Yes          1       \n",
       "1661 53  2         94871   934        572.7143       Yes          1       "
      ]
     },
     "metadata": {},
     "output_type": "display_data"
    },
    {
     "data": {
      "text/html": [
       "<table class=\"dataframe\">\n",
       "<caption>A tibble: 2 × 2</caption>\n",
       "<thead>\n",
       "\t<tr><th scope=col>Relationship</th><th scope=col>count</th></tr>\n",
       "\t<tr><th scope=col>&lt;chr&gt;</th><th scope=col>&lt;int&gt;</th></tr>\n",
       "</thead>\n",
       "<tbody>\n",
       "\t<tr><td>No </td><td> 585</td></tr>\n",
       "\t<tr><td>Yes</td><td>1076</td></tr>\n",
       "</tbody>\n",
       "</table>\n"
      ],
      "text/latex": [
       "A tibble: 2 × 2\n",
       "\\begin{tabular}{ll}\n",
       " Relationship & count\\\\\n",
       " <chr> & <int>\\\\\n",
       "\\hline\n",
       "\t No  &  585\\\\\n",
       "\t Yes & 1076\\\\\n",
       "\\end{tabular}\n"
      ],
      "text/markdown": [
       "\n",
       "A tibble: 2 × 2\n",
       "\n",
       "| Relationship &lt;chr&gt; | count &lt;int&gt; |\n",
       "|---|---|\n",
       "| No  |  585 |\n",
       "| Yes | 1076 |\n",
       "\n"
      ],
      "text/plain": [
       "  Relationship count\n",
       "1 No            585 \n",
       "2 Yes          1076 "
      ]
     },
     "metadata": {},
     "output_type": "display_data"
    },
    {
     "data": {
      "text/html": [
       "<table class=\"dataframe\">\n",
       "<caption>A tibble: 2 × 3</caption>\n",
       "<thead>\n",
       "\t<tr><th scope=col>Response</th><th scope=col>count</th><th scope=col>percentage</th></tr>\n",
       "\t<tr><th scope=col>&lt;fct&gt;</th><th scope=col>&lt;int&gt;</th><th scope=col>&lt;dbl&gt;</th></tr>\n",
       "</thead>\n",
       "<tbody>\n",
       "\t<tr><td>0</td><td>1412</td><td>85.00903</td></tr>\n",
       "\t<tr><td>1</td><td> 249</td><td>14.99097</td></tr>\n",
       "</tbody>\n",
       "</table>\n"
      ],
      "text/latex": [
       "A tibble: 2 × 3\n",
       "\\begin{tabular}{lll}\n",
       " Response & count & percentage\\\\\n",
       " <fct> & <int> & <dbl>\\\\\n",
       "\\hline\n",
       "\t 0 & 1412 & 85.00903\\\\\n",
       "\t 1 &  249 & 14.99097\\\\\n",
       "\\end{tabular}\n"
      ],
      "text/markdown": [
       "\n",
       "A tibble: 2 × 3\n",
       "\n",
       "| Response &lt;fct&gt; | count &lt;int&gt; | percentage &lt;dbl&gt; |\n",
       "|---|---|---|\n",
       "| 0 | 1412 | 85.00903 |\n",
       "| 1 |  249 | 14.99097 |\n",
       "\n"
      ],
      "text/plain": [
       "  Response count percentage\n",
       "1 0        1412  85.00903  \n",
       "2 1         249  14.99097  "
      ]
     },
     "metadata": {},
     "output_type": "display_data"
    }
   ],
   "source": [
    "store_data_split <- initial_split(store_data, prop = 0.75, strata = Response)\n",
    "store_data_train <- training(store_data_split) |>\n",
    "    select(Age, Childhome, Income, Total_Spent, Weeks_Customer, Relationship, Response)\n",
    "glimpse(store_data_train)\n",
    "store_data_train\n",
    "\n",
    "store_data_train |>\n",
    "    group_by(Relationship) |>\n",
    "    summarize(count = n())\n",
    "\n",
    "store_data_train |>\n",
    "    group_by(Response) |>\n",
    "    summarize(\n",
    "        count = n(),\n",
    "        percentage = n() / 1661 * 100)"
   ]
  },
  {
   "cell_type": "markdown",
   "id": "a87e99c3-66ba-4081-afcd-c59d564718d9",
   "metadata": {},
   "source": [
    "We see that around 21.9% of single people are in favour of the promotion while 11.3% of partners are in favour of the promotion."
   ]
  },
  {
   "cell_type": "code",
   "execution_count": 4,
   "id": "fb2a2635-63c8-4526-a0ee-4799dbcf91bc",
   "metadata": {},
   "outputs": [
    {
     "data": {
      "text/html": [
       "<table class=\"dataframe\">\n",
       "<caption>A tibble: 2 × 3</caption>\n",
       "<thead>\n",
       "\t<tr><th scope=col>Response</th><th scope=col>count</th><th scope=col>percentage</th></tr>\n",
       "\t<tr><th scope=col>&lt;fct&gt;</th><th scope=col>&lt;int&gt;</th><th scope=col>&lt;dbl&gt;</th></tr>\n",
       "</thead>\n",
       "<tbody>\n",
       "\t<tr><td>0</td><td>454</td><td>78.14114</td></tr>\n",
       "\t<tr><td>1</td><td>127</td><td>21.85886</td></tr>\n",
       "</tbody>\n",
       "</table>\n"
      ],
      "text/latex": [
       "A tibble: 2 × 3\n",
       "\\begin{tabular}{lll}\n",
       " Response & count & percentage\\\\\n",
       " <fct> & <int> & <dbl>\\\\\n",
       "\\hline\n",
       "\t 0 & 454 & 78.14114\\\\\n",
       "\t 1 & 127 & 21.85886\\\\\n",
       "\\end{tabular}\n"
      ],
      "text/markdown": [
       "\n",
       "A tibble: 2 × 3\n",
       "\n",
       "| Response &lt;fct&gt; | count &lt;int&gt; | percentage &lt;dbl&gt; |\n",
       "|---|---|---|\n",
       "| 0 | 454 | 78.14114 |\n",
       "| 1 | 127 | 21.85886 |\n",
       "\n"
      ],
      "text/plain": [
       "  Response count percentage\n",
       "1 0        454   78.14114  \n",
       "2 1        127   21.85886  "
      ]
     },
     "metadata": {},
     "output_type": "display_data"
    },
    {
     "data": {
      "text/html": [
       "<table class=\"dataframe\">\n",
       "<caption>A tibble: 2 × 3</caption>\n",
       "<thead>\n",
       "\t<tr><th scope=col>Response</th><th scope=col>count</th><th scope=col>percentage</th></tr>\n",
       "\t<tr><th scope=col>&lt;fct&gt;</th><th scope=col>&lt;int&gt;</th><th scope=col>&lt;dbl&gt;</th></tr>\n",
       "</thead>\n",
       "<tbody>\n",
       "\t<tr><td>0</td><td>958</td><td>88.7037</td></tr>\n",
       "\t<tr><td>1</td><td>122</td><td>11.2963</td></tr>\n",
       "</tbody>\n",
       "</table>\n"
      ],
      "text/latex": [
       "A tibble: 2 × 3\n",
       "\\begin{tabular}{lll}\n",
       " Response & count & percentage\\\\\n",
       " <fct> & <int> & <dbl>\\\\\n",
       "\\hline\n",
       "\t 0 & 958 & 88.7037\\\\\n",
       "\t 1 & 122 & 11.2963\\\\\n",
       "\\end{tabular}\n"
      ],
      "text/markdown": [
       "\n",
       "A tibble: 2 × 3\n",
       "\n",
       "| Response &lt;fct&gt; | count &lt;int&gt; | percentage &lt;dbl&gt; |\n",
       "|---|---|---|\n",
       "| 0 | 958 | 88.7037 |\n",
       "| 1 | 122 | 11.2963 |\n",
       "\n"
      ],
      "text/plain": [
       "  Response count percentage\n",
       "1 0        958   88.7037   \n",
       "2 1        122   11.2963   "
      ]
     },
     "metadata": {},
     "output_type": "display_data"
    }
   ],
   "source": [
    "store_data_train |>\n",
    "    filter(Relationship == 'No') |>\n",
    "    group_by(Response) |>\n",
    "    summarize(\n",
    "        count = n(),\n",
    "        percentage = n() / 581 * 100)\n",
    "store_data_train |>\n",
    "    filter(Relationship == 'Yes') |>\n",
    "    group_by(Response) |>\n",
    "    summarize(\n",
    "        count = n(),\n",
    "        percentage = n() / 1080 * 100)"
   ]
  },
  {
   "cell_type": "markdown",
   "id": "45690e61-4370-4b77-8b05-3bb7e0b6b8af",
   "metadata": {},
   "source": [
    "Here are the summary statistics of each of the factors."
   ]
  },
  {
   "cell_type": "code",
   "execution_count": 8,
   "id": "2e111821-03fc-4a12-b9a6-d4207e999363",
   "metadata": {},
   "outputs": [
    {
     "name": "stderr",
     "output_type": "stream",
     "text": [
      "\u001b[1m\u001b[22m`summarise()` has grouped output by 'Relationship'. You can override using the\n",
      "`.groups` argument.\n"
     ]
    },
    {
     "data": {
      "text/html": [
       "<table class=\"dataframe\">\n",
       "<caption>A grouped_df: 4 × 7</caption>\n",
       "<thead>\n",
       "\t<tr><th scope=col>Relationship</th><th scope=col>Response</th><th scope=col>Avg_age</th><th scope=col>Avg_child</th><th scope=col>Avg_Income</th><th scope=col>Avg_spent</th><th scope=col>Avg_Customer</th></tr>\n",
       "\t<tr><th scope=col>&lt;chr&gt;</th><th scope=col>&lt;fct&gt;</th><th scope=col>&lt;dbl&gt;</th><th scope=col>&lt;dbl&gt;</th><th scope=col>&lt;dbl&gt;</th><th scope=col>&lt;dbl&gt;</th><th scope=col>&lt;dbl&gt;</th></tr>\n",
       "</thead>\n",
       "<tbody>\n",
       "\t<tr><td>No </td><td>0</td><td>53.30396</td><td>1.0110132</td><td>49468.10</td><td>457.6101</td><td>490.0629</td></tr>\n",
       "\t<tr><td>No </td><td>1</td><td>52.34646</td><td>0.6062992</td><td>59510.13</td><td>875.7402</td><td>507.4049</td></tr>\n",
       "\t<tr><td>Yes</td><td>0</td><td>52.99791</td><td>0.9801670</td><td>52032.86</td><td>518.3894</td><td>492.0834</td></tr>\n",
       "\t<tr><td>Yes</td><td>1</td><td>51.57377</td><td>0.7131148</td><td>58827.84</td><td>920.5492</td><td>511.2869</td></tr>\n",
       "</tbody>\n",
       "</table>\n"
      ],
      "text/latex": [
       "A grouped\\_df: 4 × 7\n",
       "\\begin{tabular}{lllllll}\n",
       " Relationship & Response & Avg\\_age & Avg\\_child & Avg\\_Income & Avg\\_spent & Avg\\_Customer\\\\\n",
       " <chr> & <fct> & <dbl> & <dbl> & <dbl> & <dbl> & <dbl>\\\\\n",
       "\\hline\n",
       "\t No  & 0 & 53.30396 & 1.0110132 & 49468.10 & 457.6101 & 490.0629\\\\\n",
       "\t No  & 1 & 52.34646 & 0.6062992 & 59510.13 & 875.7402 & 507.4049\\\\\n",
       "\t Yes & 0 & 52.99791 & 0.9801670 & 52032.86 & 518.3894 & 492.0834\\\\\n",
       "\t Yes & 1 & 51.57377 & 0.7131148 & 58827.84 & 920.5492 & 511.2869\\\\\n",
       "\\end{tabular}\n"
      ],
      "text/markdown": [
       "\n",
       "A grouped_df: 4 × 7\n",
       "\n",
       "| Relationship &lt;chr&gt; | Response &lt;fct&gt; | Avg_age &lt;dbl&gt; | Avg_child &lt;dbl&gt; | Avg_Income &lt;dbl&gt; | Avg_spent &lt;dbl&gt; | Avg_Customer &lt;dbl&gt; |\n",
       "|---|---|---|---|---|---|---|\n",
       "| No  | 0 | 53.30396 | 1.0110132 | 49468.10 | 457.6101 | 490.0629 |\n",
       "| No  | 1 | 52.34646 | 0.6062992 | 59510.13 | 875.7402 | 507.4049 |\n",
       "| Yes | 0 | 52.99791 | 0.9801670 | 52032.86 | 518.3894 | 492.0834 |\n",
       "| Yes | 1 | 51.57377 | 0.7131148 | 58827.84 | 920.5492 | 511.2869 |\n",
       "\n"
      ],
      "text/plain": [
       "  Relationship Response Avg_age  Avg_child Avg_Income Avg_spent Avg_Customer\n",
       "1 No           0        53.30396 1.0110132 49468.10   457.6101  490.0629    \n",
       "2 No           1        52.34646 0.6062992 59510.13   875.7402  507.4049    \n",
       "3 Yes          0        52.99791 0.9801670 52032.86   518.3894  492.0834    \n",
       "4 Yes          1        51.57377 0.7131148 58827.84   920.5492  511.2869    "
      ]
     },
     "metadata": {},
     "output_type": "display_data"
    }
   ],
   "source": [
    "store_data_train |>\n",
    "    group_by(Relationship, Response) |>\n",
    "    summarize(Avg_age = mean(Age), Avg_child = mean(Childhome), Avg_Income = mean(Income),\n",
    "              Avg_spent = mean(Total_Spent), Avg_Customer = mean(Weeks_Customer))"
   ]
  },
  {
   "cell_type": "markdown",
   "id": "3098a7b4-5211-4629-81d7-b03cdc5abaa5",
   "metadata": {},
   "source": [
    "Here are the histograms for the factors."
   ]
  },
  {
   "cell_type": "code",
   "execution_count": 38,
   "id": "312544e4-6731-479b-a7a2-a7813a486f5e",
   "metadata": {},
   "outputs": [
    {
     "data": {
      "image/png": "[encoded data removed]",
      "text/plain": [
       "plot without title"
      ]
     },
     "metadata": {
      "image/png": {
       "height": 420,
       "width": 420
      }
     },
     "output_type": "display_data"
    },
    {
     "data": {
      "image/png": "[encoded data removed]",
      "text/plain": [
       "plot without title"
      ]
     },
     "metadata": {
      "image/png": {
       "height": 420,
       "width": 420
      }
     },
     "output_type": "display_data"
    },
    {
     "data": {
      "image/png": "[encoded data removed]",
      "text/plain": [
       "plot without title"
      ]
     },
     "metadata": {
      "image/png": {
       "height": 420,
       "width": 420
      }
     },
     "output_type": "display_data"
    },
    {
     "data": {
      "image/png": "[encoded data removed]",
      "text/plain": [
       "plot without title"
      ]
     },
     "metadata": {
      "image/png": {
       "height": 420,
       "width": 420
      }
     },
     "output_type": "display_data"
    },
    {
     "data": {
      "image/png": "[encoded data removed]",
      "text/plain": [
       "plot without title"
      ]
     },
     "metadata": {
      "image/png": {
       "height": 420,
       "width": 420
      }
     },
     "output_type": "display_data"
    }
   ],
   "source": [
    "age_hist <- store_data_train |>\n",
    "    ggplot(aes(x = Age)) +\n",
    "        geom_histogram(bins = 15)\n",
    "child_hist <- store_data_train |>\n",
    "    ggplot(aes(x = Childhome)) +\n",
    "        geom_histogram(bins = 4)\n",
    "income_hist <- store_data_train |>\n",
    "    filter(Income < 200000) |>\n",
    "    ggplot(aes(x = Income)) +\n",
    "        geom_histogram(bins = 30)\n",
    "spending_hist <- store_data_train |>\n",
    "    ggplot(aes(x = Total_Spent)) +\n",
    "        geom_histogram(bins = 15)\n",
    "weeks_hist <- store_data_train |>\n",
    "    ggplot(aes(x = Weeks_Customer)) +\n",
    "        geom_histogram(bins = 15)\n",
    "\n",
    "age_hist\n",
    "child_hist\n",
    "income_hist\n",
    "spending_hist\n",
    "weeks_hist"
   ]
  },
  {
   "cell_type": "code",
   "execution_count": null,
   "id": "b4a6f154-69b9-4a16-87d5-9227ddf2cf0a",
   "metadata": {},
   "outputs": [],
   "source": []
  }
 ],
 "metadata": {
  "kernelspec": {
   "display_name": "R",
   "language": "R",
   "name": "ir"
  },
  "language_info": {
   "codemirror_mode": "r",
   "file_extension": ".r",
   "mimetype": "text/x-r-source",
   "name": "R",
   "pygments_lexer": "r",
   "version": "4.1.3"
  }
 },
 "nbformat": 4,
 "nbformat_minor": 5
}
